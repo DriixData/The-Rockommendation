{
 "cells": [
  {
   "cell_type": "markdown",
   "metadata": {},
   "source": [
    "NETTOYAGE / FILTRAGE"
   ]
  },
  {
   "cell_type": "code",
   "execution_count": null,
   "metadata": {},
   "outputs": [],
   "source": [
    "# Name Basics\n",
    "\n",
    "'''\n",
    "Colonnes à supprimer : Aucune\n",
    "Lignes à supprimer:\n",
    "    - knownfortitle = /N\n",
    "    - primaryprofession = /N\n",
    "'''"
   ]
  },
  {
   "cell_type": "code",
   "execution_count": null,
   "metadata": {},
   "outputs": [],
   "source": [
    "# Title Akas\n",
    "\n",
    "'''\n",
    "Colonnes à supprimer : \n",
    "Lignes à supprimer: \n",
    "    - Faire un groupby par ID de film\n",
    "    - A voir plus tard pour filtrer avec un contains sur language et/ou région\n",
    "'''"
   ]
  },
  {
   "cell_type": "code",
   "execution_count": null,
   "metadata": {},
   "outputs": [],
   "source": [
    "# Title Basics\n",
    "\n",
    "'''\n",
    "Colonnes à supprimer : \n",
    "Lignes à supprimer: \n",
    "    - Titletype = movie\n",
    "    - A voir pour filtrer par années par la suite\n",
    "    - A voir pour filtrer selon durée des films (trop courts ou trop longs)\n",
    "    - isAdult = 1 et genre = adult (uniquement)\n",
    "    - Vérifier classification de Basic instinct\n",
    "\n",
    "'''"
   ]
  },
  {
   "cell_type": "code",
   "execution_count": null,
   "metadata": {},
   "outputs": [],
   "source": [
    "# Title Crew\n",
    "\n",
    "'''\n",
    "RAS\n",
    "'''"
   ]
  },
  {
   "cell_type": "code",
   "execution_count": null,
   "metadata": {},
   "outputs": [],
   "source": [
    "# Title Episodes\n",
    "\n",
    "'''\n",
    "A voir : concatener numberEpisode et numberSeason\n",
    "'''"
   ]
  },
  {
   "cell_type": "code",
   "execution_count": null,
   "metadata": {},
   "outputs": [],
   "source": [
    "# Title Principals\n",
    "\n",
    "'''\n",
    "Colonnes à supprimer : job, character\n",
    "'''"
   ]
  },
  {
   "cell_type": "code",
   "execution_count": null,
   "metadata": {},
   "outputs": [],
   "source": [
    "# Title Ratings\n",
    "\n",
    "'''\n",
    "RAS\n",
    "'''"
   ]
  },
  {
   "cell_type": "code",
   "execution_count": null,
   "metadata": {},
   "outputs": [],
   "source": [
    "# TMDB Full\n",
    "\n",
    "'''\n",
    "Colonnes à supprimer : \n",
    "Lignes à supprimer: \n",
    "'''"
   ]
  }
 ],
 "metadata": {
  "language_info": {
   "name": "python"
  }
 },
 "nbformat": 4,
 "nbformat_minor": 2
}
