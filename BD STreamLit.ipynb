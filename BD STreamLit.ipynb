{
 "cells": [
  {
   "cell_type": "markdown",
   "metadata": {},
   "source": [
    "NETTOYAGE / FILTRAGE"
   ]
  },
  {
   "cell_type": "code",
   "execution_count": 1,
   "metadata": {},
   "outputs": [],
   "source": [
    "import pandas as pd\n",
    "import numpy as np"
   ]
  },
  {
   "cell_type": "code",
   "execution_count": null,
   "metadata": {},
   "outputs": [],
   "source": [
    "# Name Basics\n",
    "\n",
    "'''\n",
    "Colonnes à supprimer : Aucune\n",
    "Lignes à supprimer:\n",
    "    - knownfortitle = /N\n",
    "    - primaryprofession = /N\n",
    "'''"
   ]
  },
  {
   "cell_type": "code",
   "execution_count": null,
   "metadata": {},
   "outputs": [],
   "source": [
    "# Title Akas\n",
    "\n",
    "'''\n",
    "Colonnes à supprimer : \n",
    "Lignes à supprimer: \n",
    "    - Faire un groupby par ID de film\n",
    "    - A voir plus tard pour filtrer avec un contains sur language et/ou région\n",
    "'''"
   ]
  },
  {
   "cell_type": "code",
   "execution_count": null,
   "metadata": {},
   "outputs": [],
   "source": [
    "# Title Basics\n",
    "\n",
    "'''\n",
    "Colonnes à supprimer : \n",
    "Lignes à supprimer: \n",
    "    - Titletype = movie\n",
    "    - A voir pour filtrer par années par la suite\n",
    "    - A voir pour filtrer selon durée des films (trop courts ou trop longs)\n",
    "    - isAdult = 1 et genre = adult (uniquement)\n",
    "    - Vérifier classification de Basic instinct\n",
    "\n",
    "'''"
   ]
  },
  {
   "cell_type": "code",
   "execution_count": null,
   "metadata": {},
   "outputs": [],
   "source": [
    "# Title Crew\n",
    "\n",
    "'''\n",
    "RAS\n",
    "'''"
   ]
  },
  {
   "cell_type": "code",
   "execution_count": null,
   "metadata": {},
   "outputs": [],
   "source": [
    "# Title Episodes\n",
    "\n",
    "'''\n",
    "A voir : concatener numberEpisode et numberSeason\n",
    "'''"
   ]
  },
  {
   "cell_type": "code",
   "execution_count": null,
   "metadata": {},
   "outputs": [],
   "source": [
    "# Title Principals\n",
    "\n",
    "'''\n",
    "Colonnes à supprimer : job, character\n",
    "'''"
   ]
  },
  {
   "cell_type": "code",
   "execution_count": null,
   "metadata": {},
   "outputs": [],
   "source": [
    "# Title Ratings\n",
    "\n",
    "'''\n",
    "RAS\n",
    "'''"
   ]
  },
  {
   "cell_type": "code",
   "execution_count": null,
   "metadata": {},
   "outputs": [],
   "source": [
    "link = \"./BD/tmdb_full.csv\"\n",
    "df_tmdb_full = pd.read_csv(link)\n",
    "\n",
    "df_tmdb_full['fr?'] = df_tmdb_full['spoken_languages'].apply(lambda x: 'fr' in x)\n",
    "df_fr = df_tmdb_full[df_tmdb_full['fr?']]\n",
    "link = \"./BD/title.akas.tsv.gz\"\n",
    "df_title_akas = pd.read_csv(link, compression = 'gzip', sep = '\\t')\n",
    "df_title_akas = df_title_akas[(df_title_akas['region'] == 'FR') | (df_title_akas['language'] == 'fr')]\n",
    "df_TMDB_AKAS = pd.merge(df_fr,\n",
    "                        df_title_akas,\n",
    "                        how = 'left',\n",
    "                        left_on = df_fr['imdb_id'],\n",
    "                        right_on = df_title_akas['titleId'])\n",
    "\n",
    "df_title_basics = pd.read_csv(\"BD/title.basics.tsv.gz\", compression = 'gzip', sep = '\\t')\n",
    "df_TMDB_AKAS = df_TMDB_AKAS.drop(['key_0'], axis = 1)\n",
    "df = pd.merge(df_TMDB_AKAS,\n",
    "              df_title_basics,\n",
    "              how = 'left',\n",
    "              left_on = df_TMDB_AKAS['imdb_id'],\n",
    "              right_on = df_title_basics['tconst'])\n",
    "df_title_crew = pd.read_csv(\"BD/title.crew.tsv.gz\", compression = 'gzip', sep = '\\t')\n",
    "df = df.drop(['key_0'], axis = 1)\n",
    "df = pd.merge(df,\n",
    "              df_title_crew,\n",
    "              how = 'left',\n",
    "              left_on = df['imdb_id'],\n",
    "              right_on = df_title_crew['tconst'])\n",
    "df_rate = pd.read_csv(\"BD/title.ratings.tsv.gz\", compression = 'gzip', sep = '\\t')\n",
    "df = df.drop(['key_0'], axis = 1)\n",
    "df = pd.merge(df,\n",
    "              df_rate,\n",
    "              how = 'left',\n",
    "              left_on = df['imdb_id'],\n",
    "              right_on = df_rate['tconst'])"
   ]
  }
 ],
 "metadata": {
  "kernelspec": {
   "display_name": "base",
   "language": "python",
   "name": "python3"
  },
  "language_info": {
   "codemirror_mode": {
    "name": "ipython",
    "version": 3
   },
   "file_extension": ".py",
   "mimetype": "text/x-python",
   "name": "python",
   "nbconvert_exporter": "python",
   "pygments_lexer": "ipython3",
   "version": "3.12.4"
  }
 },
 "nbformat": 4,
 "nbformat_minor": 2
}
