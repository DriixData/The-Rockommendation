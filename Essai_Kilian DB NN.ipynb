{
 "cells": [
  {
   "cell_type": "markdown",
   "metadata": {},
   "source": [
    "IMPORTS"
   ]
  },
  {
   "cell_type": "code",
   "execution_count": 198,
   "metadata": {},
   "outputs": [],
   "source": [
    "import pandas as pd\n",
    "import datetime as dt\n",
    "import numpy as np\n",
    "import ast\n",
    "import re"
   ]
  },
  {
   "cell_type": "markdown",
   "metadata": {},
   "source": [
    "FONCTIONS"
   ]
  },
  {
   "cell_type": "code",
   "execution_count": 199,
   "metadata": {},
   "outputs": [],
   "source": [
    "apparition_realisateur = 30\n",
    "apparition_acteur = 80"
   ]
  },
  {
   "cell_type": "code",
   "execution_count": 200,
   "metadata": {},
   "outputs": [],
   "source": [
    "colonnes_limite = {'production_companies_name' : [3, 2000],\n",
    "                    'title_debut' : [6, 3]}"
   ]
  },
  {
   "cell_type": "code",
   "execution_count": 201,
   "metadata": {},
   "outputs": [],
   "source": [
    "def name(liste_films, df):\n",
    "\n",
    "    df = df.drop(['ordering', 'category', 'job', 'characters'], axis = 1)\n",
    "    df['nconst'] = df['nconst'] + ', '\n",
    "    df = df.groupby('tconst').sum()\n",
    "    df = df.reset_index()\n",
    "\n",
    "    df = pd.merge(liste_films,\n",
    "                  df,\n",
    "                  left_on = 'film_id_out_KNN',\n",
    "                  right_on = 'tconst',\n",
    "                  how = 'left')\n",
    "\n",
    "    df = df.drop('film_id_out_KNN', axis = 1)\n",
    "    df['nconst'] = df['nconst'].astype(str)\n",
    "    df['nconst'] = df['nconst'].apply(lambda x : x.split(','))\n",
    "    df = df.explode('nconst')\n",
    "    df['tconst'] = df['tconst'] + ','\n",
    "    df = df.groupby('nconst').sum()\n",
    "    df = df.reset_index()\n",
    "    df = df[~(df['nconst']== ' ')]\n",
    "    df['nconst'] = df['nconst'].astype(str)\n",
    "    df['tconst'] = df['tconst'].astype(str)\n",
    "    df['nconst'] = df['nconst'].apply(lambda x : x.replace(' ', ''))\n",
    "    df['tconst'] = df['tconst'].apply(lambda x : x.replace(' ', ''))\n",
    "\n",
    "    return df"
   ]
  },
  {
   "cell_type": "code",
   "execution_count": 202,
   "metadata": {},
   "outputs": [],
   "source": [
    "def acteur_name(df):\n",
    "\n",
    "    df['tconst_y'] = df['tconst_y'].astype(str)\n",
    "    df['tconst'] = df['tconst_x'] + df['tconst_y']\n",
    "    df = df[['nconst', 'primaryName', 'tconst']]\n",
    "    df['tconst'] = df['tconst'].apply(lambda x : x.replace(' ', '').replace('[', '').replace(']', '').replace(\"'\", ''))\n",
    "    df['tconst'] = df['tconst'].apply(lambda x : x.split(','))\n",
    "    df = df.rename({'tconst': 'knownForTitles'}, axis = 1)\n",
    "    df = df.rename({'nconst': 'acteur'}, axis = 1)\n",
    "\n",
    "    return df"
   ]
  },
  {
   "cell_type": "code",
   "execution_count": 203,
   "metadata": {},
   "outputs": [],
   "source": [
    "def realisateur_name(df):\n",
    "    \n",
    "    df = df.groupby('nconst').sum()\n",
    "    df = df.reset_index()\n",
    "    df = pd.merge(df,\n",
    "                  df_title_crew,\n",
    "                  on = 'nconst',\n",
    "                  how = 'left')\n",
    "\n",
    "    df = df[~(df['nconst'] == 'nan')]\n",
    "    df['tconst_x'] = df['tconst_x'].astype(str)\n",
    "    df['tconst_y'] = df['tconst_y'].astype(str)\n",
    "    df['tconst'] = df['tconst_x'] + ',' + df['tconst_y']\n",
    "    df = df.drop(['tconst_y', 'tconst_x'], axis = 1)\n",
    "    df['tconst'] = df['tconst'].apply(lambda x : x.replace(' ', '').replace('[', '').replace(']', '').replace(\"'\", '').replace(\",,\", ','))\n",
    "    df['tconst'] = df['tconst'].astype(str)\n",
    "    df['tconst'] = df['tconst'].apply(lambda x : x.split(','))\n",
    "    df['tconst'] = df['tconst'].apply(lambda x : set(x))\n",
    "    df['tconst'] = df['tconst'].apply(lambda x : list(x))\n",
    "\n",
    "    df = pd.merge(df,\n",
    "                  df_name_basics,\n",
    "                  on = 'nconst',\n",
    "                  how = 'left')\n",
    "\n",
    "    df['tconst_x'] = df['tconst_x'].astype(str)\n",
    "    df['tconst_y'] = df['tconst_y'].astype(str)\n",
    "    df['tconst'] = df['tconst_x'] + ',' + df['tconst_y']\n",
    "    df = df.drop(['tconst_y', 'tconst_x'], axis = 1)\n",
    "    df['tconst'] = df['tconst'].apply(lambda x : x.replace(' ', '').replace('[', '').replace(']', '').replace(\"'\", '').replace(\",,\", ','))\n",
    "    df['tconst'] = df['tconst'].astype(str)\n",
    "    df['tconst'] = df['tconst'].apply(lambda x : x.split(','))\n",
    "    df['tconst'] = df['tconst'].apply(lambda x : set(x))\n",
    "    df['tconst'] = df['tconst'].apply(lambda x : list(x))\n",
    "\n",
    "    df = df.rename({'tconst': 'knownForTitles'}, axis = 1)\n",
    "    df = df.rename({'nconst': 'realisateurs'}, axis = 1)\n",
    "    df = df.explode('knownForTitles')\n",
    "    df = df[~(df['knownForTitles'] == '')]\n",
    "\n",
    "    return df"
   ]
  },
  {
   "cell_type": "code",
   "execution_count": 204,
   "metadata": {},
   "outputs": [],
   "source": [
    "def transfo_liste(x):\n",
    "  if isinstance(x, str):\n",
    "    return ast.literal_eval(x)\n",
    "  else:\n",
    "    return x"
   ]
  },
  {
   "cell_type": "code",
   "execution_count": 205,
   "metadata": {},
   "outputs": [],
   "source": [
    "def debut(titre):\n",
    "    titre = titre.lower().replace(' ', '')\n",
    "    titre_final = ''\n",
    "    for n in range(len(titre)):\n",
    "        if titre[n].isalpha():\n",
    "            titre_final += titre[n]\n",
    "    return titre_final[0:20]"
   ]
  },
  {
   "cell_type": "code",
   "execution_count": 206,
   "metadata": {},
   "outputs": [],
   "source": [
    "def len_pandas(x, colonne):\n",
    "    x_escaped = re.escape(x)\n",
    "    return df_films[df_films[f'{colonne}'].fillna('').str.contains(x_escaped, na=False, regex=True)].shape[0]"
   ]
  },
  {
   "cell_type": "code",
   "execution_count": 207,
   "metadata": {},
   "outputs": [],
   "source": [
    "def list_colonnes(df_films, colonne):\n",
    "\n",
    "    def debut2(titre):\n",
    "        titre = titre.lower().replace(' ', '')\n",
    "        titre_final = ''\n",
    "        for n in range(len(titre)):\n",
    "            if titre[n].isalpha() or titre[n].isnumeric():\n",
    "                titre_final += titre[n]\n",
    "            else:\n",
    "                break\n",
    "        if len(titre_final, colonne) > 20:\n",
    "            titre_final = titre_final[0:20]\n",
    "        return titre_final\n",
    "\n",
    "    if colonne in ['acteur_out_KNN', 'realisateurs_out_KNN', 'title_2', 'production_companies_name_out_KNN', 'genre_out_KNN']:\n",
    "        df_films[colonne] = df_films[colonne].astype(str)\n",
    "\n",
    "    if type(df_films[colonne].iloc[0]) == str:\n",
    "        if colonne == 'title_debut':\n",
    "            df_films[f'{colonne}2'] = df_films['title'].apply(lambda x: x.replace('\"', \"\").replace(\"[\", '').replace(\"]\", '').replace(\"'\", '').replace(\" \", '').lower())\n",
    "            df_films[f'{colonne}'] = df_films[f'{colonne}2'].apply(debut2) \n",
    "            df_films[f'{colonne}'] = df_films[f'{colonne}'].apply(lambda x : x.split(' '))\n",
    "        else:\n",
    "            df_films[f'{colonne}2'] = df_films[colonne].apply(lambda x: x.replace('\"', \"\").replace(\"[\", '').replace(\"]\", '').replace(\"'\", '').replace(\" \", '').lower())\n",
    "            df_films[f'{colonne}'] = df_films[f'{colonne}2'].apply(lambda x : x.split(','))"
   ]
  },
  {
   "cell_type": "code",
   "execution_count": null,
   "metadata": {},
   "outputs": [],
   "source": [
    "limite_realisateurs = 80\n",
    "limite_acteur = 150\n",
    "limite_production_companies_name = 50"
   ]
  },
  {
   "cell_type": "code",
   "execution_count": 220,
   "metadata": {},
   "outputs": [],
   "source": [
    "def liste_recurrence(colonne):\n",
    "    tous_les_genres = set()\n",
    "\n",
    "    for genres in df_films[colonne] :\n",
    "        tous_les_genres.update(genres)\n",
    "    tous_les_genres = list(tous_les_genres)\n",
    "\n",
    "    if \"\" in tous_les_genres:\n",
    "        tous_les_genres.remove(\"\")\n",
    "\n",
    "    if colonne in colonnes_limite.keys():\n",
    "\n",
    "        last_list = []\n",
    "        for element in tous_les_genres:\n",
    "            if len(element) >= colonnes_limite[colonne][0]:\n",
    "                last_list.append(element)\n",
    "        tous_les_genres = last_list\n",
    "\n",
    "    if colonne == 'production_companies_name_out_KNN':\n",
    "        df_films['production_companies_name_Marvel'] = df_films['production_companies_name_out_KNN2'].apply(lambda x: 'marvel' in x)\n",
    "        df_films['production_companies_name_Disney'] = df_films['production_companies_name_out_KNN2'].apply(lambda x: 'disney' in x)\n",
    "\n",
    "    dict_real = {}\n",
    "\n",
    "    for element in tous_les_genres:\n",
    "        dict_real.update({element : len_pandas(element, colonne)})\n",
    "\n",
    "    sorted_dict_real = dict(sorted(dict_real.items(), key=lambda item:item[1], reverse = True))\n",
    "\n",
    "    if 'nan' in sorted_dict_real.keys():\n",
    "        sorted_dict_real.pop('nan')\n",
    "\n",
    "    list_real = list(sorted_dict_real.keys())\n",
    "\n",
    "    return list_real\n",
    "\n"
   ]
  },
  {
   "cell_type": "code",
   "execution_count": 209,
   "metadata": {},
   "outputs": [],
   "source": [
    "def bool_colonnes(df_films, liste, colonne):\n",
    "\n",
    "    for genre in liste:\n",
    "        df_films[f'{colonne}_{genre}'] = df_films[f'{colonne}'].apply(lambda x: genre in x)\n",
    "\n",
    "    # df_films = df_films.drop(f'{colonne}2', axis = 1)\n",
    "    # df_films = df_films.drop(colonne, axis = 1)\n",
    "    df_films = df_films.rename({colonne: f'{colonne}_out_KNN'})"
   ]
  },
  {
   "cell_type": "code",
   "execution_count": 210,
   "metadata": {},
   "outputs": [],
   "source": [
    "def transfo_col_bool(df_films):\n",
    "\n",
    "    df_films_not_bool = df_films.select_dtypes(exclude = 'bool')\n",
    "    df_films_bool = df_films.select_dtypes(include = 'bool')\n",
    "    df_films_bool = df_films_bool.astype(str)\n",
    "    df_films_bool = df_films_bool.replace('True', '1').replace('False', '0')\n",
    "    df_films_bool = df_films_bool.astype(int)\n",
    "    df_films = pd.concat([df_films_not_bool, df_films_bool], axis = 1)\n",
    "    df_films_not_bool, df_films_bool = 0, 0\n",
    "\n",
    "    return df_films"
   ]
  },
  {
   "cell_type": "markdown",
   "metadata": {},
   "source": [
    "BASES ET MERGES"
   ]
  },
  {
   "cell_type": "code",
   "execution_count": 14,
   "metadata": {},
   "outputs": [
    {
     "name": "stderr",
     "output_type": "stream",
     "text": [
      "/var/folders/2b/18xblx_n4lv24wz932vjckrm0000gp/T/ipykernel_20989/3595914245.py:1: DtypeWarning: Columns (7) have mixed types. Specify dtype option on import or set low_memory=False.\n",
      "  df_title_basics = pd.read_csv('BD/title.basics.tsv.gz', compression = 'gzip', sep = '\\t', na_values= ['\\\\N'])\n"
     ]
    }
   ],
   "source": [
    "df_title_basics = pd.read_csv('BD/title.basics.tsv.gz', compression = 'gzip', sep = '\\t', na_values= ['\\\\N'])"
   ]
  },
  {
   "cell_type": "code",
   "execution_count": 15,
   "metadata": {},
   "outputs": [],
   "source": [
    "df_title_ratings = pd.read_csv('BD/title.ratings.tsv.gz', compression = 'gzip', sep = '\\t', na_values= ['\\\\N'])"
   ]
  },
  {
   "cell_type": "code",
   "execution_count": 16,
   "metadata": {},
   "outputs": [],
   "source": [
    "df1 = pd.merge(df_title_basics,\n",
    "               df_title_ratings,\n",
    "               how = 'outer',\n",
    "               on = 'tconst')"
   ]
  },
  {
   "cell_type": "code",
   "execution_count": 17,
   "metadata": {},
   "outputs": [],
   "source": [
    "df_title_ratings, df_title_basics = 0, 0"
   ]
  },
  {
   "cell_type": "code",
   "execution_count": 18,
   "metadata": {},
   "outputs": [
    {
     "name": "stderr",
     "output_type": "stream",
     "text": [
      "/var/folders/2b/18xblx_n4lv24wz932vjckrm0000gp/T/ipykernel_20989/2474832937.py:1: DtypeWarning: Columns (6) have mixed types. Specify dtype option on import or set low_memory=False.\n",
      "  df_title_akas = pd.read_csv('BD/title.akas.tsv.gz', compression = 'gzip', sep = '\\t', na_values= ['\\\\N'])\n"
     ]
    }
   ],
   "source": [
    "df_title_akas = pd.read_csv('BD/title.akas.tsv.gz', compression = 'gzip', sep = '\\t', na_values= ['\\\\N'])"
   ]
  },
  {
   "cell_type": "code",
   "execution_count": 19,
   "metadata": {},
   "outputs": [],
   "source": [
    "df_3 = pd.merge(df1,\n",
    "                df_title_akas,\n",
    "                how = 'outer',\n",
    "                left_on = 'tconst',\n",
    "                right_on = 'titleId')"
   ]
  },
  {
   "cell_type": "code",
   "execution_count": 20,
   "metadata": {},
   "outputs": [],
   "source": [
    "# ON GARDE QUE LES FILMS\n",
    "\n",
    "df_3 = df_3[(df_3['titleType'] == 'movie')]"
   ]
  },
  {
   "cell_type": "code",
   "execution_count": 21,
   "metadata": {},
   "outputs": [],
   "source": [
    "df1, df_title_akas = 0, 0"
   ]
  },
  {
   "cell_type": "code",
   "execution_count": 22,
   "metadata": {},
   "outputs": [
    {
     "name": "stderr",
     "output_type": "stream",
     "text": [
      "/var/folders/2b/18xblx_n4lv24wz932vjckrm0000gp/T/ipykernel_20989/2845617658.py:1: DtypeWarning: Columns (24) have mixed types. Specify dtype option on import or set low_memory=False.\n",
      "  df_tmbd_full = pd.read_csv('BD/tmdb_full.csv', na_values= ['\\\\N'])\n"
     ]
    }
   ],
   "source": [
    "df_tmbd_full = pd.read_csv('BD/tmdb_full.csv', na_values= ['\\\\N'])"
   ]
  },
  {
   "cell_type": "code",
   "execution_count": 23,
   "metadata": {},
   "outputs": [],
   "source": [
    "df_films = pd.merge(df_tmbd_full,\n",
    "                df_3,\n",
    "                how = 'outer',\n",
    "                left_on = 'imdb_id',\n",
    "                right_on = 'tconst')"
   ]
  },
  {
   "cell_type": "code",
   "execution_count": 24,
   "metadata": {},
   "outputs": [],
   "source": [
    "df_tmbd_full, df_3 = 0, 0"
   ]
  },
  {
   "cell_type": "markdown",
   "metadata": {},
   "source": [
    "COLONNES NUMERIQUES"
   ]
  },
  {
   "cell_type": "code",
   "execution_count": 25,
   "metadata": {},
   "outputs": [],
   "source": [
    "# On remplit les cellules vides par 0\n",
    "\n",
    "df_films[['runtimeMinutes', 'budget', 'popularity', 'revenue', 'runtime', 'vote_average', 'vote_count', 'startYear', 'endYear', 'averageRating', 'numVotes']] = df_films[['runtimeMinutes', 'budget', 'popularity', 'revenue', 'runtime', 'vote_average', 'vote_count', 'startYear', 'endYear', 'averageRating', 'numVotes']].fillna(0)"
   ]
  },
  {
   "cell_type": "code",
   "execution_count": 26,
   "metadata": {},
   "outputs": [],
   "source": [
    "# On remplace les '\\\\N' par 0\n",
    "\n",
    "df_films[['runtimeMinutes', 'budget', 'popularity', 'revenue', 'runtime', 'vote_average', 'vote_count', 'startYear', 'endYear', 'averageRating', 'numVotes']] = df_films[['runtimeMinutes', 'budget', 'popularity', 'revenue', 'runtime', 'vote_average', 'vote_count', 'startYear', 'endYear', 'averageRating', 'numVotes']].replace('\\\\N', 0)"
   ]
  },
  {
   "cell_type": "code",
   "execution_count": 27,
   "metadata": {},
   "outputs": [],
   "source": [
    "# On met ces colonnes au format numérique\n",
    "\n",
    "df_films[['runtimeMinutes', 'budget', 'popularity', 'revenue', 'runtime', 'vote_average', 'vote_count', 'startYear', 'endYear', 'averageRating', 'numVotes']] = df_films[['runtimeMinutes', 'budget', 'popularity', 'revenue', 'runtime', 'vote_average', 'vote_count', 'startYear', 'endYear', 'averageRating', 'numVotes']].apply(pd.to_numeric)"
   ]
  },
  {
   "cell_type": "code",
   "execution_count": 28,
   "metadata": {},
   "outputs": [],
   "source": [
    "# On transforme les types de données pour 'release_date'\n",
    "\n",
    "df_films['release_date'] = pd.to_datetime(df_films['release_date'])\n",
    "df_films['release_date'] = df_films['release_date'].replace('\\\\N', 0)\n",
    "df_films['release_date'] = df_films['release_date'].dt.year"
   ]
  },
  {
   "cell_type": "code",
   "execution_count": 29,
   "metadata": {},
   "outputs": [],
   "source": [
    "# On transforme les types de données pour 'startYear'\n",
    "\n",
    "df_films['startYear'] = df_films['startYear'].replace('\\\\N', 0)\n",
    "df_films['startYear'] = pd.to_numeric(df_films['startYear'], downcast=\"integer\")"
   ]
  },
  {
   "cell_type": "code",
   "execution_count": 30,
   "metadata": {},
   "outputs": [],
   "source": [
    "# On crée la colonne year_exact\n",
    "\n",
    "df_films['year_exact'] = df_films[['release_date', 'startYear']].max(axis = 1)"
   ]
  },
  {
   "cell_type": "code",
   "execution_count": 31,
   "metadata": {},
   "outputs": [],
   "source": [
    "# On crée la colonne 'Decennie'\n",
    "\n",
    "df_films['Decennie'] = ''\n",
    "df_films['year_exact'] = df_films['year_exact'].fillna('0')\n",
    "df_films['year_exact'] = df_films['year_exact'].replace('nan', '0')\n",
    "df_films['year_exact'] = df_films['year_exact'].astype(str)"
   ]
  },
  {
   "cell_type": "code",
   "execution_count": 32,
   "metadata": {},
   "outputs": [],
   "source": [
    "df_films['Decennie'] = df_films['year_exact'].str[:3] + \"0\"\n",
    "df_films['year_exact'] = pd.to_numeric(df_films['year_exact'])\n",
    "df_films['Decennie'] = pd.to_numeric(df_films['Decennie'])"
   ]
  },
  {
   "cell_type": "markdown",
   "metadata": {},
   "source": [
    "RUNTIME"
   ]
  },
  {
   "cell_type": "code",
   "execution_count": 33,
   "metadata": {},
   "outputs": [],
   "source": [
    "# On met de côté les valeurs nulles\n",
    "\n",
    "df_null1 = df_films[((df_films['runtimeMinutes'].isna()) & (df_films['runtime'].isna()))]\n",
    "df_null2 = df_films[((df_films['runtimeMinutes'] == 0) & (df_films['runtime'] == 0))]\n",
    "df_null3 = df_films[((df_films['runtimeMinutes'] == 0) & (df_films['runtime'].isna()))]\n",
    "df_null4 = df_films[((df_films['runtimeMinutes'].isna()) & (df_films['runtime'] == 0))]"
   ]
  },
  {
   "cell_type": "code",
   "execution_count": 34,
   "metadata": {},
   "outputs": [],
   "source": [
    "df_null = pd.concat([df_null1, df_null2, df_null3, df_null4])"
   ]
  },
  {
   "cell_type": "code",
   "execution_count": 35,
   "metadata": {},
   "outputs": [],
   "source": [
    "df_null1, df_null2, df_null3, df_null4 = 0, 0, 0, 0"
   ]
  },
  {
   "cell_type": "code",
   "execution_count": 36,
   "metadata": {},
   "outputs": [],
   "source": [
    "# On prend les valeurs utiles\n",
    "\n",
    "df_utile = df_films[~((df_films['runtimeMinutes'].isna()) & (df_films['runtime'].isna()))]\n",
    "df_utile = df_utile[~((df_utile['runtimeMinutes'] == 0) & (df_utile['runtime'] == 0))]\n",
    "df_utile = df_utile[~((df_utile['runtimeMinutes'] == 0) & (df_utile['runtime'].isna()))]\n",
    "df_utile = df_utile[~((df_utile['runtimeMinutes'].isna()) & (df_utile['runtime'] == 0))]"
   ]
  },
  {
   "cell_type": "code",
   "execution_count": 37,
   "metadata": {},
   "outputs": [],
   "source": [
    "# Calcul différence de runtime des 2 tables\n",
    "\n",
    "df_utile['difference_runtime'] = abs(df_utile['runtime'] - df_utile['runtimeMinutes'])"
   ]
  },
  {
   "cell_type": "code",
   "execution_count": 38,
   "metadata": {},
   "outputs": [],
   "source": [
    "# On met de côté là où les 2 valeurs sont identiques\n",
    "\n",
    "df_a_garder_1 = df_utile[(df_utile['runtimeMinutes'] == df_utile['runtime'])]"
   ]
  },
  {
   "cell_type": "code",
   "execution_count": 39,
   "metadata": {},
   "outputs": [
    {
     "name": "stderr",
     "output_type": "stream",
     "text": [
      "/var/folders/2b/18xblx_n4lv24wz932vjckrm0000gp/T/ipykernel_20989/3570380868.py:2: SettingWithCopyWarning: \n",
      "A value is trying to be set on a copy of a slice from a DataFrame.\n",
      "Try using .loc[row_indexer,col_indexer] = value instead\n",
      "\n",
      "See the caveats in the documentation: https://pandas.pydata.org/pandas-docs/stable/user_guide/indexing.html#returning-a-view-versus-a-copy\n",
      "  df_a_garder_1['runtime_exact'] = df_a_garder_1['runtimeMinutes']\n"
     ]
    }
   ],
   "source": [
    "# Création colonne RuntimeExact\n",
    "df_a_garder_1['runtime_exact'] = df_a_garder_1['runtimeMinutes']\n",
    "\n",
    "df_a_travailler_1 = df_utile[~(df_utile['runtimeMinutes'] == df_utile['runtime'])]"
   ]
  },
  {
   "cell_type": "code",
   "execution_count": 40,
   "metadata": {},
   "outputs": [],
   "source": [
    "# On met de côté là où une valeur manque seulement\n",
    "\n",
    "df_a_garder_2 = df_a_travailler_1[((df_a_travailler_1['runtimeMinutes'].isna()) | (df_a_travailler_1['runtime'].isna())| (df_a_travailler_1['runtime'] == 0) | (df_a_travailler_1['runtimeMinutes'] == 0))]"
   ]
  },
  {
   "cell_type": "code",
   "execution_count": 41,
   "metadata": {},
   "outputs": [
    {
     "name": "stderr",
     "output_type": "stream",
     "text": [
      "/var/folders/2b/18xblx_n4lv24wz932vjckrm0000gp/T/ipykernel_20989/3521993277.py:3: SettingWithCopyWarning: \n",
      "A value is trying to be set on a copy of a slice from a DataFrame.\n",
      "Try using .loc[row_indexer,col_indexer] = value instead\n",
      "\n",
      "See the caveats in the documentation: https://pandas.pydata.org/pandas-docs/stable/user_guide/indexing.html#returning-a-view-versus-a-copy\n",
      "  df_a_garder_2['runtime_exact'] = df_a_garder_2[['runtimeMinutes', 'runtime']].max(axis = 1)\n"
     ]
    }
   ],
   "source": [
    "# On conserve la donnée existante\n",
    "\n",
    "df_a_garder_2['runtime_exact'] = df_a_garder_2[['runtimeMinutes', 'runtime']].max(axis = 1)"
   ]
  },
  {
   "cell_type": "code",
   "execution_count": 42,
   "metadata": {},
   "outputs": [
    {
     "name": "stderr",
     "output_type": "stream",
     "text": [
      "/var/folders/2b/18xblx_n4lv24wz932vjckrm0000gp/T/ipykernel_20989/1261991755.py:2: SettingWithCopyWarning: \n",
      "A value is trying to be set on a copy of a slice from a DataFrame.\n",
      "Try using .loc[row_indexer,col_indexer] = value instead\n",
      "\n",
      "See the caveats in the documentation: https://pandas.pydata.org/pandas-docs/stable/user_guide/indexing.html#returning-a-view-versus-a-copy\n",
      "  df_a_travailler_2['difference_runtime'] = abs(df_a_travailler_2['runtime'] - df_a_travailler_2['runtimeMinutes'])\n"
     ]
    }
   ],
   "source": [
    "df_a_travailler_2 = df_a_travailler_1[~((df_a_travailler_1['runtimeMinutes'].isna()) | (df_a_travailler_1['runtime'].isna())| (df_a_travailler_1['runtime'] == 0) | (df_a_travailler_1['runtimeMinutes'] == 0))]\n",
    "df_a_travailler_2['difference_runtime'] = abs(df_a_travailler_2['runtime'] - df_a_travailler_2['runtimeMinutes'])"
   ]
  },
  {
   "cell_type": "code",
   "execution_count": 43,
   "metadata": {},
   "outputs": [],
   "source": [
    "# On met de côté là où la différence de durée est négligeable\n",
    "\n",
    "df_a_garder_3 = df_a_travailler_2[df_a_travailler_2['difference_runtime'] <= 20]"
   ]
  },
  {
   "cell_type": "code",
   "execution_count": 44,
   "metadata": {},
   "outputs": [
    {
     "name": "stderr",
     "output_type": "stream",
     "text": [
      "/var/folders/2b/18xblx_n4lv24wz932vjckrm0000gp/T/ipykernel_20989/880983650.py:3: SettingWithCopyWarning: \n",
      "A value is trying to be set on a copy of a slice from a DataFrame.\n",
      "Try using .loc[row_indexer,col_indexer] = value instead\n",
      "\n",
      "See the caveats in the documentation: https://pandas.pydata.org/pandas-docs/stable/user_guide/indexing.html#returning-a-view-versus-a-copy\n",
      "  df_a_garder_3['runtime_exact'] = df_a_garder_3[['runtimeMinutes', 'runtime']].max(axis = 1)\n"
     ]
    }
   ],
   "source": [
    "# On prend comme base la valeur max des 2 colonnes\n",
    "\n",
    "df_a_garder_3['runtime_exact'] = df_a_garder_3[['runtimeMinutes', 'runtime']].max(axis = 1)"
   ]
  },
  {
   "cell_type": "code",
   "execution_count": 45,
   "metadata": {},
   "outputs": [],
   "source": [
    "df_a_travailler_3 = df_a_travailler_2[~(df_a_travailler_2['difference_runtime'] <= 20)]"
   ]
  },
  {
   "cell_type": "code",
   "execution_count": 46,
   "metadata": {},
   "outputs": [
    {
     "name": "stderr",
     "output_type": "stream",
     "text": [
      "/var/folders/2b/18xblx_n4lv24wz932vjckrm0000gp/T/ipykernel_20989/264539281.py:3: SettingWithCopyWarning: \n",
      "A value is trying to be set on a copy of a slice from a DataFrame.\n",
      "Try using .loc[row_indexer,col_indexer] = value instead\n",
      "\n",
      "See the caveats in the documentation: https://pandas.pydata.org/pandas-docs/stable/user_guide/indexing.html#returning-a-view-versus-a-copy\n",
      "  df_a_travailler_3['runtime_exact'] = df_a_travailler_3[['runtimeMinutes', 'runtime']].max(axis = 1)\n"
     ]
    }
   ],
   "source": [
    "# Pour le restant des données, on conserve la valeur max des 2 colonnes\n",
    "\n",
    "df_a_travailler_3['runtime_exact'] = df_a_travailler_3[['runtimeMinutes', 'runtime']].max(axis = 1)\n",
    "df_a_garder_4 = df_a_travailler_3"
   ]
  },
  {
   "cell_type": "code",
   "execution_count": 47,
   "metadata": {},
   "outputs": [],
   "source": [
    "df_final = pd.concat([df_a_garder_1, df_a_garder_2, df_a_garder_3, df_a_garder_4])"
   ]
  },
  {
   "cell_type": "code",
   "execution_count": 48,
   "metadata": {},
   "outputs": [],
   "source": [
    "df_a_travailler_1, df_a_travailler_2, df_a_travailler_3 = 0, 0, 0\n",
    "df_a_garder_1, df_a_garder_2, df_a_garder_3, df_a_garder_4 = 0, 0, 0, 0"
   ]
  },
  {
   "cell_type": "code",
   "execution_count": 49,
   "metadata": {},
   "outputs": [],
   "source": [
    "df_films = pd.concat([df_final, df_null])"
   ]
  },
  {
   "cell_type": "code",
   "execution_count": 50,
   "metadata": {},
   "outputs": [],
   "source": [
    "df_final, df_null = 0, 0"
   ]
  },
  {
   "cell_type": "markdown",
   "metadata": {},
   "source": [
    "VOTES"
   ]
  },
  {
   "cell_type": "code",
   "execution_count": 51,
   "metadata": {},
   "outputs": [],
   "source": [
    "# On met de côté les valeurs inutiles\n",
    "\n",
    "df_null5 = df_films[((df_films['vote_average'].isna()) & (df_films['averageRating'].isna()))]\n",
    "df_null6 = df_films[((df_films['vote_average'] == 0) & (df_films['averageRating'] == 0))]\n",
    "df_null7 = df_films[((df_films['vote_average'] == 0) & (df_films['averageRating'].isna()))]\n",
    "df_null8 = df_films[((df_films['vote_average'].isna()) & (df_films['averageRating'] == 0))]"
   ]
  },
  {
   "cell_type": "code",
   "execution_count": 52,
   "metadata": {},
   "outputs": [],
   "source": [
    "df_null9 = pd.concat([df_null5, df_null6, df_null7, df_null8])"
   ]
  },
  {
   "cell_type": "code",
   "execution_count": 53,
   "metadata": {},
   "outputs": [],
   "source": [
    "df_null5, df_null6, df_null7, df_null8 = 0, 0, 0, 0"
   ]
  },
  {
   "cell_type": "code",
   "execution_count": 54,
   "metadata": {},
   "outputs": [],
   "source": [
    "# On prend les valeurs utiles\n",
    "\n",
    "df_ratings = df_films[~((df_films['vote_average'].isna()) & (df_films['averageRating'].isna()))]\n",
    "df_ratings = df_ratings[~((df_ratings['vote_average'] == 0) & (df_ratings['averageRating'] == 0))]\n",
    "df_ratings = df_ratings[~((df_ratings['vote_average'] == 0) & (df_ratings['averageRating'].isna()))]\n",
    "df_ratings = df_ratings[~((df_ratings['vote_average'].isna()) & (df_ratings['averageRating'] == 0))]"
   ]
  },
  {
   "cell_type": "code",
   "execution_count": 55,
   "metadata": {},
   "outputs": [],
   "source": [
    "df_ratings['vote_average'] = round(df_ratings['vote_average'], 1)"
   ]
  },
  {
   "cell_type": "code",
   "execution_count": 56,
   "metadata": {},
   "outputs": [],
   "source": [
    "# On met de côté là où les 2 valeurs sont identiques\n",
    "\n",
    "df_a_garder_1 = df_ratings[df_ratings['averageRating'] == df_ratings['vote_average']]\n",
    "df_a_travailler_1 = df_ratings[~(df_ratings['averageRating'] == df_ratings['vote_average'])]"
   ]
  },
  {
   "cell_type": "code",
   "execution_count": 57,
   "metadata": {},
   "outputs": [],
   "source": [
    "# On met de côté là où une valeur manque seulement\n",
    "\n",
    "df_a_garder_2 = df_a_travailler_1[(df_a_travailler_1['averageRating'].isna()) | (df_a_travailler_1['vote_average'].isna())| (df_a_travailler_1['vote_average'] == 0) | (df_a_travailler_1['averageRating'] == 0)]\n",
    "df_a_travailler_2 = df_a_travailler_1[~((df_a_travailler_1['averageRating'].isna()) | (df_a_travailler_1['vote_average'].isna())| (df_a_travailler_1['vote_average'] == 0) | (df_a_travailler_1['averageRating'] == 0))]"
   ]
  },
  {
   "cell_type": "code",
   "execution_count": 58,
   "metadata": {},
   "outputs": [
    {
     "name": "stderr",
     "output_type": "stream",
     "text": [
      "/var/folders/2b/18xblx_n4lv24wz932vjckrm0000gp/T/ipykernel_20989/2546417221.py:1: SettingWithCopyWarning: \n",
      "A value is trying to be set on a copy of a slice from a DataFrame.\n",
      "Try using .loc[row_indexer,col_indexer] = value instead\n",
      "\n",
      "See the caveats in the documentation: https://pandas.pydata.org/pandas-docs/stable/user_guide/indexing.html#returning-a-view-versus-a-copy\n",
      "  df_a_travailler_2['difference_vote'] = abs(df_a_travailler_2['averageRating'] - df_a_travailler_2['vote_average'])\n"
     ]
    }
   ],
   "source": [
    "df_a_travailler_2['difference_vote'] = abs(df_a_travailler_2['averageRating'] - df_a_travailler_2['vote_average'])"
   ]
  },
  {
   "cell_type": "code",
   "execution_count": 59,
   "metadata": {},
   "outputs": [],
   "source": [
    "# On met de côté là où la différence de durée est négligeable\n",
    "\n",
    "df_a_garder_3 = df_a_travailler_2[df_a_travailler_2['difference_vote'] <= 1]\n",
    "df_a_travailler_3 = df_a_travailler_2[df_a_travailler_2['difference_vote'] > 1]"
   ]
  },
  {
   "cell_type": "code",
   "execution_count": 60,
   "metadata": {},
   "outputs": [
    {
     "name": "stderr",
     "output_type": "stream",
     "text": [
      "/var/folders/2b/18xblx_n4lv24wz932vjckrm0000gp/T/ipykernel_20989/4062215657.py:1: SettingWithCopyWarning: \n",
      "A value is trying to be set on a copy of a slice from a DataFrame.\n",
      "Try using .loc[row_indexer,col_indexer] = value instead\n",
      "\n",
      "See the caveats in the documentation: https://pandas.pydata.org/pandas-docs/stable/user_guide/indexing.html#returning-a-view-versus-a-copy\n",
      "  df_a_travailler_3['vote_exact'] = ((df_a_travailler_3['vote_count'] * df_a_travailler_3['vote_average']) + (df_a_travailler_3['numVotes'] * df_a_travailler_3['averageRating'])) / (df_a_travailler_3['numVotes'] + df_a_travailler_3['vote_count'])\n",
      "/var/folders/2b/18xblx_n4lv24wz932vjckrm0000gp/T/ipykernel_20989/4062215657.py:2: SettingWithCopyWarning: \n",
      "A value is trying to be set on a copy of a slice from a DataFrame.\n",
      "Try using .loc[row_indexer,col_indexer] = value instead\n",
      "\n",
      "See the caveats in the documentation: https://pandas.pydata.org/pandas-docs/stable/user_guide/indexing.html#returning-a-view-versus-a-copy\n",
      "  df_a_travailler_3['vote_exact'] = round(df_a_travailler_3['vote_exact'], 1)\n"
     ]
    }
   ],
   "source": [
    "df_a_travailler_3['vote_exact'] = ((df_a_travailler_3['vote_count'] * df_a_travailler_3['vote_average']) + (df_a_travailler_3['numVotes'] * df_a_travailler_3['averageRating'])) / (df_a_travailler_3['numVotes'] + df_a_travailler_3['vote_count'])\n",
    "df_a_travailler_3['vote_exact'] = round(df_a_travailler_3['vote_exact'], 1)\n",
    "df_a_garder_4 = df_a_travailler_3"
   ]
  },
  {
   "cell_type": "code",
   "execution_count": 61,
   "metadata": {},
   "outputs": [
    {
     "name": "stderr",
     "output_type": "stream",
     "text": [
      "/var/folders/2b/18xblx_n4lv24wz932vjckrm0000gp/T/ipykernel_20989/3653439724.py:3: SettingWithCopyWarning: \n",
      "A value is trying to be set on a copy of a slice from a DataFrame.\n",
      "Try using .loc[row_indexer,col_indexer] = value instead\n",
      "\n",
      "See the caveats in the documentation: https://pandas.pydata.org/pandas-docs/stable/user_guide/indexing.html#returning-a-view-versus-a-copy\n",
      "  df_a_garder_1['vote_exact'] = df_a_garder_1[['averageRating', 'vote_average']].max(axis = 1)\n",
      "/var/folders/2b/18xblx_n4lv24wz932vjckrm0000gp/T/ipykernel_20989/3653439724.py:4: SettingWithCopyWarning: \n",
      "A value is trying to be set on a copy of a slice from a DataFrame.\n",
      "Try using .loc[row_indexer,col_indexer] = value instead\n",
      "\n",
      "See the caveats in the documentation: https://pandas.pydata.org/pandas-docs/stable/user_guide/indexing.html#returning-a-view-versus-a-copy\n",
      "  df_a_garder_2['vote_exact'] = df_a_garder_2[['averageRating', 'vote_average']].max(axis = 1)\n",
      "/var/folders/2b/18xblx_n4lv24wz932vjckrm0000gp/T/ipykernel_20989/3653439724.py:5: SettingWithCopyWarning: \n",
      "A value is trying to be set on a copy of a slice from a DataFrame.\n",
      "Try using .loc[row_indexer,col_indexer] = value instead\n",
      "\n",
      "See the caveats in the documentation: https://pandas.pydata.org/pandas-docs/stable/user_guide/indexing.html#returning-a-view-versus-a-copy\n",
      "  df_a_garder_3['vote_exact'] = df_a_garder_3[['averageRating', 'vote_average']].mean(axis = 1)\n"
     ]
    }
   ],
   "source": [
    "# On crée la colonne vote_exact pour garder la moyenne des votes\n",
    "\n",
    "df_a_garder_1['vote_exact'] = df_a_garder_1[['averageRating', 'vote_average']].max(axis = 1)\n",
    "df_a_garder_2['vote_exact'] = df_a_garder_2[['averageRating', 'vote_average']].max(axis = 1)\n",
    "df_a_garder_3['vote_exact'] = df_a_garder_3[['averageRating', 'vote_average']].mean(axis = 1)"
   ]
  },
  {
   "cell_type": "code",
   "execution_count": 62,
   "metadata": {},
   "outputs": [],
   "source": [
    "# On concatène tous les tableaux conservés\n",
    "\n",
    "df_final = pd.concat([df_a_garder_1, df_a_garder_2, df_a_garder_3, df_a_garder_4])\n",
    "df_final['arrondi_vote_exact'] = round(df_final['vote_exact'], 0)"
   ]
  },
  {
   "cell_type": "code",
   "execution_count": 63,
   "metadata": {},
   "outputs": [],
   "source": [
    "df_a_travailler_1, df_a_travailler_2, df_a_travailler_3 = 0, 0, 0\n",
    "df_a_garder_1, df_a_garder_2, df_a_garder_3, df_a_garder_4 = 0, 0, 0, 0"
   ]
  },
  {
   "cell_type": "code",
   "execution_count": 64,
   "metadata": {},
   "outputs": [],
   "source": [
    "df_films = pd.concat([df_final, df_null9])"
   ]
  },
  {
   "cell_type": "code",
   "execution_count": 65,
   "metadata": {},
   "outputs": [],
   "source": [
    "df_final, df_null9 = 0, 0"
   ]
  },
  {
   "cell_type": "markdown",
   "metadata": {},
   "source": [
    "GENRE"
   ]
  },
  {
   "cell_type": "code",
   "execution_count": 66,
   "metadata": {},
   "outputs": [],
   "source": [
    "df_films = df_films.rename(columns = {'genres_x' : 'genres_y', 'genres_y' : 'genres_x'})"
   ]
  },
  {
   "cell_type": "code",
   "execution_count": 67,
   "metadata": {},
   "outputs": [],
   "source": [
    "df_films[df_films[['genres_y', 'genres_x']] == '\\\\N'] = df_films[df_films[['genres_y', 'genres_x']] == '\\\\N'].replace('\\\\N', np.nan)"
   ]
  },
  {
   "cell_type": "code",
   "execution_count": 68,
   "metadata": {},
   "outputs": [],
   "source": [
    "df_films['genres_y'] = df_films['genres_y'].apply(transfo_liste)"
   ]
  },
  {
   "cell_type": "code",
   "execution_count": 69,
   "metadata": {},
   "outputs": [],
   "source": [
    "df_films['genres_y'] = df_films['genres_y'].apply(lambda x: x if (type(x) == list) else [])"
   ]
  },
  {
   "cell_type": "code",
   "execution_count": 70,
   "metadata": {},
   "outputs": [],
   "source": [
    "df_films['genres_x'] = df_films['genres_x'].str.replace(\",\", \", \")"
   ]
  },
  {
   "cell_type": "code",
   "execution_count": 71,
   "metadata": {},
   "outputs": [],
   "source": [
    "df_films['genres_x_list'] = df_films['genres_x'].fillna('').str.split(', ')"
   ]
  },
  {
   "cell_type": "code",
   "execution_count": 72,
   "metadata": {},
   "outputs": [],
   "source": [
    "df_films['genre'] = df_films.apply(lambda row: list(set(row['genres_y'] + row['genres_x_list'])),axis=1)"
   ]
  },
  {
   "cell_type": "code",
   "execution_count": 73,
   "metadata": {},
   "outputs": [],
   "source": [
    "df_films['genre'] = df_films['genre'].apply(lambda x: x if x != [] else np.nan)"
   ]
  },
  {
   "cell_type": "markdown",
   "metadata": {},
   "source": [
    "TITLE"
   ]
  },
  {
   "cell_type": "code",
   "execution_count": 74,
   "metadata": {},
   "outputs": [],
   "source": [
    "df_films['title'] = df_films['title_y'].fillna(df_films['title_x']).fillna(df_films['primaryTitle']).fillna(df_films['original_title']).fillna(df_films['originalTitle'])"
   ]
  },
  {
   "cell_type": "markdown",
   "metadata": {},
   "source": [
    "ADULT"
   ]
  },
  {
   "cell_type": "code",
   "execution_count": 75,
   "metadata": {},
   "outputs": [],
   "source": [
    "df_films['adult'] = (df_films['isAdult'] == 1) | df_films['adult']"
   ]
  },
  {
   "cell_type": "markdown",
   "metadata": {},
   "source": [
    "TCONST"
   ]
  },
  {
   "cell_type": "code",
   "execution_count": 76,
   "metadata": {},
   "outputs": [],
   "source": [
    "df_films['film_id'] = df_films['imdb_id'].fillna(df_films['tconst']).fillna(df_films['titleId'])"
   ]
  },
  {
   "cell_type": "markdown",
   "metadata": {},
   "source": [
    "VOTE COUNT"
   ]
  },
  {
   "cell_type": "code",
   "execution_count": 77,
   "metadata": {},
   "outputs": [],
   "source": [
    "df_films['vote_count_mean'] = (df_films['vote_count'] + df_films['numVotes'])/2"
   ]
  },
  {
   "cell_type": "markdown",
   "metadata": {},
   "source": [
    "FINAL LANGUAGE"
   ]
  },
  {
   "cell_type": "code",
   "execution_count": 78,
   "metadata": {},
   "outputs": [],
   "source": [
    "colonnes_y = ['production_countries', 'spoken_languages', 'production_companies_country']\n",
    "\n",
    "for cl in colonnes_y:\n",
    " \n",
    "    df_films[cl] = df_films[cl].apply(transfo_liste)\n",
    "    df_films[cl] = df_films[cl].apply(lambda x: x if (type(x) == list) else [])"
   ]
  },
  {
   "cell_type": "code",
   "execution_count": 79,
   "metadata": {},
   "outputs": [],
   "source": [
    "df_films['original_language_x_list'] = df_films['original_language'].fillna('').str.split(', ')"
   ]
  },
  {
   "cell_type": "code",
   "execution_count": 80,
   "metadata": {},
   "outputs": [],
   "source": [
    "df_films['language_x_list'] = df_films['language'].fillna('').str.split(', ')"
   ]
  },
  {
   "cell_type": "code",
   "execution_count": 81,
   "metadata": {},
   "outputs": [],
   "source": [
    "df_films['final_language'] = df_films.apply(lambda row: list(set(row['production_countries'] + row['spoken_languages'] + row['production_companies_country'] + row['original_language_x_list'] + row['language_x_list'])),axis=1)"
   ]
  },
  {
   "cell_type": "code",
   "execution_count": 82,
   "metadata": {},
   "outputs": [],
   "source": [
    "df_films['final_language'] = df_films['final_language'].apply(lambda x: x if x != [] else np.nan)"
   ]
  },
  {
   "cell_type": "code",
   "execution_count": 83,
   "metadata": {},
   "outputs": [],
   "source": [
    "df_films['final_language'] = df_films['final_language'].apply(lambda x: ', '.join(x) if type(x) == list else x)"
   ]
  },
  {
   "cell_type": "code",
   "execution_count": 84,
   "metadata": {},
   "outputs": [],
   "source": [
    "df_films = df_films[(df_films['final_language'].isna() == True) | (df_films['final_language'] == '') | (df_films['final_language'].str.contains('fr') == True) | (df_films['final_language'].str.contains('FR') == True)  | (df_films['final_language'].str.contains('us') == True) | (df_films['final_language'].str.contains('US') == True)]"
   ]
  },
  {
   "cell_type": "markdown",
   "metadata": {},
   "source": [
    "CLEAN FINAL DU MERGE ET GROUP BY"
   ]
  },
  {
   "cell_type": "code",
   "execution_count": 85,
   "metadata": {},
   "outputs": [],
   "source": [
    "df_str = df_films.select_dtypes(exclude = 'number')"
   ]
  },
  {
   "cell_type": "code",
   "execution_count": 86,
   "metadata": {},
   "outputs": [],
   "source": [
    "df_str['language_fr'] = df_str['final_language'].apply(lambda x : 1 if ('fr' in x or 'FR' in x) else 0)"
   ]
  },
  {
   "cell_type": "code",
   "execution_count": 87,
   "metadata": {},
   "outputs": [],
   "source": [
    "df_str = df_str.sort_values(by = 'language_fr', ascending = False)"
   ]
  },
  {
   "cell_type": "code",
   "execution_count": 88,
   "metadata": {},
   "outputs": [],
   "source": [
    "df_str_drop_dup = df_str.drop_duplicates(subset = ['film_id'], keep = 'first')"
   ]
  },
  {
   "cell_type": "code",
   "execution_count": 89,
   "metadata": {},
   "outputs": [],
   "source": [
    "df_num = pd.concat([df_films['film_id'], df_films.select_dtypes(include = 'number')], axis = 1)"
   ]
  },
  {
   "cell_type": "code",
   "execution_count": 90,
   "metadata": {},
   "outputs": [],
   "source": [
    "df_num = df_num.drop(['revenue', 'budget'], axis = 1)"
   ]
  },
  {
   "cell_type": "code",
   "execution_count": 91,
   "metadata": {},
   "outputs": [],
   "source": [
    "df_revenue_budget = df_films[['film_id', 'revenue', 'budget']]"
   ]
  },
  {
   "cell_type": "code",
   "execution_count": 92,
   "metadata": {},
   "outputs": [],
   "source": [
    "df_revenue_budget_gb = df_revenue_budget.groupby('film_id').max()"
   ]
  },
  {
   "cell_type": "code",
   "execution_count": 93,
   "metadata": {},
   "outputs": [],
   "source": [
    "df_num_gb = df_num.groupby('film_id').max()"
   ]
  },
  {
   "cell_type": "code",
   "execution_count": 94,
   "metadata": {},
   "outputs": [],
   "source": [
    "df_num2 = pd.merge(df_num_gb,\n",
    "                   df_revenue_budget_gb,\n",
    "                   how = 'outer',\n",
    "                   on = 'film_id')"
   ]
  },
  {
   "cell_type": "code",
   "execution_count": 95,
   "metadata": {},
   "outputs": [],
   "source": [
    "df_films = pd.merge(df_str_drop_dup,\n",
    "                   df_num2,\n",
    "                   on = 'film_id',\n",
    "                   how = 'left')"
   ]
  },
  {
   "cell_type": "code",
   "execution_count": 96,
   "metadata": {},
   "outputs": [],
   "source": [
    "df_num2, df_str_drop_dup, df_num_gb, df_revenue_budget_gb, df_revenue_budget, df_num, df_str = 0, 0, 0, 0, 0, 0, 0"
   ]
  },
  {
   "cell_type": "code",
   "execution_count": 97,
   "metadata": {},
   "outputs": [],
   "source": [
    "df_films = df_films[df_films['status'] == 'Released']"
   ]
  },
  {
   "cell_type": "code",
   "execution_count": 98,
   "metadata": {},
   "outputs": [],
   "source": [
    "df_films = df_films[~(df_films['vote_count_mean'] == 0)] # A voir si on le conserve\n",
    "df_films = df_films[~(df_films['year_exact'] == 0)]\n",
    "df_films = df_films[~(df_films['runtime_exact'].isna() == True)]\n",
    "df_films['region'] = df_films['region'].fillna('Unknown')"
   ]
  },
  {
   "cell_type": "markdown",
   "metadata": {},
   "source": [
    "CHANGEMENT POUR LANGUE FR"
   ]
  },
  {
   "cell_type": "code",
   "execution_count": 99,
   "metadata": {},
   "outputs": [],
   "source": [
    "df_films['prod_FR'] = df_films.apply(lambda row : 1 if 'FR' in row['production_companies_country'] else 0, axis = 1)"
   ]
  },
  {
   "cell_type": "markdown",
   "metadata": {},
   "source": [
    "CHANGEMENT POUR FILM US"
   ]
  },
  {
   "cell_type": "code",
   "execution_count": 100,
   "metadata": {},
   "outputs": [],
   "source": [
    "df_films['prod_US'] = df_films.apply(lambda row : 1 if 'US' in row['production_companies_country'] else 0, axis = 1)"
   ]
  },
  {
   "cell_type": "code",
   "execution_count": 101,
   "metadata": {},
   "outputs": [],
   "source": [
    "df1, df_3, df_a_garder_1, df_a_garder_2, df_a_garder_3, df_a_garder_4, df_a_travailler_1, df_a_travailler_2, df_a_travailler_3, df_final, df_null = 0, 0, 0, 0, 0, 0, 0, 0, 0, 0, 0"
   ]
  },
  {
   "cell_type": "code",
   "execution_count": 102,
   "metadata": {},
   "outputs": [
    {
     "name": "stderr",
     "output_type": "stream",
     "text": [
      "/var/folders/2b/18xblx_n4lv24wz932vjckrm0000gp/T/ipykernel_20989/3129310626.py:1: FutureWarning: Downcasting object dtype arrays on .fillna, .ffill, .bfill is deprecated and will change in a future version. Call result.infer_objects(copy=False) instead. To opt-in to the future behavior, set `pd.set_option('future.no_silent_downcasting', True)`\n",
      "  df_films[df_films.select_dtypes('number') == True] = df_films[df_films.select_dtypes('number') == True].fillna(0)\n"
     ]
    }
   ],
   "source": [
    "df_films[df_films.select_dtypes('number') == True] = df_films[df_films.select_dtypes('number') == True].fillna(0)"
   ]
  },
  {
   "cell_type": "code",
   "execution_count": 103,
   "metadata": {},
   "outputs": [],
   "source": [
    "df_films[['vote_exact', 'arrondi_vote_exact']] = df_films[['vote_exact', 'arrondi_vote_exact']].astype(float)"
   ]
  },
  {
   "cell_type": "code",
   "execution_count": 104,
   "metadata": {},
   "outputs": [],
   "source": [
    "df_films['titleType'] = df_films['titleType'].fillna('movie')"
   ]
  },
  {
   "cell_type": "code",
   "execution_count": 105,
   "metadata": {},
   "outputs": [
    {
     "name": "stderr",
     "output_type": "stream",
     "text": [
      "/var/folders/2b/18xblx_n4lv24wz932vjckrm0000gp/T/ipykernel_20989/3351577065.py:4: FutureWarning: Downcasting object dtype arrays on .fillna, .ffill, .bfill is deprecated and will change in a future version. Call result.infer_objects(copy=False) instead. To opt-in to the future behavior, set `pd.set_option('future.no_silent_downcasting', True)`\n",
      "  df_str = df_str.fillna(\"Unknown\")\n"
     ]
    }
   ],
   "source": [
    "df_num = df_films.select_dtypes(include = 'number')\n",
    "df_num = df_num.fillna(0)\n",
    "df_str = df_films.select_dtypes(exclude = 'number')\n",
    "df_str = df_str.fillna(\"Unknown\")"
   ]
  },
  {
   "cell_type": "code",
   "execution_count": 106,
   "metadata": {},
   "outputs": [],
   "source": [
    "df_films = pd.concat([df_num, df_str], axis = 1)"
   ]
  },
  {
   "cell_type": "code",
   "execution_count": 107,
   "metadata": {},
   "outputs": [],
   "source": [
    "df_str, df_num = 0, 0"
   ]
  },
  {
   "cell_type": "code",
   "execution_count": 108,
   "metadata": {},
   "outputs": [],
   "source": [
    "df_films = df_films[(df_films['final_language'].str.contains('fr') == True) | (df_films['final_language'].str.contains('FR') == True)]"
   ]
  },
  {
   "cell_type": "markdown",
   "metadata": {},
   "source": [
    "AJOUT TMDB FILMS"
   ]
  },
  {
   "cell_type": "code",
   "execution_count": 109,
   "metadata": {},
   "outputs": [
    {
     "name": "stderr",
     "output_type": "stream",
     "text": [
      "/var/folders/2b/18xblx_n4lv24wz932vjckrm0000gp/T/ipykernel_20989/2845617658.py:1: DtypeWarning: Columns (24) have mixed types. Specify dtype option on import or set low_memory=False.\n",
      "  df_tmbd_full = pd.read_csv('BD/tmdb_full.csv', na_values= ['\\\\N'])\n"
     ]
    }
   ],
   "source": [
    "df_tmbd_full = pd.read_csv('BD/tmdb_full.csv', na_values= ['\\\\N'])"
   ]
  },
  {
   "cell_type": "code",
   "execution_count": 110,
   "metadata": {},
   "outputs": [],
   "source": [
    "for element in df_tmbd_full.columns:\n",
    "    df_tmbd_full = df_tmbd_full.rename(columns = {element : f'{element}_tmdb'})\n",
    "\n",
    "for element in df_films.columns:\n",
    "    df_films = df_films.rename(columns = {element : f'{element}_df'})"
   ]
  },
  {
   "cell_type": "code",
   "execution_count": 111,
   "metadata": {},
   "outputs": [],
   "source": [
    "df_essai_tmdb = pd.merge(df_films,\n",
    "                         df_tmbd_full,\n",
    "                         how = 'outer',\n",
    "                         right_on = 'imdb_id_tmdb',\n",
    "                         left_on = 'film_id_df')"
   ]
  },
  {
   "cell_type": "code",
   "execution_count": 112,
   "metadata": {},
   "outputs": [],
   "source": [
    "df_essai_tmdb = df_essai_tmdb.drop(['language_fr_df', 'genres_y_df', 'genres_x_df', 'genres_x_list_df', 'original_title_df', 'title_x_df', 'titleType_df', 'titleId_df', 'title_y_df', 'original_title_tmdb', 'runtime_df', 'runtimeMinutes_df', 'difference_runtime_df', 'vote_average_df', 'difference_vote_df', 'vote_count_mean_df', 'vote_count_df', 'vote_count_mean_df'], axis = 1)"
   ]
  },
  {
   "cell_type": "code",
   "execution_count": 113,
   "metadata": {},
   "outputs": [],
   "source": [
    "df_essai_tmdb['title_final'] = df_essai_tmdb['title_df'].fillna(df_essai_tmdb['title_tmdb'])\n",
    "df_essai_tmdb = df_essai_tmdb.drop(['title_df', 'title_tmdb'], axis = 1)"
   ]
  },
  {
   "cell_type": "code",
   "execution_count": 114,
   "metadata": {},
   "outputs": [],
   "source": [
    "df_essai_tmdb['film_id_final'] = df_essai_tmdb['film_id_df'].fillna(df_essai_tmdb['imdb_id_tmdb'])\n",
    "df_essai_tmdb = df_essai_tmdb.drop(['film_id_df', 'imdb_id_tmdb'], axis = 1)"
   ]
  },
  {
   "cell_type": "code",
   "execution_count": 115,
   "metadata": {},
   "outputs": [],
   "source": [
    "df_essai_tmdb = df_essai_tmdb.rename({'genre_df' : 'genre_final',\n",
    "                                      'production_companies_name_df' : 'production_companies_name_final'}, axis = 1)"
   ]
  },
  {
   "cell_type": "code",
   "execution_count": 116,
   "metadata": {},
   "outputs": [],
   "source": [
    "df_essai_tmdb = df_essai_tmdb.sort_values(by = 'genre_final', ascending = False)"
   ]
  },
  {
   "cell_type": "code",
   "execution_count": 117,
   "metadata": {},
   "outputs": [],
   "source": [
    "df_essai_tmdb = df_essai_tmdb.drop_duplicates(subset = 'film_id_final', keep = 'first')"
   ]
  },
  {
   "cell_type": "code",
   "execution_count": 118,
   "metadata": {},
   "outputs": [
    {
     "name": "stderr",
     "output_type": "stream",
     "text": [
      "/var/folders/2b/18xblx_n4lv24wz932vjckrm0000gp/T/ipykernel_20989/1771107541.py:1: DtypeWarning: Columns (19) have mixed types. Specify dtype option on import or set low_memory=False.\n",
      "  df = pd.read_csv('BD/P2_G5_films.csv.gz', compression = 'gzip')\n"
     ]
    }
   ],
   "source": [
    "df = pd.read_csv('BD/P2_G5_films.csv.gz', compression = 'gzip')\n",
    "colonnes_df = list(df.columns)\n",
    "colonnes_df_2 = []\n",
    "\n",
    "for element in colonnes_df:\n",
    "    if '_out_KNN' in element:\n",
    "        colonnes_df_2.append(element[:-8])\n",
    "    else:\n",
    "        colonnes_df_2.append(element)\n",
    "\n",
    "colonnes_df_2 = colonnes_df_2[0:24]"
   ]
  },
  {
   "cell_type": "code",
   "execution_count": 119,
   "metadata": {},
   "outputs": [],
   "source": [
    "df_essai_tmdb = df_essai_tmdb.rename({'release_date_tmdb' : 'year_tmdb',\n",
    "                                      'vote_average_tmdb' : 'vote_exact_tmdb'}, axis = 1)\n",
    "df_essai_tmdb['vote_exact_tmdb'] = df_essai_tmdb['vote_exact_tmdb'].astype(float)\n",
    "\n",
    "df_essai_tmdb['vote_exact_int_tmdb'] = ''\n",
    "df_essai_tmdb['vote_exact_int_tmdb'] = df_essai_tmdb['vote_exact_tmdb'].apply(lambda x : round(x, 0))\n",
    "df_essai_tmdb['arrondi_vote_exact_final'] = df_essai_tmdb['arrondi_vote_exact_df'].fillna(df_essai_tmdb['vote_exact_int_tmdb'])\n",
    "\n",
    "df_essai_tmdb['arrondi_vote_exact_final'] = df_essai_tmdb['arrondi_vote_exact_final'].astype(int)"
   ]
  },
  {
   "cell_type": "code",
   "execution_count": 120,
   "metadata": {},
   "outputs": [],
   "source": [
    "df_essai_tmdb['year_tmdb'] = pd.to_datetime(df_essai_tmdb['year_tmdb'])\n",
    "df_essai_tmdb['year_tmdb'] = df_essai_tmdb['year_tmdb'].apply(lambda x : x.year)\n",
    "df_essai_tmdb['year_tmdb'] = df_essai_tmdb['year_tmdb'].fillna(0)\n",
    "df_essai_tmdb['year_tmdb'] = df_essai_tmdb['year_tmdb'].astype(int)\n",
    "\n",
    "df_essai_tmdb['Decennie_tmdb'] = ''\n",
    "df_essai_tmdb['year_tmdb'] = df_essai_tmdb['year_tmdb'].fillna('0')\n",
    "df_essai_tmdb['year_tmdb'] = df_essai_tmdb['year_tmdb'].replace('nan', '0')\n",
    "df_essai_tmdb['year_tmdb'] = df_essai_tmdb['year_tmdb'].astype(str)\n",
    "df_essai_tmdb['Decennie_tmdb'] = df_essai_tmdb['year_tmdb'].str[:3] + \"0\"\n",
    "df_essai_tmdb['year_tmdb'] = pd.to_numeric(df_essai_tmdb['year_tmdb'])\n",
    "df_essai_tmdb['Decennie_tmdb'] = pd.to_numeric(df_essai_tmdb['Decennie_tmdb'])"
   ]
  },
  {
   "cell_type": "code",
   "execution_count": 121,
   "metadata": {},
   "outputs": [],
   "source": [
    "for element2 in colonnes_df_2:\n",
    "    for element in df_essai_tmdb.columns:\n",
    "        if 'final' not in element:\n",
    "            if element2 in element and 'int' not in element and 'arrondi' not in element and 'count' not in element :\n",
    "                if 'df' in element:\n",
    "                    df_essai_tmdb = df_essai_tmdb.rename({element : f'{element2}_df'}, axis = 1)\n",
    "                else:\n",
    "                    df_essai_tmdb = df_essai_tmdb.rename({element : f'{element2}_tmdb'}, axis = 1)"
   ]
  },
  {
   "cell_type": "code",
   "execution_count": 122,
   "metadata": {},
   "outputs": [],
   "source": [
    "for element in colonnes_df_2:\n",
    "    for element2 in df_essai_tmdb.columns:\n",
    "        if 'final' not in element:\n",
    "            if element in element2:\n",
    "                df_essai_tmdb[element2] = df_essai_tmdb[element2].astype(str)\n",
    "                df_essai_tmdb[element2] = df_essai_tmdb[element2].apply(lambda x : x.replace(' ', '').replace('[', '').replace(']', '').replace(\"'\", '').replace(\",,\", ',').replace('nan', ''))\n",
    "                df_essai_tmdb[element2] = df_essai_tmdb[element2].apply(lambda x : np.nan if x == '' else x)"
   ]
  },
  {
   "cell_type": "code",
   "execution_count": 123,
   "metadata": {},
   "outputs": [],
   "source": [
    "for element2 in colonnes_df_2:\n",
    "    for element in df_essai_tmdb.columns:\n",
    "        if 'final' not in element:\n",
    "            if element2 in element :\n",
    "                if f'{element2}_df' in df_essai_tmdb.columns and f'{element2}_tmdb' in df_essai_tmdb.columns:\n",
    "                    df_essai_tmdb[f'{element2}_final'] = df_essai_tmdb[f'{element2}_df'].fillna(df_essai_tmdb[f'{element2}_tmdb'])\n",
    "                    df_essai_tmdb = df_essai_tmdb.drop(f'{element2}_df', axis = 1)\n",
    "                    df_essai_tmdb = df_essai_tmdb.drop(f'{element2}_tmdb', axis = 1)\n",
    "                elif f'{element2}_df' in df_essai_tmdb.columns and f'{element2}_tmdb' not in df_essai_tmdb.columns:\n",
    "                    df_essai_tmdb[f'{element2}_final'] = df_essai_tmdb[f'{element2}_df']\n",
    "                    df_essai_tmdb = df_essai_tmdb.drop(f'{element2}_df', axis = 1)\n",
    "                elif f'{element2}_df' not in df_essai_tmdb.columns and f'{element2}_tmdb' in df_essai_tmdb.columns:\n",
    "                    df_essai_tmdb[f'{element2}_final'] = df_essai_tmdb[f'{element2}_tmdb']\n",
    "                    df_essai_tmdb = df_essai_tmdb.drop(f'{element2}_tmdb', axis = 1)"
   ]
  },
  {
   "cell_type": "code",
   "execution_count": 124,
   "metadata": {},
   "outputs": [],
   "source": [
    "colonnes = []\n",
    "for element in df_essai_tmdb.columns:\n",
    "    if element[-5:] == 'final':\n",
    "        colonnes.append(element[:-6])\n",
    "        df_essai_tmdb = df_essai_tmdb.rename({element : element[:-6]}, axis =1)\n",
    "\n",
    "df_essai_tmdb = df_essai_tmdb[colonnes]"
   ]
  },
  {
   "cell_type": "code",
   "execution_count": 125,
   "metadata": {},
   "outputs": [],
   "source": [
    "df_essai_tmdb = df_essai_tmdb.rename({'genre' : 'genre_out_KNN',\n",
    "                                      'title' : 'title_out_KNN',\n",
    "                                      'film_id': 'film_id_out_KNN',\n",
    "                                      'production_companies_name' : 'production_companies_name_out_KNN',\n",
    "                                      'arrondi_vote_exact' : 'arrondi_vote_exact_out_KNN'}, axis = 1)"
   ]
  },
  {
   "cell_type": "code",
   "execution_count": 126,
   "metadata": {},
   "outputs": [],
   "source": [
    "df_films = df_essai_tmdb"
   ]
  },
  {
   "cell_type": "markdown",
   "metadata": {},
   "source": [
    "COLONNES ACTEUR ET REALISATEUR"
   ]
  },
  {
   "cell_type": "code",
   "execution_count": 128,
   "metadata": {},
   "outputs": [],
   "source": [
    "liste_films = pd.DataFrame(df_films['film_id_out_KNN'])"
   ]
  },
  {
   "cell_type": "code",
   "execution_count": 129,
   "metadata": {},
   "outputs": [],
   "source": [
    "liste_films = liste_films.drop_duplicates()"
   ]
  },
  {
   "cell_type": "code",
   "execution_count": 130,
   "metadata": {},
   "outputs": [],
   "source": [
    "df_title_principals = pd.read_csv('BD/title.principals.tsv.gz', compression = 'gzip', sep = '\\t')"
   ]
  },
  {
   "cell_type": "code",
   "execution_count": 131,
   "metadata": {},
   "outputs": [],
   "source": [
    "df_acteurs = df_title_principals[(df_title_principals['category'] == 'actor') | (df_title_principals['category'] == 'actress') | (df_title_principals['category'] == 'self')]"
   ]
  },
  {
   "cell_type": "code",
   "execution_count": 132,
   "metadata": {},
   "outputs": [],
   "source": [
    "df_realisateurs = df_title_principals[df_title_principals['category'] == 'director']"
   ]
  },
  {
   "cell_type": "code",
   "execution_count": 133,
   "metadata": {},
   "outputs": [],
   "source": [
    "df_title_principals = 0"
   ]
  },
  {
   "cell_type": "code",
   "execution_count": 134,
   "metadata": {},
   "outputs": [],
   "source": [
    "df_title_crew = pd.read_csv('BD/title.crew.tsv.gz', compression = 'gzip', sep = '\\t')"
   ]
  },
  {
   "cell_type": "code",
   "execution_count": 135,
   "metadata": {},
   "outputs": [],
   "source": [
    "df_title_crew = df_title_crew.drop('writers', axis = 1)"
   ]
  },
  {
   "cell_type": "code",
   "execution_count": 136,
   "metadata": {},
   "outputs": [],
   "source": [
    "df_title_crew = pd.merge(liste_films,\n",
    "                         df_title_crew,\n",
    "                         left_on = 'film_id_out_KNN',\n",
    "                         right_on = 'tconst',\n",
    "                         how = 'left')"
   ]
  },
  {
   "cell_type": "code",
   "execution_count": 137,
   "metadata": {},
   "outputs": [],
   "source": [
    "df_title_crew = df_title_crew.drop('film_id_out_KNN', axis = 1)"
   ]
  },
  {
   "cell_type": "code",
   "execution_count": 138,
   "metadata": {},
   "outputs": [],
   "source": [
    "df_title_crew = df_title_crew.rename({'directors': 'nconst'}, axis = 1)"
   ]
  },
  {
   "cell_type": "code",
   "execution_count": 139,
   "metadata": {},
   "outputs": [],
   "source": [
    "df_title_crew['nconst'] = df_title_crew['nconst'].astype(str)"
   ]
  },
  {
   "cell_type": "code",
   "execution_count": 140,
   "metadata": {},
   "outputs": [],
   "source": [
    "df_title_crew['nconst'] = df_title_crew['nconst'].apply(lambda x : x.split(\",\"))"
   ]
  },
  {
   "cell_type": "code",
   "execution_count": 141,
   "metadata": {},
   "outputs": [],
   "source": [
    "df_title_crew = df_title_crew.explode('nconst')"
   ]
  },
  {
   "cell_type": "code",
   "execution_count": 142,
   "metadata": {},
   "outputs": [],
   "source": [
    "df_title_crew = df_title_crew[~(df_title_crew['nconst'] == \" \")]"
   ]
  },
  {
   "cell_type": "code",
   "execution_count": 143,
   "metadata": {},
   "outputs": [],
   "source": [
    "df_title_crew['tconst'] = df_title_crew['tconst'] + ', '"
   ]
  },
  {
   "cell_type": "code",
   "execution_count": 144,
   "metadata": {},
   "outputs": [],
   "source": [
    "df_title_crew = df_title_crew.groupby('nconst').sum()"
   ]
  },
  {
   "cell_type": "code",
   "execution_count": 145,
   "metadata": {},
   "outputs": [],
   "source": [
    "df_title_crew = df_title_crew.reset_index()"
   ]
  },
  {
   "cell_type": "code",
   "execution_count": 146,
   "metadata": {},
   "outputs": [],
   "source": [
    "df_name_basics = pd.read_csv('BD/name.basics.tsv.gz', compression = 'gzip', sep = '\\t')"
   ]
  },
  {
   "cell_type": "code",
   "execution_count": 147,
   "metadata": {},
   "outputs": [],
   "source": [
    "df_name_basics = df_name_basics.drop(['birthYear', 'deathYear', 'primaryProfession'], axis = 1)"
   ]
  },
  {
   "cell_type": "code",
   "execution_count": 148,
   "metadata": {},
   "outputs": [],
   "source": [
    "df_name_basics = df_name_basics.rename({'knownForTitles' : 'tconst'}, axis = 1)"
   ]
  },
  {
   "cell_type": "code",
   "execution_count": 149,
   "metadata": {},
   "outputs": [],
   "source": [
    "df_name_basics['tconst'] = df_name_basics['tconst'].apply(lambda x : x.split(','))"
   ]
  },
  {
   "cell_type": "code",
   "execution_count": 150,
   "metadata": {},
   "outputs": [],
   "source": [
    "df_name_basics['nconst'] = df_name_basics['nconst'].astype(str)"
   ]
  },
  {
   "cell_type": "code",
   "execution_count": 151,
   "metadata": {},
   "outputs": [],
   "source": [
    "df_name_basics['nconst'] = df_name_basics['nconst'].apply(lambda x : x.replace(' ', ''))"
   ]
  },
  {
   "cell_type": "code",
   "execution_count": 167,
   "metadata": {},
   "outputs": [],
   "source": [
    "df_acteurs = name(liste_films, df_acteurs)"
   ]
  },
  {
   "cell_type": "code",
   "execution_count": 168,
   "metadata": {},
   "outputs": [],
   "source": [
    "df_realisateurs = name(liste_films, df_realisateurs)"
   ]
  },
  {
   "cell_type": "code",
   "execution_count": 169,
   "metadata": {},
   "outputs": [],
   "source": [
    "df_acteurs_name = pd.merge(df_acteurs,\n",
    "                            df_name_basics,\n",
    "                            on = 'nconst',\n",
    "                            how = 'left')"
   ]
  },
  {
   "cell_type": "code",
   "execution_count": 170,
   "metadata": {},
   "outputs": [],
   "source": [
    "df_acteurs = 0"
   ]
  },
  {
   "cell_type": "code",
   "execution_count": 171,
   "metadata": {},
   "outputs": [
    {
     "name": "stderr",
     "output_type": "stream",
     "text": [
      "/var/folders/2b/18xblx_n4lv24wz932vjckrm0000gp/T/ipykernel_20989/3296483890.py:6: SettingWithCopyWarning: \n",
      "A value is trying to be set on a copy of a slice from a DataFrame.\n",
      "Try using .loc[row_indexer,col_indexer] = value instead\n",
      "\n",
      "See the caveats in the documentation: https://pandas.pydata.org/pandas-docs/stable/user_guide/indexing.html#returning-a-view-versus-a-copy\n",
      "  df['tconst'] = df['tconst'].apply(lambda x : x.replace(' ', '').replace('[', '').replace(']', '').replace(\"'\", ''))\n",
      "/var/folders/2b/18xblx_n4lv24wz932vjckrm0000gp/T/ipykernel_20989/3296483890.py:7: SettingWithCopyWarning: \n",
      "A value is trying to be set on a copy of a slice from a DataFrame.\n",
      "Try using .loc[row_indexer,col_indexer] = value instead\n",
      "\n",
      "See the caveats in the documentation: https://pandas.pydata.org/pandas-docs/stable/user_guide/indexing.html#returning-a-view-versus-a-copy\n",
      "  df['tconst'] = df['tconst'].apply(lambda x : x.split(','))\n"
     ]
    }
   ],
   "source": [
    "df_acteurs_name = acteur_name(df_acteurs_name)"
   ]
  },
  {
   "cell_type": "code",
   "execution_count": 172,
   "metadata": {},
   "outputs": [],
   "source": [
    "df_realisateurs_name = realisateur_name(df_realisateurs)"
   ]
  },
  {
   "cell_type": "code",
   "execution_count": 173,
   "metadata": {},
   "outputs": [],
   "source": [
    "df_acteurs, df_realisateurs, df_name_basics, df_title_crew = 0, 0, 0, 0"
   ]
  },
  {
   "cell_type": "code",
   "execution_count": 174,
   "metadata": {},
   "outputs": [],
   "source": [
    "df_realisateurs_name.to_csv('P2_G5_realisateurs.csv.gz', index=False, compression='gzip')\n",
    "df_realisateurs = df_realisateurs_name"
   ]
  },
  {
   "cell_type": "code",
   "execution_count": 175,
   "metadata": {},
   "outputs": [],
   "source": [
    "df_acteurs_name.to_csv('P2_G5_acteurs.csv.gz', index=False, compression='gzip')\n",
    "df_acteurs = df_acteurs_name"
   ]
  },
  {
   "cell_type": "code",
   "execution_count": 176,
   "metadata": {},
   "outputs": [],
   "source": [
    "# df_acteurs = pd.read_csv('BD/P2_G5_acteurs.csv.gz', compression = 'gzip')\n",
    "# df_realisateurs = pd.read_csv('BD/P2_G5_realisateurs.csv.gz', compression = 'gzip')\n",
    "\n",
    "# df_acteurs['knownForTitles'] = df_acteurs['knownForTitles'].astype(str)\n",
    "# df_acteurs['knownForTitles'] = df_acteurs['knownForTitles'].apply(lambda x : x.replace('[', '').replace(']', '').replace(' ', ''))\n",
    "# df_acteurs['films'] = df_acteurs['knownForTitles'] + ',' + df_acteurs['film_id_out_KNN']\n",
    "# df_acteurs['films'] = df_acteurs['films'].apply(lambda x : list(set(x.split(','))))"
   ]
  },
  {
   "cell_type": "code",
   "execution_count": 177,
   "metadata": {},
   "outputs": [],
   "source": [
    "df_acteurs = df_acteurs.rename({'knownForTitles' : 'films'}, axis = 1)"
   ]
  },
  {
   "cell_type": "code",
   "execution_count": 178,
   "metadata": {},
   "outputs": [],
   "source": [
    "df_acteurs2 = df_acteurs.explode('films')"
   ]
  },
  {
   "cell_type": "code",
   "execution_count": 179,
   "metadata": {},
   "outputs": [],
   "source": [
    "acteurs_repetitions = pd.DataFrame(df_acteurs2['acteur'].value_counts()).reset_index()"
   ]
  },
  {
   "cell_type": "code",
   "execution_count": 180,
   "metadata": {},
   "outputs": [],
   "source": [
    "acteurs_repetitions = acteurs_repetitions[acteurs_repetitions['count'] > apparition_acteur]"
   ]
  },
  {
   "cell_type": "code",
   "execution_count": 181,
   "metadata": {},
   "outputs": [],
   "source": [
    "acteurs_recurrents = pd.merge(acteurs_repetitions,\n",
    "                              df_acteurs,\n",
    "                              how = 'left',\n",
    "                              on = 'acteur')"
   ]
  },
  {
   "cell_type": "code",
   "execution_count": 182,
   "metadata": {},
   "outputs": [],
   "source": [
    "acteurs_recurrents2 = acteurs_recurrents.explode('films')"
   ]
  },
  {
   "cell_type": "code",
   "execution_count": 183,
   "metadata": {},
   "outputs": [],
   "source": [
    "acteurs_recurrents2['films'] = acteurs_recurrents2['films'].str.replace(\"'\",\"\")\n",
    "acteurs_recurrents2['acteur'] = acteurs_recurrents2['acteur'] + ', '"
   ]
  },
  {
   "cell_type": "code",
   "execution_count": 184,
   "metadata": {},
   "outputs": [],
   "source": [
    "acteurs_recurrents2 = acteurs_recurrents2.groupby('films').sum()\n",
    "\n",
    "acteurs_recurrents2['acteur'] = acteurs_recurrents2['acteur'].astype(str)"
   ]
  },
  {
   "cell_type": "code",
   "execution_count": 185,
   "metadata": {},
   "outputs": [],
   "source": [
    "acteurs_recurrents2['acteur'] = acteurs_recurrents2['acteur'].apply(lambda x : x.replace(\", , \", ''))\n",
    "\n",
    "acteurs_recurrents2 = acteurs_recurrents2.reset_index()\n",
    "acteurs_recurrents2 = acteurs_recurrents2[['films', 'acteur']]"
   ]
  },
  {
   "cell_type": "code",
   "execution_count": 186,
   "metadata": {},
   "outputs": [],
   "source": [
    "df_films = pd.merge(df_films,\n",
    "                    acteurs_recurrents2,\n",
    "                    how = 'left',\n",
    "                    left_on = 'film_id_out_KNN',\n",
    "                    right_on = 'films')"
   ]
  },
  {
   "cell_type": "code",
   "execution_count": 187,
   "metadata": {},
   "outputs": [],
   "source": [
    "acteurs_repetitions['acteur'] = acteurs_repetitions['acteur'].astype(str)"
   ]
  },
  {
   "cell_type": "code",
   "execution_count": 188,
   "metadata": {},
   "outputs": [],
   "source": [
    "# DF REALISATEURS\n",
    "\n",
    "realisateurs_repetitions = pd.DataFrame(df_realisateurs['realisateurs'].value_counts()).reset_index()\n",
    "\n",
    "realisateurs_repetitions = realisateurs_repetitions[realisateurs_repetitions['count'] > apparition_realisateur]\n",
    "\n",
    "realisateurs_repetitions2 = realisateurs_repetitions.groupby('realisateurs').sum()\n",
    "\n",
    "realisateurs_repetitions2 = realisateurs_repetitions2.reset_index()"
   ]
  },
  {
   "cell_type": "code",
   "execution_count": 189,
   "metadata": {},
   "outputs": [],
   "source": [
    "realisateurs_connus = pd.merge(realisateurs_repetitions2,\n",
    "                               df_realisateurs,\n",
    "                               on = 'realisateurs',\n",
    "                               how = 'left')"
   ]
  },
  {
   "cell_type": "code",
   "execution_count": 190,
   "metadata": {},
   "outputs": [],
   "source": [
    "realisateurs_connus = realisateurs_connus[['knownForTitles', 'realisateurs']]\n",
    "\n",
    "realisateurs_connus['realisateurs'] = realisateurs_connus['realisateurs'] + ','\n",
    "\n",
    "realisateurs_connus2 = realisateurs_connus.groupby('knownForTitles').sum()"
   ]
  },
  {
   "cell_type": "code",
   "execution_count": 191,
   "metadata": {},
   "outputs": [],
   "source": [
    "df_films = pd.merge(df_films,\n",
    "                    realisateurs_connus2,\n",
    "                    how = 'left',\n",
    "                    left_on = 'film_id_out_KNN',\n",
    "                    right_on = 'knownForTitles')\n",
    "\n",
    "df_realisateurs['realisateurs'] = df_realisateurs['realisateurs'].astype(str)\n",
    "\n",
    "df_films['realisateurs'] = df_films['realisateurs'].astype(str)"
   ]
  },
  {
   "cell_type": "code",
   "execution_count": null,
   "metadata": {},
   "outputs": [],
   "source": [
    "# df_films['title_debut'] = df_films['title'].apply(debut)\n",
    "# df_films['title_debut'] = df_films['title_debut'].astype(str)\n",
    "# df['title_len'] = df['title'].apply(lambda row : len(row.replace(' ','')))"
   ]
  },
  {
   "cell_type": "code",
   "execution_count": 193,
   "metadata": {},
   "outputs": [],
   "source": [
    "df_films = df_films.rename({'acteur' : 'acteur_out_KNN',\n",
    "                            'realisateurs' : 'realisateurs_out_KNN'}, axis = 1)"
   ]
  },
  {
   "cell_type": "markdown",
   "metadata": {},
   "source": [
    "SUPPRESSION DES TITLE SANS CYRILLIQUE"
   ]
  },
  {
   "cell_type": "code",
   "execution_count": 196,
   "metadata": {},
   "outputs": [],
   "source": [
    "df_films = df_films[~df_films['title_out_KNN'].str.contains(r'[^\\x00-\\x7F]+', regex=True)]"
   ]
  },
  {
   "cell_type": "markdown",
   "metadata": {},
   "source": [
    "COMPTE ACTEURS / REALISATEURS / PRODUCTION"
   ]
  },
  {
   "cell_type": "code",
   "execution_count": 197,
   "metadata": {},
   "outputs": [
    {
     "data": {
      "text/plain": [
       "Index(['production_companies_name_out_KNN', 'genre_out_KNN', 'title_out_KNN',\n",
       "       'film_id_out_KNN', 'arrondi_vote_exact_out_KNN', 'popularity',\n",
       "       'year_exact', 'Decennie', 'runtime_exact', 'vote_exact', 'prod_FR',\n",
       "       'prod_US', 'backdrop_path', 'homepage', 'overview', 'poster_path',\n",
       "       'production_countries', 'status', 'tagline', 'region', 'adult', 'films',\n",
       "       'acteur_out_KNN', 'realisateurs_out_KNN'],\n",
       "      dtype='object')"
      ]
     },
     "execution_count": 197,
     "metadata": {},
     "output_type": "execute_result"
    }
   ],
   "source": [
    "df_films.columns"
   ]
  },
  {
   "cell_type": "code",
   "execution_count": 211,
   "metadata": {},
   "outputs": [
    {
     "name": "stderr",
     "output_type": "stream",
     "text": [
      "/var/folders/2b/18xblx_n4lv24wz932vjckrm0000gp/T/ipykernel_20989/1521283718.py:16: SettingWithCopyWarning: \n",
      "A value is trying to be set on a copy of a slice from a DataFrame.\n",
      "Try using .loc[row_indexer,col_indexer] = value instead\n",
      "\n",
      "See the caveats in the documentation: https://pandas.pydata.org/pandas-docs/stable/user_guide/indexing.html#returning-a-view-versus-a-copy\n",
      "  df_films[colonne] = df_films[colonne].astype(str)\n",
      "/var/folders/2b/18xblx_n4lv24wz932vjckrm0000gp/T/ipykernel_20989/1521283718.py:24: SettingWithCopyWarning: \n",
      "A value is trying to be set on a copy of a slice from a DataFrame.\n",
      "Try using .loc[row_indexer,col_indexer] = value instead\n",
      "\n",
      "See the caveats in the documentation: https://pandas.pydata.org/pandas-docs/stable/user_guide/indexing.html#returning-a-view-versus-a-copy\n",
      "  df_films[f'{colonne}2'] = df_films[colonne].apply(lambda x: x.replace('\"', \"\").replace(\"[\", '').replace(\"]\", '').replace(\"'\", '').replace(\" \", '').lower())\n",
      "/var/folders/2b/18xblx_n4lv24wz932vjckrm0000gp/T/ipykernel_20989/1521283718.py:25: SettingWithCopyWarning: \n",
      "A value is trying to be set on a copy of a slice from a DataFrame.\n",
      "Try using .loc[row_indexer,col_indexer] = value instead\n",
      "\n",
      "See the caveats in the documentation: https://pandas.pydata.org/pandas-docs/stable/user_guide/indexing.html#returning-a-view-versus-a-copy\n",
      "  df_films[f'{colonne}'] = df_films[f'{colonne}2'].apply(lambda x : x.split(','))\n"
     ]
    }
   ],
   "source": [
    "list_colonnes(df_films, 'genre_out_KNN')"
   ]
  },
  {
   "cell_type": "code",
   "execution_count": 212,
   "metadata": {},
   "outputs": [
    {
     "name": "stderr",
     "output_type": "stream",
     "text": [
      "/var/folders/2b/18xblx_n4lv24wz932vjckrm0000gp/T/ipykernel_20989/1521283718.py:16: SettingWithCopyWarning: \n",
      "A value is trying to be set on a copy of a slice from a DataFrame.\n",
      "Try using .loc[row_indexer,col_indexer] = value instead\n",
      "\n",
      "See the caveats in the documentation: https://pandas.pydata.org/pandas-docs/stable/user_guide/indexing.html#returning-a-view-versus-a-copy\n",
      "  df_films[colonne] = df_films[colonne].astype(str)\n",
      "/var/folders/2b/18xblx_n4lv24wz932vjckrm0000gp/T/ipykernel_20989/1521283718.py:24: SettingWithCopyWarning: \n",
      "A value is trying to be set on a copy of a slice from a DataFrame.\n",
      "Try using .loc[row_indexer,col_indexer] = value instead\n",
      "\n",
      "See the caveats in the documentation: https://pandas.pydata.org/pandas-docs/stable/user_guide/indexing.html#returning-a-view-versus-a-copy\n",
      "  df_films[f'{colonne}2'] = df_films[colonne].apply(lambda x: x.replace('\"', \"\").replace(\"[\", '').replace(\"]\", '').replace(\"'\", '').replace(\" \", '').lower())\n",
      "/var/folders/2b/18xblx_n4lv24wz932vjckrm0000gp/T/ipykernel_20989/1521283718.py:25: SettingWithCopyWarning: \n",
      "A value is trying to be set on a copy of a slice from a DataFrame.\n",
      "Try using .loc[row_indexer,col_indexer] = value instead\n",
      "\n",
      "See the caveats in the documentation: https://pandas.pydata.org/pandas-docs/stable/user_guide/indexing.html#returning-a-view-versus-a-copy\n",
      "  df_films[f'{colonne}'] = df_films[f'{colonne}2'].apply(lambda x : x.split(','))\n"
     ]
    }
   ],
   "source": [
    "list_colonnes(df_films, 'realisateurs_out_KNN')"
   ]
  },
  {
   "cell_type": "code",
   "execution_count": 213,
   "metadata": {},
   "outputs": [
    {
     "name": "stderr",
     "output_type": "stream",
     "text": [
      "/var/folders/2b/18xblx_n4lv24wz932vjckrm0000gp/T/ipykernel_20989/1521283718.py:16: SettingWithCopyWarning: \n",
      "A value is trying to be set on a copy of a slice from a DataFrame.\n",
      "Try using .loc[row_indexer,col_indexer] = value instead\n",
      "\n",
      "See the caveats in the documentation: https://pandas.pydata.org/pandas-docs/stable/user_guide/indexing.html#returning-a-view-versus-a-copy\n",
      "  df_films[colonne] = df_films[colonne].astype(str)\n",
      "/var/folders/2b/18xblx_n4lv24wz932vjckrm0000gp/T/ipykernel_20989/1521283718.py:24: SettingWithCopyWarning: \n",
      "A value is trying to be set on a copy of a slice from a DataFrame.\n",
      "Try using .loc[row_indexer,col_indexer] = value instead\n",
      "\n",
      "See the caveats in the documentation: https://pandas.pydata.org/pandas-docs/stable/user_guide/indexing.html#returning-a-view-versus-a-copy\n",
      "  df_films[f'{colonne}2'] = df_films[colonne].apply(lambda x: x.replace('\"', \"\").replace(\"[\", '').replace(\"]\", '').replace(\"'\", '').replace(\" \", '').lower())\n",
      "/var/folders/2b/18xblx_n4lv24wz932vjckrm0000gp/T/ipykernel_20989/1521283718.py:25: SettingWithCopyWarning: \n",
      "A value is trying to be set on a copy of a slice from a DataFrame.\n",
      "Try using .loc[row_indexer,col_indexer] = value instead\n",
      "\n",
      "See the caveats in the documentation: https://pandas.pydata.org/pandas-docs/stable/user_guide/indexing.html#returning-a-view-versus-a-copy\n",
      "  df_films[f'{colonne}'] = df_films[f'{colonne}2'].apply(lambda x : x.split(','))\n"
     ]
    }
   ],
   "source": [
    "list_colonnes(df_films, 'acteur_out_KNN')"
   ]
  },
  {
   "cell_type": "code",
   "execution_count": 214,
   "metadata": {},
   "outputs": [
    {
     "name": "stderr",
     "output_type": "stream",
     "text": [
      "/var/folders/2b/18xblx_n4lv24wz932vjckrm0000gp/T/ipykernel_20989/1521283718.py:16: SettingWithCopyWarning: \n",
      "A value is trying to be set on a copy of a slice from a DataFrame.\n",
      "Try using .loc[row_indexer,col_indexer] = value instead\n",
      "\n",
      "See the caveats in the documentation: https://pandas.pydata.org/pandas-docs/stable/user_guide/indexing.html#returning-a-view-versus-a-copy\n",
      "  df_films[colonne] = df_films[colonne].astype(str)\n",
      "/var/folders/2b/18xblx_n4lv24wz932vjckrm0000gp/T/ipykernel_20989/1521283718.py:24: SettingWithCopyWarning: \n",
      "A value is trying to be set on a copy of a slice from a DataFrame.\n",
      "Try using .loc[row_indexer,col_indexer] = value instead\n",
      "\n",
      "See the caveats in the documentation: https://pandas.pydata.org/pandas-docs/stable/user_guide/indexing.html#returning-a-view-versus-a-copy\n",
      "  df_films[f'{colonne}2'] = df_films[colonne].apply(lambda x: x.replace('\"', \"\").replace(\"[\", '').replace(\"]\", '').replace(\"'\", '').replace(\" \", '').lower())\n",
      "/var/folders/2b/18xblx_n4lv24wz932vjckrm0000gp/T/ipykernel_20989/1521283718.py:25: SettingWithCopyWarning: \n",
      "A value is trying to be set on a copy of a slice from a DataFrame.\n",
      "Try using .loc[row_indexer,col_indexer] = value instead\n",
      "\n",
      "See the caveats in the documentation: https://pandas.pydata.org/pandas-docs/stable/user_guide/indexing.html#returning-a-view-versus-a-copy\n",
      "  df_films[f'{colonne}'] = df_films[f'{colonne}2'].apply(lambda x : x.split(','))\n"
     ]
    }
   ],
   "source": [
    "list_colonnes(df_films, 'production_companies_name_out_KNN')"
   ]
  },
  {
   "cell_type": "code",
   "execution_count": 215,
   "metadata": {},
   "outputs": [],
   "source": [
    "liste_genre = liste_recurrence('genre_out_KNN')"
   ]
  },
  {
   "cell_type": "code",
   "execution_count": 216,
   "metadata": {},
   "outputs": [],
   "source": [
    "liste_realisateurs = liste_recurrence('realisateurs_out_KNN')"
   ]
  },
  {
   "cell_type": "code",
   "execution_count": 217,
   "metadata": {},
   "outputs": [],
   "source": [
    "liste_acteur = liste_recurrence('acteur_out_KNN')"
   ]
  },
  {
   "cell_type": "code",
   "execution_count": 221,
   "metadata": {},
   "outputs": [
    {
     "name": "stderr",
     "output_type": "stream",
     "text": [
      "/var/folders/2b/18xblx_n4lv24wz932vjckrm0000gp/T/ipykernel_20989/2270929758.py:20: SettingWithCopyWarning: \n",
      "A value is trying to be set on a copy of a slice from a DataFrame.\n",
      "Try using .loc[row_indexer,col_indexer] = value instead\n",
      "\n",
      "See the caveats in the documentation: https://pandas.pydata.org/pandas-docs/stable/user_guide/indexing.html#returning-a-view-versus-a-copy\n",
      "  df_films['production_companies_name_Marvel'] = df_films['production_companies_name_out_KNN2'].apply(lambda x: 'marvel' in x)\n",
      "/var/folders/2b/18xblx_n4lv24wz932vjckrm0000gp/T/ipykernel_20989/2270929758.py:21: SettingWithCopyWarning: \n",
      "A value is trying to be set on a copy of a slice from a DataFrame.\n",
      "Try using .loc[row_indexer,col_indexer] = value instead\n",
      "\n",
      "See the caveats in the documentation: https://pandas.pydata.org/pandas-docs/stable/user_guide/indexing.html#returning-a-view-versus-a-copy\n",
      "  df_films['production_companies_name_Disney'] = df_films['production_companies_name_out_KNN2'].apply(lambda x: 'disney' in x)\n"
     ]
    }
   ],
   "source": [
    "liste_production_companies_name = liste_recurrence('production_companies_name_out_KNN')"
   ]
  },
  {
   "cell_type": "code",
   "execution_count": 208,
   "metadata": {},
   "outputs": [
    {
     "data": {
      "text/plain": [
       "(24, 919, 5462, 27583)"
      ]
     },
     "execution_count": 208,
     "metadata": {},
     "output_type": "execute_result"
    }
   ],
   "source": [
    "len(liste_genre), len(liste_realisateurs), len(liste_acteur), len(liste_production_companies_name)"
   ]
  },
  {
   "cell_type": "code",
   "execution_count": 209,
   "metadata": {},
   "outputs": [
    {
     "data": {
      "text/plain": [
       "31"
      ]
     },
     "execution_count": 209,
     "metadata": {},
     "output_type": "execute_result"
    }
   ],
   "source": [
    "len(df_films.columns)"
   ]
  },
  {
   "cell_type": "markdown",
   "metadata": {},
   "source": [
    "CREATION COLONNES EN BOOL"
   ]
  },
  {
   "cell_type": "code",
   "execution_count": 210,
   "metadata": {},
   "outputs": [],
   "source": [
    "limite_realisateurs = 80\n",
    "limite_acteur = 150\n",
    "limite_production_companies_name = 50"
   ]
  },
  {
   "cell_type": "code",
   "execution_count": 213,
   "metadata": {},
   "outputs": [],
   "source": [
    "bool_colonnes(df_films, liste_genre, 'genre_out_KNN')"
   ]
  },
  {
   "cell_type": "code",
   "execution_count": 214,
   "metadata": {},
   "outputs": [
    {
     "name": "stderr",
     "output_type": "stream",
     "text": [
      "/var/folders/2b/18xblx_n4lv24wz932vjckrm0000gp/T/ipykernel_14780/1408838262.py:4: PerformanceWarning: DataFrame is highly fragmented.  This is usually the result of calling `frame.insert` many times, which has poor performance.  Consider joining all columns at once using pd.concat(axis=1) instead. To get a de-fragmented frame, use `newframe = frame.copy()`\n",
      "  df_films[f'{colonne}_{genre}'] = df_films[f'{colonne}'].apply(lambda x: genre in x)\n",
      "/var/folders/2b/18xblx_n4lv24wz932vjckrm0000gp/T/ipykernel_14780/1408838262.py:4: PerformanceWarning: DataFrame is highly fragmented.  This is usually the result of calling `frame.insert` many times, which has poor performance.  Consider joining all columns at once using pd.concat(axis=1) instead. To get a de-fragmented frame, use `newframe = frame.copy()`\n",
      "  df_films[f'{colonne}_{genre}'] = df_films[f'{colonne}'].apply(lambda x: genre in x)\n",
      "/var/folders/2b/18xblx_n4lv24wz932vjckrm0000gp/T/ipykernel_14780/1408838262.py:4: PerformanceWarning: DataFrame is highly fragmented.  This is usually the result of calling `frame.insert` many times, which has poor performance.  Consider joining all columns at once using pd.concat(axis=1) instead. To get a de-fragmented frame, use `newframe = frame.copy()`\n",
      "  df_films[f'{colonne}_{genre}'] = df_films[f'{colonne}'].apply(lambda x: genre in x)\n",
      "/var/folders/2b/18xblx_n4lv24wz932vjckrm0000gp/T/ipykernel_14780/1408838262.py:4: PerformanceWarning: DataFrame is highly fragmented.  This is usually the result of calling `frame.insert` many times, which has poor performance.  Consider joining all columns at once using pd.concat(axis=1) instead. To get a de-fragmented frame, use `newframe = frame.copy()`\n",
      "  df_films[f'{colonne}_{genre}'] = df_films[f'{colonne}'].apply(lambda x: genre in x)\n",
      "/var/folders/2b/18xblx_n4lv24wz932vjckrm0000gp/T/ipykernel_14780/1408838262.py:4: PerformanceWarning: DataFrame is highly fragmented.  This is usually the result of calling `frame.insert` many times, which has poor performance.  Consider joining all columns at once using pd.concat(axis=1) instead. To get a de-fragmented frame, use `newframe = frame.copy()`\n",
      "  df_films[f'{colonne}_{genre}'] = df_films[f'{colonne}'].apply(lambda x: genre in x)\n",
      "/var/folders/2b/18xblx_n4lv24wz932vjckrm0000gp/T/ipykernel_14780/1408838262.py:4: PerformanceWarning: DataFrame is highly fragmented.  This is usually the result of calling `frame.insert` many times, which has poor performance.  Consider joining all columns at once using pd.concat(axis=1) instead. To get a de-fragmented frame, use `newframe = frame.copy()`\n",
      "  df_films[f'{colonne}_{genre}'] = df_films[f'{colonne}'].apply(lambda x: genre in x)\n",
      "/var/folders/2b/18xblx_n4lv24wz932vjckrm0000gp/T/ipykernel_14780/1408838262.py:4: PerformanceWarning: DataFrame is highly fragmented.  This is usually the result of calling `frame.insert` many times, which has poor performance.  Consider joining all columns at once using pd.concat(axis=1) instead. To get a de-fragmented frame, use `newframe = frame.copy()`\n",
      "  df_films[f'{colonne}_{genre}'] = df_films[f'{colonne}'].apply(lambda x: genre in x)\n",
      "/var/folders/2b/18xblx_n4lv24wz932vjckrm0000gp/T/ipykernel_14780/1408838262.py:4: PerformanceWarning: DataFrame is highly fragmented.  This is usually the result of calling `frame.insert` many times, which has poor performance.  Consider joining all columns at once using pd.concat(axis=1) instead. To get a de-fragmented frame, use `newframe = frame.copy()`\n",
      "  df_films[f'{colonne}_{genre}'] = df_films[f'{colonne}'].apply(lambda x: genre in x)\n",
      "/var/folders/2b/18xblx_n4lv24wz932vjckrm0000gp/T/ipykernel_14780/1408838262.py:4: PerformanceWarning: DataFrame is highly fragmented.  This is usually the result of calling `frame.insert` many times, which has poor performance.  Consider joining all columns at once using pd.concat(axis=1) instead. To get a de-fragmented frame, use `newframe = frame.copy()`\n",
      "  df_films[f'{colonne}_{genre}'] = df_films[f'{colonne}'].apply(lambda x: genre in x)\n",
      "/var/folders/2b/18xblx_n4lv24wz932vjckrm0000gp/T/ipykernel_14780/1408838262.py:4: PerformanceWarning: DataFrame is highly fragmented.  This is usually the result of calling `frame.insert` many times, which has poor performance.  Consider joining all columns at once using pd.concat(axis=1) instead. To get a de-fragmented frame, use `newframe = frame.copy()`\n",
      "  df_films[f'{colonne}_{genre}'] = df_films[f'{colonne}'].apply(lambda x: genre in x)\n",
      "/var/folders/2b/18xblx_n4lv24wz932vjckrm0000gp/T/ipykernel_14780/1408838262.py:4: PerformanceWarning: DataFrame is highly fragmented.  This is usually the result of calling `frame.insert` many times, which has poor performance.  Consider joining all columns at once using pd.concat(axis=1) instead. To get a de-fragmented frame, use `newframe = frame.copy()`\n",
      "  df_films[f'{colonne}_{genre}'] = df_films[f'{colonne}'].apply(lambda x: genre in x)\n",
      "/var/folders/2b/18xblx_n4lv24wz932vjckrm0000gp/T/ipykernel_14780/1408838262.py:4: PerformanceWarning: DataFrame is highly fragmented.  This is usually the result of calling `frame.insert` many times, which has poor performance.  Consider joining all columns at once using pd.concat(axis=1) instead. To get a de-fragmented frame, use `newframe = frame.copy()`\n",
      "  df_films[f'{colonne}_{genre}'] = df_films[f'{colonne}'].apply(lambda x: genre in x)\n",
      "/var/folders/2b/18xblx_n4lv24wz932vjckrm0000gp/T/ipykernel_14780/1408838262.py:4: PerformanceWarning: DataFrame is highly fragmented.  This is usually the result of calling `frame.insert` many times, which has poor performance.  Consider joining all columns at once using pd.concat(axis=1) instead. To get a de-fragmented frame, use `newframe = frame.copy()`\n",
      "  df_films[f'{colonne}_{genre}'] = df_films[f'{colonne}'].apply(lambda x: genre in x)\n",
      "/var/folders/2b/18xblx_n4lv24wz932vjckrm0000gp/T/ipykernel_14780/1408838262.py:4: PerformanceWarning: DataFrame is highly fragmented.  This is usually the result of calling `frame.insert` many times, which has poor performance.  Consider joining all columns at once using pd.concat(axis=1) instead. To get a de-fragmented frame, use `newframe = frame.copy()`\n",
      "  df_films[f'{colonne}_{genre}'] = df_films[f'{colonne}'].apply(lambda x: genre in x)\n",
      "/var/folders/2b/18xblx_n4lv24wz932vjckrm0000gp/T/ipykernel_14780/1408838262.py:4: PerformanceWarning: DataFrame is highly fragmented.  This is usually the result of calling `frame.insert` many times, which has poor performance.  Consider joining all columns at once using pd.concat(axis=1) instead. To get a de-fragmented frame, use `newframe = frame.copy()`\n",
      "  df_films[f'{colonne}_{genre}'] = df_films[f'{colonne}'].apply(lambda x: genre in x)\n",
      "/var/folders/2b/18xblx_n4lv24wz932vjckrm0000gp/T/ipykernel_14780/1408838262.py:4: PerformanceWarning: DataFrame is highly fragmented.  This is usually the result of calling `frame.insert` many times, which has poor performance.  Consider joining all columns at once using pd.concat(axis=1) instead. To get a de-fragmented frame, use `newframe = frame.copy()`\n",
      "  df_films[f'{colonne}_{genre}'] = df_films[f'{colonne}'].apply(lambda x: genre in x)\n"
     ]
    }
   ],
   "source": [
    "bool_colonnes(df_films, liste_realisateurs[0:limite_realisateurs], 'realisateurs_out_KNN')"
   ]
  },
  {
   "cell_type": "code",
   "execution_count": 215,
   "metadata": {},
   "outputs": [
    {
     "name": "stderr",
     "output_type": "stream",
     "text": [
      "/var/folders/2b/18xblx_n4lv24wz932vjckrm0000gp/T/ipykernel_14780/1408838262.py:4: PerformanceWarning: DataFrame is highly fragmented.  This is usually the result of calling `frame.insert` many times, which has poor performance.  Consider joining all columns at once using pd.concat(axis=1) instead. To get a de-fragmented frame, use `newframe = frame.copy()`\n",
      "  df_films[f'{colonne}_{genre}'] = df_films[f'{colonne}'].apply(lambda x: genre in x)\n",
      "/var/folders/2b/18xblx_n4lv24wz932vjckrm0000gp/T/ipykernel_14780/1408838262.py:4: PerformanceWarning: DataFrame is highly fragmented.  This is usually the result of calling `frame.insert` many times, which has poor performance.  Consider joining all columns at once using pd.concat(axis=1) instead. To get a de-fragmented frame, use `newframe = frame.copy()`\n",
      "  df_films[f'{colonne}_{genre}'] = df_films[f'{colonne}'].apply(lambda x: genre in x)\n",
      "/var/folders/2b/18xblx_n4lv24wz932vjckrm0000gp/T/ipykernel_14780/1408838262.py:4: PerformanceWarning: DataFrame is highly fragmented.  This is usually the result of calling `frame.insert` many times, which has poor performance.  Consider joining all columns at once using pd.concat(axis=1) instead. To get a de-fragmented frame, use `newframe = frame.copy()`\n",
      "  df_films[f'{colonne}_{genre}'] = df_films[f'{colonne}'].apply(lambda x: genre in x)\n",
      "/var/folders/2b/18xblx_n4lv24wz932vjckrm0000gp/T/ipykernel_14780/1408838262.py:4: PerformanceWarning: DataFrame is highly fragmented.  This is usually the result of calling `frame.insert` many times, which has poor performance.  Consider joining all columns at once using pd.concat(axis=1) instead. To get a de-fragmented frame, use `newframe = frame.copy()`\n",
      "  df_films[f'{colonne}_{genre}'] = df_films[f'{colonne}'].apply(lambda x: genre in x)\n",
      "/var/folders/2b/18xblx_n4lv24wz932vjckrm0000gp/T/ipykernel_14780/1408838262.py:4: PerformanceWarning: DataFrame is highly fragmented.  This is usually the result of calling `frame.insert` many times, which has poor performance.  Consider joining all columns at once using pd.concat(axis=1) instead. To get a de-fragmented frame, use `newframe = frame.copy()`\n",
      "  df_films[f'{colonne}_{genre}'] = df_films[f'{colonne}'].apply(lambda x: genre in x)\n",
      "/var/folders/2b/18xblx_n4lv24wz932vjckrm0000gp/T/ipykernel_14780/1408838262.py:4: PerformanceWarning: DataFrame is highly fragmented.  This is usually the result of calling `frame.insert` many times, which has poor performance.  Consider joining all columns at once using pd.concat(axis=1) instead. To get a de-fragmented frame, use `newframe = frame.copy()`\n",
      "  df_films[f'{colonne}_{genre}'] = df_films[f'{colonne}'].apply(lambda x: genre in x)\n",
      "/var/folders/2b/18xblx_n4lv24wz932vjckrm0000gp/T/ipykernel_14780/1408838262.py:4: PerformanceWarning: DataFrame is highly fragmented.  This is usually the result of calling `frame.insert` many times, which has poor performance.  Consider joining all columns at once using pd.concat(axis=1) instead. To get a de-fragmented frame, use `newframe = frame.copy()`\n",
      "  df_films[f'{colonne}_{genre}'] = df_films[f'{colonne}'].apply(lambda x: genre in x)\n",
      "/var/folders/2b/18xblx_n4lv24wz932vjckrm0000gp/T/ipykernel_14780/1408838262.py:4: PerformanceWarning: DataFrame is highly fragmented.  This is usually the result of calling `frame.insert` many times, which has poor performance.  Consider joining all columns at once using pd.concat(axis=1) instead. To get a de-fragmented frame, use `newframe = frame.copy()`\n",
      "  df_films[f'{colonne}_{genre}'] = df_films[f'{colonne}'].apply(lambda x: genre in x)\n",
      "/var/folders/2b/18xblx_n4lv24wz932vjckrm0000gp/T/ipykernel_14780/1408838262.py:4: PerformanceWarning: DataFrame is highly fragmented.  This is usually the result of calling `frame.insert` many times, which has poor performance.  Consider joining all columns at once using pd.concat(axis=1) instead. To get a de-fragmented frame, use `newframe = frame.copy()`\n",
      "  df_films[f'{colonne}_{genre}'] = df_films[f'{colonne}'].apply(lambda x: genre in x)\n",
      "/var/folders/2b/18xblx_n4lv24wz932vjckrm0000gp/T/ipykernel_14780/1408838262.py:4: PerformanceWarning: DataFrame is highly fragmented.  This is usually the result of calling `frame.insert` many times, which has poor performance.  Consider joining all columns at once using pd.concat(axis=1) instead. To get a de-fragmented frame, use `newframe = frame.copy()`\n",
      "  df_films[f'{colonne}_{genre}'] = df_films[f'{colonne}'].apply(lambda x: genre in x)\n",
      "/var/folders/2b/18xblx_n4lv24wz932vjckrm0000gp/T/ipykernel_14780/1408838262.py:4: PerformanceWarning: DataFrame is highly fragmented.  This is usually the result of calling `frame.insert` many times, which has poor performance.  Consider joining all columns at once using pd.concat(axis=1) instead. To get a de-fragmented frame, use `newframe = frame.copy()`\n",
      "  df_films[f'{colonne}_{genre}'] = df_films[f'{colonne}'].apply(lambda x: genre in x)\n",
      "/var/folders/2b/18xblx_n4lv24wz932vjckrm0000gp/T/ipykernel_14780/1408838262.py:4: PerformanceWarning: DataFrame is highly fragmented.  This is usually the result of calling `frame.insert` many times, which has poor performance.  Consider joining all columns at once using pd.concat(axis=1) instead. To get a de-fragmented frame, use `newframe = frame.copy()`\n",
      "  df_films[f'{colonne}_{genre}'] = df_films[f'{colonne}'].apply(lambda x: genre in x)\n",
      "/var/folders/2b/18xblx_n4lv24wz932vjckrm0000gp/T/ipykernel_14780/1408838262.py:4: PerformanceWarning: DataFrame is highly fragmented.  This is usually the result of calling `frame.insert` many times, which has poor performance.  Consider joining all columns at once using pd.concat(axis=1) instead. To get a de-fragmented frame, use `newframe = frame.copy()`\n",
      "  df_films[f'{colonne}_{genre}'] = df_films[f'{colonne}'].apply(lambda x: genre in x)\n",
      "/var/folders/2b/18xblx_n4lv24wz932vjckrm0000gp/T/ipykernel_14780/1408838262.py:4: PerformanceWarning: DataFrame is highly fragmented.  This is usually the result of calling `frame.insert` many times, which has poor performance.  Consider joining all columns at once using pd.concat(axis=1) instead. To get a de-fragmented frame, use `newframe = frame.copy()`\n",
      "  df_films[f'{colonne}_{genre}'] = df_films[f'{colonne}'].apply(lambda x: genre in x)\n",
      "/var/folders/2b/18xblx_n4lv24wz932vjckrm0000gp/T/ipykernel_14780/1408838262.py:4: PerformanceWarning: DataFrame is highly fragmented.  This is usually the result of calling `frame.insert` many times, which has poor performance.  Consider joining all columns at once using pd.concat(axis=1) instead. To get a de-fragmented frame, use `newframe = frame.copy()`\n",
      "  df_films[f'{colonne}_{genre}'] = df_films[f'{colonne}'].apply(lambda x: genre in x)\n",
      "/var/folders/2b/18xblx_n4lv24wz932vjckrm0000gp/T/ipykernel_14780/1408838262.py:4: PerformanceWarning: DataFrame is highly fragmented.  This is usually the result of calling `frame.insert` many times, which has poor performance.  Consider joining all columns at once using pd.concat(axis=1) instead. To get a de-fragmented frame, use `newframe = frame.copy()`\n",
      "  df_films[f'{colonne}_{genre}'] = df_films[f'{colonne}'].apply(lambda x: genre in x)\n",
      "/var/folders/2b/18xblx_n4lv24wz932vjckrm0000gp/T/ipykernel_14780/1408838262.py:4: PerformanceWarning: DataFrame is highly fragmented.  This is usually the result of calling `frame.insert` many times, which has poor performance.  Consider joining all columns at once using pd.concat(axis=1) instead. To get a de-fragmented frame, use `newframe = frame.copy()`\n",
      "  df_films[f'{colonne}_{genre}'] = df_films[f'{colonne}'].apply(lambda x: genre in x)\n",
      "/var/folders/2b/18xblx_n4lv24wz932vjckrm0000gp/T/ipykernel_14780/1408838262.py:4: PerformanceWarning: DataFrame is highly fragmented.  This is usually the result of calling `frame.insert` many times, which has poor performance.  Consider joining all columns at once using pd.concat(axis=1) instead. To get a de-fragmented frame, use `newframe = frame.copy()`\n",
      "  df_films[f'{colonne}_{genre}'] = df_films[f'{colonne}'].apply(lambda x: genre in x)\n",
      "/var/folders/2b/18xblx_n4lv24wz932vjckrm0000gp/T/ipykernel_14780/1408838262.py:4: PerformanceWarning: DataFrame is highly fragmented.  This is usually the result of calling `frame.insert` many times, which has poor performance.  Consider joining all columns at once using pd.concat(axis=1) instead. To get a de-fragmented frame, use `newframe = frame.copy()`\n",
      "  df_films[f'{colonne}_{genre}'] = df_films[f'{colonne}'].apply(lambda x: genre in x)\n",
      "/var/folders/2b/18xblx_n4lv24wz932vjckrm0000gp/T/ipykernel_14780/1408838262.py:4: PerformanceWarning: DataFrame is highly fragmented.  This is usually the result of calling `frame.insert` many times, which has poor performance.  Consider joining all columns at once using pd.concat(axis=1) instead. To get a de-fragmented frame, use `newframe = frame.copy()`\n",
      "  df_films[f'{colonne}_{genre}'] = df_films[f'{colonne}'].apply(lambda x: genre in x)\n",
      "/var/folders/2b/18xblx_n4lv24wz932vjckrm0000gp/T/ipykernel_14780/1408838262.py:4: PerformanceWarning: DataFrame is highly fragmented.  This is usually the result of calling `frame.insert` many times, which has poor performance.  Consider joining all columns at once using pd.concat(axis=1) instead. To get a de-fragmented frame, use `newframe = frame.copy()`\n",
      "  df_films[f'{colonne}_{genre}'] = df_films[f'{colonne}'].apply(lambda x: genre in x)\n",
      "/var/folders/2b/18xblx_n4lv24wz932vjckrm0000gp/T/ipykernel_14780/1408838262.py:4: PerformanceWarning: DataFrame is highly fragmented.  This is usually the result of calling `frame.insert` many times, which has poor performance.  Consider joining all columns at once using pd.concat(axis=1) instead. To get a de-fragmented frame, use `newframe = frame.copy()`\n",
      "  df_films[f'{colonne}_{genre}'] = df_films[f'{colonne}'].apply(lambda x: genre in x)\n",
      "/var/folders/2b/18xblx_n4lv24wz932vjckrm0000gp/T/ipykernel_14780/1408838262.py:4: PerformanceWarning: DataFrame is highly fragmented.  This is usually the result of calling `frame.insert` many times, which has poor performance.  Consider joining all columns at once using pd.concat(axis=1) instead. To get a de-fragmented frame, use `newframe = frame.copy()`\n",
      "  df_films[f'{colonne}_{genre}'] = df_films[f'{colonne}'].apply(lambda x: genre in x)\n",
      "/var/folders/2b/18xblx_n4lv24wz932vjckrm0000gp/T/ipykernel_14780/1408838262.py:4: PerformanceWarning: DataFrame is highly fragmented.  This is usually the result of calling `frame.insert` many times, which has poor performance.  Consider joining all columns at once using pd.concat(axis=1) instead. To get a de-fragmented frame, use `newframe = frame.copy()`\n",
      "  df_films[f'{colonne}_{genre}'] = df_films[f'{colonne}'].apply(lambda x: genre in x)\n",
      "/var/folders/2b/18xblx_n4lv24wz932vjckrm0000gp/T/ipykernel_14780/1408838262.py:4: PerformanceWarning: DataFrame is highly fragmented.  This is usually the result of calling `frame.insert` many times, which has poor performance.  Consider joining all columns at once using pd.concat(axis=1) instead. To get a de-fragmented frame, use `newframe = frame.copy()`\n",
      "  df_films[f'{colonne}_{genre}'] = df_films[f'{colonne}'].apply(lambda x: genre in x)\n",
      "/var/folders/2b/18xblx_n4lv24wz932vjckrm0000gp/T/ipykernel_14780/1408838262.py:4: PerformanceWarning: DataFrame is highly fragmented.  This is usually the result of calling `frame.insert` many times, which has poor performance.  Consider joining all columns at once using pd.concat(axis=1) instead. To get a de-fragmented frame, use `newframe = frame.copy()`\n",
      "  df_films[f'{colonne}_{genre}'] = df_films[f'{colonne}'].apply(lambda x: genre in x)\n",
      "/var/folders/2b/18xblx_n4lv24wz932vjckrm0000gp/T/ipykernel_14780/1408838262.py:4: PerformanceWarning: DataFrame is highly fragmented.  This is usually the result of calling `frame.insert` many times, which has poor performance.  Consider joining all columns at once using pd.concat(axis=1) instead. To get a de-fragmented frame, use `newframe = frame.copy()`\n",
      "  df_films[f'{colonne}_{genre}'] = df_films[f'{colonne}'].apply(lambda x: genre in x)\n",
      "/var/folders/2b/18xblx_n4lv24wz932vjckrm0000gp/T/ipykernel_14780/1408838262.py:4: PerformanceWarning: DataFrame is highly fragmented.  This is usually the result of calling `frame.insert` many times, which has poor performance.  Consider joining all columns at once using pd.concat(axis=1) instead. To get a de-fragmented frame, use `newframe = frame.copy()`\n",
      "  df_films[f'{colonne}_{genre}'] = df_films[f'{colonne}'].apply(lambda x: genre in x)\n",
      "/var/folders/2b/18xblx_n4lv24wz932vjckrm0000gp/T/ipykernel_14780/1408838262.py:4: PerformanceWarning: DataFrame is highly fragmented.  This is usually the result of calling `frame.insert` many times, which has poor performance.  Consider joining all columns at once using pd.concat(axis=1) instead. To get a de-fragmented frame, use `newframe = frame.copy()`\n",
      "  df_films[f'{colonne}_{genre}'] = df_films[f'{colonne}'].apply(lambda x: genre in x)\n",
      "/var/folders/2b/18xblx_n4lv24wz932vjckrm0000gp/T/ipykernel_14780/1408838262.py:4: PerformanceWarning: DataFrame is highly fragmented.  This is usually the result of calling `frame.insert` many times, which has poor performance.  Consider joining all columns at once using pd.concat(axis=1) instead. To get a de-fragmented frame, use `newframe = frame.copy()`\n",
      "  df_films[f'{colonne}_{genre}'] = df_films[f'{colonne}'].apply(lambda x: genre in x)\n",
      "/var/folders/2b/18xblx_n4lv24wz932vjckrm0000gp/T/ipykernel_14780/1408838262.py:4: PerformanceWarning: DataFrame is highly fragmented.  This is usually the result of calling `frame.insert` many times, which has poor performance.  Consider joining all columns at once using pd.concat(axis=1) instead. To get a de-fragmented frame, use `newframe = frame.copy()`\n",
      "  df_films[f'{colonne}_{genre}'] = df_films[f'{colonne}'].apply(lambda x: genre in x)\n",
      "/var/folders/2b/18xblx_n4lv24wz932vjckrm0000gp/T/ipykernel_14780/1408838262.py:4: PerformanceWarning: DataFrame is highly fragmented.  This is usually the result of calling `frame.insert` many times, which has poor performance.  Consider joining all columns at once using pd.concat(axis=1) instead. To get a de-fragmented frame, use `newframe = frame.copy()`\n",
      "  df_films[f'{colonne}_{genre}'] = df_films[f'{colonne}'].apply(lambda x: genre in x)\n",
      "/var/folders/2b/18xblx_n4lv24wz932vjckrm0000gp/T/ipykernel_14780/1408838262.py:4: PerformanceWarning: DataFrame is highly fragmented.  This is usually the result of calling `frame.insert` many times, which has poor performance.  Consider joining all columns at once using pd.concat(axis=1) instead. To get a de-fragmented frame, use `newframe = frame.copy()`\n",
      "  df_films[f'{colonne}_{genre}'] = df_films[f'{colonne}'].apply(lambda x: genre in x)\n",
      "/var/folders/2b/18xblx_n4lv24wz932vjckrm0000gp/T/ipykernel_14780/1408838262.py:4: PerformanceWarning: DataFrame is highly fragmented.  This is usually the result of calling `frame.insert` many times, which has poor performance.  Consider joining all columns at once using pd.concat(axis=1) instead. To get a de-fragmented frame, use `newframe = frame.copy()`\n",
      "  df_films[f'{colonne}_{genre}'] = df_films[f'{colonne}'].apply(lambda x: genre in x)\n",
      "/var/folders/2b/18xblx_n4lv24wz932vjckrm0000gp/T/ipykernel_14780/1408838262.py:4: PerformanceWarning: DataFrame is highly fragmented.  This is usually the result of calling `frame.insert` many times, which has poor performance.  Consider joining all columns at once using pd.concat(axis=1) instead. To get a de-fragmented frame, use `newframe = frame.copy()`\n",
      "  df_films[f'{colonne}_{genre}'] = df_films[f'{colonne}'].apply(lambda x: genre in x)\n",
      "/var/folders/2b/18xblx_n4lv24wz932vjckrm0000gp/T/ipykernel_14780/1408838262.py:4: PerformanceWarning: DataFrame is highly fragmented.  This is usually the result of calling `frame.insert` many times, which has poor performance.  Consider joining all columns at once using pd.concat(axis=1) instead. To get a de-fragmented frame, use `newframe = frame.copy()`\n",
      "  df_films[f'{colonne}_{genre}'] = df_films[f'{colonne}'].apply(lambda x: genre in x)\n",
      "/var/folders/2b/18xblx_n4lv24wz932vjckrm0000gp/T/ipykernel_14780/1408838262.py:4: PerformanceWarning: DataFrame is highly fragmented.  This is usually the result of calling `frame.insert` many times, which has poor performance.  Consider joining all columns at once using pd.concat(axis=1) instead. To get a de-fragmented frame, use `newframe = frame.copy()`\n",
      "  df_films[f'{colonne}_{genre}'] = df_films[f'{colonne}'].apply(lambda x: genre in x)\n",
      "/var/folders/2b/18xblx_n4lv24wz932vjckrm0000gp/T/ipykernel_14780/1408838262.py:4: PerformanceWarning: DataFrame is highly fragmented.  This is usually the result of calling `frame.insert` many times, which has poor performance.  Consider joining all columns at once using pd.concat(axis=1) instead. To get a de-fragmented frame, use `newframe = frame.copy()`\n",
      "  df_films[f'{colonne}_{genre}'] = df_films[f'{colonne}'].apply(lambda x: genre in x)\n",
      "/var/folders/2b/18xblx_n4lv24wz932vjckrm0000gp/T/ipykernel_14780/1408838262.py:4: PerformanceWarning: DataFrame is highly fragmented.  This is usually the result of calling `frame.insert` many times, which has poor performance.  Consider joining all columns at once using pd.concat(axis=1) instead. To get a de-fragmented frame, use `newframe = frame.copy()`\n",
      "  df_films[f'{colonne}_{genre}'] = df_films[f'{colonne}'].apply(lambda x: genre in x)\n",
      "/var/folders/2b/18xblx_n4lv24wz932vjckrm0000gp/T/ipykernel_14780/1408838262.py:4: PerformanceWarning: DataFrame is highly fragmented.  This is usually the result of calling `frame.insert` many times, which has poor performance.  Consider joining all columns at once using pd.concat(axis=1) instead. To get a de-fragmented frame, use `newframe = frame.copy()`\n",
      "  df_films[f'{colonne}_{genre}'] = df_films[f'{colonne}'].apply(lambda x: genre in x)\n",
      "/var/folders/2b/18xblx_n4lv24wz932vjckrm0000gp/T/ipykernel_14780/1408838262.py:4: PerformanceWarning: DataFrame is highly fragmented.  This is usually the result of calling `frame.insert` many times, which has poor performance.  Consider joining all columns at once using pd.concat(axis=1) instead. To get a de-fragmented frame, use `newframe = frame.copy()`\n",
      "  df_films[f'{colonne}_{genre}'] = df_films[f'{colonne}'].apply(lambda x: genre in x)\n",
      "/var/folders/2b/18xblx_n4lv24wz932vjckrm0000gp/T/ipykernel_14780/1408838262.py:4: PerformanceWarning: DataFrame is highly fragmented.  This is usually the result of calling `frame.insert` many times, which has poor performance.  Consider joining all columns at once using pd.concat(axis=1) instead. To get a de-fragmented frame, use `newframe = frame.copy()`\n",
      "  df_films[f'{colonne}_{genre}'] = df_films[f'{colonne}'].apply(lambda x: genre in x)\n",
      "/var/folders/2b/18xblx_n4lv24wz932vjckrm0000gp/T/ipykernel_14780/1408838262.py:4: PerformanceWarning: DataFrame is highly fragmented.  This is usually the result of calling `frame.insert` many times, which has poor performance.  Consider joining all columns at once using pd.concat(axis=1) instead. To get a de-fragmented frame, use `newframe = frame.copy()`\n",
      "  df_films[f'{colonne}_{genre}'] = df_films[f'{colonne}'].apply(lambda x: genre in x)\n",
      "/var/folders/2b/18xblx_n4lv24wz932vjckrm0000gp/T/ipykernel_14780/1408838262.py:4: PerformanceWarning: DataFrame is highly fragmented.  This is usually the result of calling `frame.insert` many times, which has poor performance.  Consider joining all columns at once using pd.concat(axis=1) instead. To get a de-fragmented frame, use `newframe = frame.copy()`\n",
      "  df_films[f'{colonne}_{genre}'] = df_films[f'{colonne}'].apply(lambda x: genre in x)\n",
      "/var/folders/2b/18xblx_n4lv24wz932vjckrm0000gp/T/ipykernel_14780/1408838262.py:4: PerformanceWarning: DataFrame is highly fragmented.  This is usually the result of calling `frame.insert` many times, which has poor performance.  Consider joining all columns at once using pd.concat(axis=1) instead. To get a de-fragmented frame, use `newframe = frame.copy()`\n",
      "  df_films[f'{colonne}_{genre}'] = df_films[f'{colonne}'].apply(lambda x: genre in x)\n",
      "/var/folders/2b/18xblx_n4lv24wz932vjckrm0000gp/T/ipykernel_14780/1408838262.py:4: PerformanceWarning: DataFrame is highly fragmented.  This is usually the result of calling `frame.insert` many times, which has poor performance.  Consider joining all columns at once using pd.concat(axis=1) instead. To get a de-fragmented frame, use `newframe = frame.copy()`\n",
      "  df_films[f'{colonne}_{genre}'] = df_films[f'{colonne}'].apply(lambda x: genre in x)\n",
      "/var/folders/2b/18xblx_n4lv24wz932vjckrm0000gp/T/ipykernel_14780/1408838262.py:4: PerformanceWarning: DataFrame is highly fragmented.  This is usually the result of calling `frame.insert` many times, which has poor performance.  Consider joining all columns at once using pd.concat(axis=1) instead. To get a de-fragmented frame, use `newframe = frame.copy()`\n",
      "  df_films[f'{colonne}_{genre}'] = df_films[f'{colonne}'].apply(lambda x: genre in x)\n",
      "/var/folders/2b/18xblx_n4lv24wz932vjckrm0000gp/T/ipykernel_14780/1408838262.py:4: PerformanceWarning: DataFrame is highly fragmented.  This is usually the result of calling `frame.insert` many times, which has poor performance.  Consider joining all columns at once using pd.concat(axis=1) instead. To get a de-fragmented frame, use `newframe = frame.copy()`\n",
      "  df_films[f'{colonne}_{genre}'] = df_films[f'{colonne}'].apply(lambda x: genre in x)\n",
      "/var/folders/2b/18xblx_n4lv24wz932vjckrm0000gp/T/ipykernel_14780/1408838262.py:4: PerformanceWarning: DataFrame is highly fragmented.  This is usually the result of calling `frame.insert` many times, which has poor performance.  Consider joining all columns at once using pd.concat(axis=1) instead. To get a de-fragmented frame, use `newframe = frame.copy()`\n",
      "  df_films[f'{colonne}_{genre}'] = df_films[f'{colonne}'].apply(lambda x: genre in x)\n",
      "/var/folders/2b/18xblx_n4lv24wz932vjckrm0000gp/T/ipykernel_14780/1408838262.py:4: PerformanceWarning: DataFrame is highly fragmented.  This is usually the result of calling `frame.insert` many times, which has poor performance.  Consider joining all columns at once using pd.concat(axis=1) instead. To get a de-fragmented frame, use `newframe = frame.copy()`\n",
      "  df_films[f'{colonne}_{genre}'] = df_films[f'{colonne}'].apply(lambda x: genre in x)\n",
      "/var/folders/2b/18xblx_n4lv24wz932vjckrm0000gp/T/ipykernel_14780/1408838262.py:4: PerformanceWarning: DataFrame is highly fragmented.  This is usually the result of calling `frame.insert` many times, which has poor performance.  Consider joining all columns at once using pd.concat(axis=1) instead. To get a de-fragmented frame, use `newframe = frame.copy()`\n",
      "  df_films[f'{colonne}_{genre}'] = df_films[f'{colonne}'].apply(lambda x: genre in x)\n",
      "/var/folders/2b/18xblx_n4lv24wz932vjckrm0000gp/T/ipykernel_14780/1408838262.py:4: PerformanceWarning: DataFrame is highly fragmented.  This is usually the result of calling `frame.insert` many times, which has poor performance.  Consider joining all columns at once using pd.concat(axis=1) instead. To get a de-fragmented frame, use `newframe = frame.copy()`\n",
      "  df_films[f'{colonne}_{genre}'] = df_films[f'{colonne}'].apply(lambda x: genre in x)\n",
      "/var/folders/2b/18xblx_n4lv24wz932vjckrm0000gp/T/ipykernel_14780/1408838262.py:4: PerformanceWarning: DataFrame is highly fragmented.  This is usually the result of calling `frame.insert` many times, which has poor performance.  Consider joining all columns at once using pd.concat(axis=1) instead. To get a de-fragmented frame, use `newframe = frame.copy()`\n",
      "  df_films[f'{colonne}_{genre}'] = df_films[f'{colonne}'].apply(lambda x: genre in x)\n",
      "/var/folders/2b/18xblx_n4lv24wz932vjckrm0000gp/T/ipykernel_14780/1408838262.py:4: PerformanceWarning: DataFrame is highly fragmented.  This is usually the result of calling `frame.insert` many times, which has poor performance.  Consider joining all columns at once using pd.concat(axis=1) instead. To get a de-fragmented frame, use `newframe = frame.copy()`\n",
      "  df_films[f'{colonne}_{genre}'] = df_films[f'{colonne}'].apply(lambda x: genre in x)\n",
      "/var/folders/2b/18xblx_n4lv24wz932vjckrm0000gp/T/ipykernel_14780/1408838262.py:4: PerformanceWarning: DataFrame is highly fragmented.  This is usually the result of calling `frame.insert` many times, which has poor performance.  Consider joining all columns at once using pd.concat(axis=1) instead. To get a de-fragmented frame, use `newframe = frame.copy()`\n",
      "  df_films[f'{colonne}_{genre}'] = df_films[f'{colonne}'].apply(lambda x: genre in x)\n",
      "/var/folders/2b/18xblx_n4lv24wz932vjckrm0000gp/T/ipykernel_14780/1408838262.py:4: PerformanceWarning: DataFrame is highly fragmented.  This is usually the result of calling `frame.insert` many times, which has poor performance.  Consider joining all columns at once using pd.concat(axis=1) instead. To get a de-fragmented frame, use `newframe = frame.copy()`\n",
      "  df_films[f'{colonne}_{genre}'] = df_films[f'{colonne}'].apply(lambda x: genre in x)\n",
      "/var/folders/2b/18xblx_n4lv24wz932vjckrm0000gp/T/ipykernel_14780/1408838262.py:4: PerformanceWarning: DataFrame is highly fragmented.  This is usually the result of calling `frame.insert` many times, which has poor performance.  Consider joining all columns at once using pd.concat(axis=1) instead. To get a de-fragmented frame, use `newframe = frame.copy()`\n",
      "  df_films[f'{colonne}_{genre}'] = df_films[f'{colonne}'].apply(lambda x: genre in x)\n",
      "/var/folders/2b/18xblx_n4lv24wz932vjckrm0000gp/T/ipykernel_14780/1408838262.py:4: PerformanceWarning: DataFrame is highly fragmented.  This is usually the result of calling `frame.insert` many times, which has poor performance.  Consider joining all columns at once using pd.concat(axis=1) instead. To get a de-fragmented frame, use `newframe = frame.copy()`\n",
      "  df_films[f'{colonne}_{genre}'] = df_films[f'{colonne}'].apply(lambda x: genre in x)\n",
      "/var/folders/2b/18xblx_n4lv24wz932vjckrm0000gp/T/ipykernel_14780/1408838262.py:4: PerformanceWarning: DataFrame is highly fragmented.  This is usually the result of calling `frame.insert` many times, which has poor performance.  Consider joining all columns at once using pd.concat(axis=1) instead. To get a de-fragmented frame, use `newframe = frame.copy()`\n",
      "  df_films[f'{colonne}_{genre}'] = df_films[f'{colonne}'].apply(lambda x: genre in x)\n",
      "/var/folders/2b/18xblx_n4lv24wz932vjckrm0000gp/T/ipykernel_14780/1408838262.py:4: PerformanceWarning: DataFrame is highly fragmented.  This is usually the result of calling `frame.insert` many times, which has poor performance.  Consider joining all columns at once using pd.concat(axis=1) instead. To get a de-fragmented frame, use `newframe = frame.copy()`\n",
      "  df_films[f'{colonne}_{genre}'] = df_films[f'{colonne}'].apply(lambda x: genre in x)\n",
      "/var/folders/2b/18xblx_n4lv24wz932vjckrm0000gp/T/ipykernel_14780/1408838262.py:4: PerformanceWarning: DataFrame is highly fragmented.  This is usually the result of calling `frame.insert` many times, which has poor performance.  Consider joining all columns at once using pd.concat(axis=1) instead. To get a de-fragmented frame, use `newframe = frame.copy()`\n",
      "  df_films[f'{colonne}_{genre}'] = df_films[f'{colonne}'].apply(lambda x: genre in x)\n",
      "/var/folders/2b/18xblx_n4lv24wz932vjckrm0000gp/T/ipykernel_14780/1408838262.py:4: PerformanceWarning: DataFrame is highly fragmented.  This is usually the result of calling `frame.insert` many times, which has poor performance.  Consider joining all columns at once using pd.concat(axis=1) instead. To get a de-fragmented frame, use `newframe = frame.copy()`\n",
      "  df_films[f'{colonne}_{genre}'] = df_films[f'{colonne}'].apply(lambda x: genre in x)\n",
      "/var/folders/2b/18xblx_n4lv24wz932vjckrm0000gp/T/ipykernel_14780/1408838262.py:4: PerformanceWarning: DataFrame is highly fragmented.  This is usually the result of calling `frame.insert` many times, which has poor performance.  Consider joining all columns at once using pd.concat(axis=1) instead. To get a de-fragmented frame, use `newframe = frame.copy()`\n",
      "  df_films[f'{colonne}_{genre}'] = df_films[f'{colonne}'].apply(lambda x: genre in x)\n",
      "/var/folders/2b/18xblx_n4lv24wz932vjckrm0000gp/T/ipykernel_14780/1408838262.py:4: PerformanceWarning: DataFrame is highly fragmented.  This is usually the result of calling `frame.insert` many times, which has poor performance.  Consider joining all columns at once using pd.concat(axis=1) instead. To get a de-fragmented frame, use `newframe = frame.copy()`\n",
      "  df_films[f'{colonne}_{genre}'] = df_films[f'{colonne}'].apply(lambda x: genre in x)\n",
      "/var/folders/2b/18xblx_n4lv24wz932vjckrm0000gp/T/ipykernel_14780/1408838262.py:4: PerformanceWarning: DataFrame is highly fragmented.  This is usually the result of calling `frame.insert` many times, which has poor performance.  Consider joining all columns at once using pd.concat(axis=1) instead. To get a de-fragmented frame, use `newframe = frame.copy()`\n",
      "  df_films[f'{colonne}_{genre}'] = df_films[f'{colonne}'].apply(lambda x: genre in x)\n",
      "/var/folders/2b/18xblx_n4lv24wz932vjckrm0000gp/T/ipykernel_14780/1408838262.py:4: PerformanceWarning: DataFrame is highly fragmented.  This is usually the result of calling `frame.insert` many times, which has poor performance.  Consider joining all columns at once using pd.concat(axis=1) instead. To get a de-fragmented frame, use `newframe = frame.copy()`\n",
      "  df_films[f'{colonne}_{genre}'] = df_films[f'{colonne}'].apply(lambda x: genre in x)\n",
      "/var/folders/2b/18xblx_n4lv24wz932vjckrm0000gp/T/ipykernel_14780/1408838262.py:4: PerformanceWarning: DataFrame is highly fragmented.  This is usually the result of calling `frame.insert` many times, which has poor performance.  Consider joining all columns at once using pd.concat(axis=1) instead. To get a de-fragmented frame, use `newframe = frame.copy()`\n",
      "  df_films[f'{colonne}_{genre}'] = df_films[f'{colonne}'].apply(lambda x: genre in x)\n",
      "/var/folders/2b/18xblx_n4lv24wz932vjckrm0000gp/T/ipykernel_14780/1408838262.py:4: PerformanceWarning: DataFrame is highly fragmented.  This is usually the result of calling `frame.insert` many times, which has poor performance.  Consider joining all columns at once using pd.concat(axis=1) instead. To get a de-fragmented frame, use `newframe = frame.copy()`\n",
      "  df_films[f'{colonne}_{genre}'] = df_films[f'{colonne}'].apply(lambda x: genre in x)\n",
      "/var/folders/2b/18xblx_n4lv24wz932vjckrm0000gp/T/ipykernel_14780/1408838262.py:4: PerformanceWarning: DataFrame is highly fragmented.  This is usually the result of calling `frame.insert` many times, which has poor performance.  Consider joining all columns at once using pd.concat(axis=1) instead. To get a de-fragmented frame, use `newframe = frame.copy()`\n",
      "  df_films[f'{colonne}_{genre}'] = df_films[f'{colonne}'].apply(lambda x: genre in x)\n",
      "/var/folders/2b/18xblx_n4lv24wz932vjckrm0000gp/T/ipykernel_14780/1408838262.py:4: PerformanceWarning: DataFrame is highly fragmented.  This is usually the result of calling `frame.insert` many times, which has poor performance.  Consider joining all columns at once using pd.concat(axis=1) instead. To get a de-fragmented frame, use `newframe = frame.copy()`\n",
      "  df_films[f'{colonne}_{genre}'] = df_films[f'{colonne}'].apply(lambda x: genre in x)\n",
      "/var/folders/2b/18xblx_n4lv24wz932vjckrm0000gp/T/ipykernel_14780/1408838262.py:4: PerformanceWarning: DataFrame is highly fragmented.  This is usually the result of calling `frame.insert` many times, which has poor performance.  Consider joining all columns at once using pd.concat(axis=1) instead. To get a de-fragmented frame, use `newframe = frame.copy()`\n",
      "  df_films[f'{colonne}_{genre}'] = df_films[f'{colonne}'].apply(lambda x: genre in x)\n",
      "/var/folders/2b/18xblx_n4lv24wz932vjckrm0000gp/T/ipykernel_14780/1408838262.py:4: PerformanceWarning: DataFrame is highly fragmented.  This is usually the result of calling `frame.insert` many times, which has poor performance.  Consider joining all columns at once using pd.concat(axis=1) instead. To get a de-fragmented frame, use `newframe = frame.copy()`\n",
      "  df_films[f'{colonne}_{genre}'] = df_films[f'{colonne}'].apply(lambda x: genre in x)\n",
      "/var/folders/2b/18xblx_n4lv24wz932vjckrm0000gp/T/ipykernel_14780/1408838262.py:4: PerformanceWarning: DataFrame is highly fragmented.  This is usually the result of calling `frame.insert` many times, which has poor performance.  Consider joining all columns at once using pd.concat(axis=1) instead. To get a de-fragmented frame, use `newframe = frame.copy()`\n",
      "  df_films[f'{colonne}_{genre}'] = df_films[f'{colonne}'].apply(lambda x: genre in x)\n",
      "/var/folders/2b/18xblx_n4lv24wz932vjckrm0000gp/T/ipykernel_14780/1408838262.py:4: PerformanceWarning: DataFrame is highly fragmented.  This is usually the result of calling `frame.insert` many times, which has poor performance.  Consider joining all columns at once using pd.concat(axis=1) instead. To get a de-fragmented frame, use `newframe = frame.copy()`\n",
      "  df_films[f'{colonne}_{genre}'] = df_films[f'{colonne}'].apply(lambda x: genre in x)\n",
      "/var/folders/2b/18xblx_n4lv24wz932vjckrm0000gp/T/ipykernel_14780/1408838262.py:4: PerformanceWarning: DataFrame is highly fragmented.  This is usually the result of calling `frame.insert` many times, which has poor performance.  Consider joining all columns at once using pd.concat(axis=1) instead. To get a de-fragmented frame, use `newframe = frame.copy()`\n",
      "  df_films[f'{colonne}_{genre}'] = df_films[f'{colonne}'].apply(lambda x: genre in x)\n",
      "/var/folders/2b/18xblx_n4lv24wz932vjckrm0000gp/T/ipykernel_14780/1408838262.py:4: PerformanceWarning: DataFrame is highly fragmented.  This is usually the result of calling `frame.insert` many times, which has poor performance.  Consider joining all columns at once using pd.concat(axis=1) instead. To get a de-fragmented frame, use `newframe = frame.copy()`\n",
      "  df_films[f'{colonne}_{genre}'] = df_films[f'{colonne}'].apply(lambda x: genre in x)\n",
      "/var/folders/2b/18xblx_n4lv24wz932vjckrm0000gp/T/ipykernel_14780/1408838262.py:4: PerformanceWarning: DataFrame is highly fragmented.  This is usually the result of calling `frame.insert` many times, which has poor performance.  Consider joining all columns at once using pd.concat(axis=1) instead. To get a de-fragmented frame, use `newframe = frame.copy()`\n",
      "  df_films[f'{colonne}_{genre}'] = df_films[f'{colonne}'].apply(lambda x: genre in x)\n",
      "/var/folders/2b/18xblx_n4lv24wz932vjckrm0000gp/T/ipykernel_14780/1408838262.py:4: PerformanceWarning: DataFrame is highly fragmented.  This is usually the result of calling `frame.insert` many times, which has poor performance.  Consider joining all columns at once using pd.concat(axis=1) instead. To get a de-fragmented frame, use `newframe = frame.copy()`\n",
      "  df_films[f'{colonne}_{genre}'] = df_films[f'{colonne}'].apply(lambda x: genre in x)\n",
      "/var/folders/2b/18xblx_n4lv24wz932vjckrm0000gp/T/ipykernel_14780/1408838262.py:4: PerformanceWarning: DataFrame is highly fragmented.  This is usually the result of calling `frame.insert` many times, which has poor performance.  Consider joining all columns at once using pd.concat(axis=1) instead. To get a de-fragmented frame, use `newframe = frame.copy()`\n",
      "  df_films[f'{colonne}_{genre}'] = df_films[f'{colonne}'].apply(lambda x: genre in x)\n",
      "/var/folders/2b/18xblx_n4lv24wz932vjckrm0000gp/T/ipykernel_14780/1408838262.py:4: PerformanceWarning: DataFrame is highly fragmented.  This is usually the result of calling `frame.insert` many times, which has poor performance.  Consider joining all columns at once using pd.concat(axis=1) instead. To get a de-fragmented frame, use `newframe = frame.copy()`\n",
      "  df_films[f'{colonne}_{genre}'] = df_films[f'{colonne}'].apply(lambda x: genre in x)\n",
      "/var/folders/2b/18xblx_n4lv24wz932vjckrm0000gp/T/ipykernel_14780/1408838262.py:4: PerformanceWarning: DataFrame is highly fragmented.  This is usually the result of calling `frame.insert` many times, which has poor performance.  Consider joining all columns at once using pd.concat(axis=1) instead. To get a de-fragmented frame, use `newframe = frame.copy()`\n",
      "  df_films[f'{colonne}_{genre}'] = df_films[f'{colonne}'].apply(lambda x: genre in x)\n",
      "/var/folders/2b/18xblx_n4lv24wz932vjckrm0000gp/T/ipykernel_14780/1408838262.py:4: PerformanceWarning: DataFrame is highly fragmented.  This is usually the result of calling `frame.insert` many times, which has poor performance.  Consider joining all columns at once using pd.concat(axis=1) instead. To get a de-fragmented frame, use `newframe = frame.copy()`\n",
      "  df_films[f'{colonne}_{genre}'] = df_films[f'{colonne}'].apply(lambda x: genre in x)\n",
      "/var/folders/2b/18xblx_n4lv24wz932vjckrm0000gp/T/ipykernel_14780/1408838262.py:4: PerformanceWarning: DataFrame is highly fragmented.  This is usually the result of calling `frame.insert` many times, which has poor performance.  Consider joining all columns at once using pd.concat(axis=1) instead. To get a de-fragmented frame, use `newframe = frame.copy()`\n",
      "  df_films[f'{colonne}_{genre}'] = df_films[f'{colonne}'].apply(lambda x: genre in x)\n",
      "/var/folders/2b/18xblx_n4lv24wz932vjckrm0000gp/T/ipykernel_14780/1408838262.py:4: PerformanceWarning: DataFrame is highly fragmented.  This is usually the result of calling `frame.insert` many times, which has poor performance.  Consider joining all columns at once using pd.concat(axis=1) instead. To get a de-fragmented frame, use `newframe = frame.copy()`\n",
      "  df_films[f'{colonne}_{genre}'] = df_films[f'{colonne}'].apply(lambda x: genre in x)\n",
      "/var/folders/2b/18xblx_n4lv24wz932vjckrm0000gp/T/ipykernel_14780/1408838262.py:4: PerformanceWarning: DataFrame is highly fragmented.  This is usually the result of calling `frame.insert` many times, which has poor performance.  Consider joining all columns at once using pd.concat(axis=1) instead. To get a de-fragmented frame, use `newframe = frame.copy()`\n",
      "  df_films[f'{colonne}_{genre}'] = df_films[f'{colonne}'].apply(lambda x: genre in x)\n",
      "/var/folders/2b/18xblx_n4lv24wz932vjckrm0000gp/T/ipykernel_14780/1408838262.py:4: PerformanceWarning: DataFrame is highly fragmented.  This is usually the result of calling `frame.insert` many times, which has poor performance.  Consider joining all columns at once using pd.concat(axis=1) instead. To get a de-fragmented frame, use `newframe = frame.copy()`\n",
      "  df_films[f'{colonne}_{genre}'] = df_films[f'{colonne}'].apply(lambda x: genre in x)\n",
      "/var/folders/2b/18xblx_n4lv24wz932vjckrm0000gp/T/ipykernel_14780/1408838262.py:4: PerformanceWarning: DataFrame is highly fragmented.  This is usually the result of calling `frame.insert` many times, which has poor performance.  Consider joining all columns at once using pd.concat(axis=1) instead. To get a de-fragmented frame, use `newframe = frame.copy()`\n",
      "  df_films[f'{colonne}_{genre}'] = df_films[f'{colonne}'].apply(lambda x: genre in x)\n",
      "/var/folders/2b/18xblx_n4lv24wz932vjckrm0000gp/T/ipykernel_14780/1408838262.py:4: PerformanceWarning: DataFrame is highly fragmented.  This is usually the result of calling `frame.insert` many times, which has poor performance.  Consider joining all columns at once using pd.concat(axis=1) instead. To get a de-fragmented frame, use `newframe = frame.copy()`\n",
      "  df_films[f'{colonne}_{genre}'] = df_films[f'{colonne}'].apply(lambda x: genre in x)\n",
      "/var/folders/2b/18xblx_n4lv24wz932vjckrm0000gp/T/ipykernel_14780/1408838262.py:4: PerformanceWarning: DataFrame is highly fragmented.  This is usually the result of calling `frame.insert` many times, which has poor performance.  Consider joining all columns at once using pd.concat(axis=1) instead. To get a de-fragmented frame, use `newframe = frame.copy()`\n",
      "  df_films[f'{colonne}_{genre}'] = df_films[f'{colonne}'].apply(lambda x: genre in x)\n",
      "/var/folders/2b/18xblx_n4lv24wz932vjckrm0000gp/T/ipykernel_14780/1408838262.py:4: PerformanceWarning: DataFrame is highly fragmented.  This is usually the result of calling `frame.insert` many times, which has poor performance.  Consider joining all columns at once using pd.concat(axis=1) instead. To get a de-fragmented frame, use `newframe = frame.copy()`\n",
      "  df_films[f'{colonne}_{genre}'] = df_films[f'{colonne}'].apply(lambda x: genre in x)\n",
      "/var/folders/2b/18xblx_n4lv24wz932vjckrm0000gp/T/ipykernel_14780/1408838262.py:4: PerformanceWarning: DataFrame is highly fragmented.  This is usually the result of calling `frame.insert` many times, which has poor performance.  Consider joining all columns at once using pd.concat(axis=1) instead. To get a de-fragmented frame, use `newframe = frame.copy()`\n",
      "  df_films[f'{colonne}_{genre}'] = df_films[f'{colonne}'].apply(lambda x: genre in x)\n",
      "/var/folders/2b/18xblx_n4lv24wz932vjckrm0000gp/T/ipykernel_14780/1408838262.py:4: PerformanceWarning: DataFrame is highly fragmented.  This is usually the result of calling `frame.insert` many times, which has poor performance.  Consider joining all columns at once using pd.concat(axis=1) instead. To get a de-fragmented frame, use `newframe = frame.copy()`\n",
      "  df_films[f'{colonne}_{genre}'] = df_films[f'{colonne}'].apply(lambda x: genre in x)\n",
      "/var/folders/2b/18xblx_n4lv24wz932vjckrm0000gp/T/ipykernel_14780/1408838262.py:4: PerformanceWarning: DataFrame is highly fragmented.  This is usually the result of calling `frame.insert` many times, which has poor performance.  Consider joining all columns at once using pd.concat(axis=1) instead. To get a de-fragmented frame, use `newframe = frame.copy()`\n",
      "  df_films[f'{colonne}_{genre}'] = df_films[f'{colonne}'].apply(lambda x: genre in x)\n",
      "/var/folders/2b/18xblx_n4lv24wz932vjckrm0000gp/T/ipykernel_14780/1408838262.py:4: PerformanceWarning: DataFrame is highly fragmented.  This is usually the result of calling `frame.insert` many times, which has poor performance.  Consider joining all columns at once using pd.concat(axis=1) instead. To get a de-fragmented frame, use `newframe = frame.copy()`\n",
      "  df_films[f'{colonne}_{genre}'] = df_films[f'{colonne}'].apply(lambda x: genre in x)\n",
      "/var/folders/2b/18xblx_n4lv24wz932vjckrm0000gp/T/ipykernel_14780/1408838262.py:4: PerformanceWarning: DataFrame is highly fragmented.  This is usually the result of calling `frame.insert` many times, which has poor performance.  Consider joining all columns at once using pd.concat(axis=1) instead. To get a de-fragmented frame, use `newframe = frame.copy()`\n",
      "  df_films[f'{colonne}_{genre}'] = df_films[f'{colonne}'].apply(lambda x: genre in x)\n",
      "/var/folders/2b/18xblx_n4lv24wz932vjckrm0000gp/T/ipykernel_14780/1408838262.py:4: PerformanceWarning: DataFrame is highly fragmented.  This is usually the result of calling `frame.insert` many times, which has poor performance.  Consider joining all columns at once using pd.concat(axis=1) instead. To get a de-fragmented frame, use `newframe = frame.copy()`\n",
      "  df_films[f'{colonne}_{genre}'] = df_films[f'{colonne}'].apply(lambda x: genre in x)\n",
      "/var/folders/2b/18xblx_n4lv24wz932vjckrm0000gp/T/ipykernel_14780/1408838262.py:4: PerformanceWarning: DataFrame is highly fragmented.  This is usually the result of calling `frame.insert` many times, which has poor performance.  Consider joining all columns at once using pd.concat(axis=1) instead. To get a de-fragmented frame, use `newframe = frame.copy()`\n",
      "  df_films[f'{colonne}_{genre}'] = df_films[f'{colonne}'].apply(lambda x: genre in x)\n",
      "/var/folders/2b/18xblx_n4lv24wz932vjckrm0000gp/T/ipykernel_14780/1408838262.py:4: PerformanceWarning: DataFrame is highly fragmented.  This is usually the result of calling `frame.insert` many times, which has poor performance.  Consider joining all columns at once using pd.concat(axis=1) instead. To get a de-fragmented frame, use `newframe = frame.copy()`\n",
      "  df_films[f'{colonne}_{genre}'] = df_films[f'{colonne}'].apply(lambda x: genre in x)\n",
      "/var/folders/2b/18xblx_n4lv24wz932vjckrm0000gp/T/ipykernel_14780/1408838262.py:4: PerformanceWarning: DataFrame is highly fragmented.  This is usually the result of calling `frame.insert` many times, which has poor performance.  Consider joining all columns at once using pd.concat(axis=1) instead. To get a de-fragmented frame, use `newframe = frame.copy()`\n",
      "  df_films[f'{colonne}_{genre}'] = df_films[f'{colonne}'].apply(lambda x: genre in x)\n",
      "/var/folders/2b/18xblx_n4lv24wz932vjckrm0000gp/T/ipykernel_14780/1408838262.py:4: PerformanceWarning: DataFrame is highly fragmented.  This is usually the result of calling `frame.insert` many times, which has poor performance.  Consider joining all columns at once using pd.concat(axis=1) instead. To get a de-fragmented frame, use `newframe = frame.copy()`\n",
      "  df_films[f'{colonne}_{genre}'] = df_films[f'{colonne}'].apply(lambda x: genre in x)\n",
      "/var/folders/2b/18xblx_n4lv24wz932vjckrm0000gp/T/ipykernel_14780/1408838262.py:4: PerformanceWarning: DataFrame is highly fragmented.  This is usually the result of calling `frame.insert` many times, which has poor performance.  Consider joining all columns at once using pd.concat(axis=1) instead. To get a de-fragmented frame, use `newframe = frame.copy()`\n",
      "  df_films[f'{colonne}_{genre}'] = df_films[f'{colonne}'].apply(lambda x: genre in x)\n",
      "/var/folders/2b/18xblx_n4lv24wz932vjckrm0000gp/T/ipykernel_14780/1408838262.py:4: PerformanceWarning: DataFrame is highly fragmented.  This is usually the result of calling `frame.insert` many times, which has poor performance.  Consider joining all columns at once using pd.concat(axis=1) instead. To get a de-fragmented frame, use `newframe = frame.copy()`\n",
      "  df_films[f'{colonne}_{genre}'] = df_films[f'{colonne}'].apply(lambda x: genre in x)\n",
      "/var/folders/2b/18xblx_n4lv24wz932vjckrm0000gp/T/ipykernel_14780/1408838262.py:4: PerformanceWarning: DataFrame is highly fragmented.  This is usually the result of calling `frame.insert` many times, which has poor performance.  Consider joining all columns at once using pd.concat(axis=1) instead. To get a de-fragmented frame, use `newframe = frame.copy()`\n",
      "  df_films[f'{colonne}_{genre}'] = df_films[f'{colonne}'].apply(lambda x: genre in x)\n",
      "/var/folders/2b/18xblx_n4lv24wz932vjckrm0000gp/T/ipykernel_14780/1408838262.py:4: PerformanceWarning: DataFrame is highly fragmented.  This is usually the result of calling `frame.insert` many times, which has poor performance.  Consider joining all columns at once using pd.concat(axis=1) instead. To get a de-fragmented frame, use `newframe = frame.copy()`\n",
      "  df_films[f'{colonne}_{genre}'] = df_films[f'{colonne}'].apply(lambda x: genre in x)\n",
      "/var/folders/2b/18xblx_n4lv24wz932vjckrm0000gp/T/ipykernel_14780/1408838262.py:4: PerformanceWarning: DataFrame is highly fragmented.  This is usually the result of calling `frame.insert` many times, which has poor performance.  Consider joining all columns at once using pd.concat(axis=1) instead. To get a de-fragmented frame, use `newframe = frame.copy()`\n",
      "  df_films[f'{colonne}_{genre}'] = df_films[f'{colonne}'].apply(lambda x: genre in x)\n",
      "/var/folders/2b/18xblx_n4lv24wz932vjckrm0000gp/T/ipykernel_14780/1408838262.py:4: PerformanceWarning: DataFrame is highly fragmented.  This is usually the result of calling `frame.insert` many times, which has poor performance.  Consider joining all columns at once using pd.concat(axis=1) instead. To get a de-fragmented frame, use `newframe = frame.copy()`\n",
      "  df_films[f'{colonne}_{genre}'] = df_films[f'{colonne}'].apply(lambda x: genre in x)\n",
      "/var/folders/2b/18xblx_n4lv24wz932vjckrm0000gp/T/ipykernel_14780/1408838262.py:4: PerformanceWarning: DataFrame is highly fragmented.  This is usually the result of calling `frame.insert` many times, which has poor performance.  Consider joining all columns at once using pd.concat(axis=1) instead. To get a de-fragmented frame, use `newframe = frame.copy()`\n",
      "  df_films[f'{colonne}_{genre}'] = df_films[f'{colonne}'].apply(lambda x: genre in x)\n",
      "/var/folders/2b/18xblx_n4lv24wz932vjckrm0000gp/T/ipykernel_14780/1408838262.py:4: PerformanceWarning: DataFrame is highly fragmented.  This is usually the result of calling `frame.insert` many times, which has poor performance.  Consider joining all columns at once using pd.concat(axis=1) instead. To get a de-fragmented frame, use `newframe = frame.copy()`\n",
      "  df_films[f'{colonne}_{genre}'] = df_films[f'{colonne}'].apply(lambda x: genre in x)\n",
      "/var/folders/2b/18xblx_n4lv24wz932vjckrm0000gp/T/ipykernel_14780/1408838262.py:4: PerformanceWarning: DataFrame is highly fragmented.  This is usually the result of calling `frame.insert` many times, which has poor performance.  Consider joining all columns at once using pd.concat(axis=1) instead. To get a de-fragmented frame, use `newframe = frame.copy()`\n",
      "  df_films[f'{colonne}_{genre}'] = df_films[f'{colonne}'].apply(lambda x: genre in x)\n",
      "/var/folders/2b/18xblx_n4lv24wz932vjckrm0000gp/T/ipykernel_14780/1408838262.py:4: PerformanceWarning: DataFrame is highly fragmented.  This is usually the result of calling `frame.insert` many times, which has poor performance.  Consider joining all columns at once using pd.concat(axis=1) instead. To get a de-fragmented frame, use `newframe = frame.copy()`\n",
      "  df_films[f'{colonne}_{genre}'] = df_films[f'{colonne}'].apply(lambda x: genre in x)\n",
      "/var/folders/2b/18xblx_n4lv24wz932vjckrm0000gp/T/ipykernel_14780/1408838262.py:4: PerformanceWarning: DataFrame is highly fragmented.  This is usually the result of calling `frame.insert` many times, which has poor performance.  Consider joining all columns at once using pd.concat(axis=1) instead. To get a de-fragmented frame, use `newframe = frame.copy()`\n",
      "  df_films[f'{colonne}_{genre}'] = df_films[f'{colonne}'].apply(lambda x: genre in x)\n",
      "/var/folders/2b/18xblx_n4lv24wz932vjckrm0000gp/T/ipykernel_14780/1408838262.py:4: PerformanceWarning: DataFrame is highly fragmented.  This is usually the result of calling `frame.insert` many times, which has poor performance.  Consider joining all columns at once using pd.concat(axis=1) instead. To get a de-fragmented frame, use `newframe = frame.copy()`\n",
      "  df_films[f'{colonne}_{genre}'] = df_films[f'{colonne}'].apply(lambda x: genre in x)\n",
      "/var/folders/2b/18xblx_n4lv24wz932vjckrm0000gp/T/ipykernel_14780/1408838262.py:4: PerformanceWarning: DataFrame is highly fragmented.  This is usually the result of calling `frame.insert` many times, which has poor performance.  Consider joining all columns at once using pd.concat(axis=1) instead. To get a de-fragmented frame, use `newframe = frame.copy()`\n",
      "  df_films[f'{colonne}_{genre}'] = df_films[f'{colonne}'].apply(lambda x: genre in x)\n",
      "/var/folders/2b/18xblx_n4lv24wz932vjckrm0000gp/T/ipykernel_14780/1408838262.py:4: PerformanceWarning: DataFrame is highly fragmented.  This is usually the result of calling `frame.insert` many times, which has poor performance.  Consider joining all columns at once using pd.concat(axis=1) instead. To get a de-fragmented frame, use `newframe = frame.copy()`\n",
      "  df_films[f'{colonne}_{genre}'] = df_films[f'{colonne}'].apply(lambda x: genre in x)\n",
      "/var/folders/2b/18xblx_n4lv24wz932vjckrm0000gp/T/ipykernel_14780/1408838262.py:4: PerformanceWarning: DataFrame is highly fragmented.  This is usually the result of calling `frame.insert` many times, which has poor performance.  Consider joining all columns at once using pd.concat(axis=1) instead. To get a de-fragmented frame, use `newframe = frame.copy()`\n",
      "  df_films[f'{colonne}_{genre}'] = df_films[f'{colonne}'].apply(lambda x: genre in x)\n",
      "/var/folders/2b/18xblx_n4lv24wz932vjckrm0000gp/T/ipykernel_14780/1408838262.py:4: PerformanceWarning: DataFrame is highly fragmented.  This is usually the result of calling `frame.insert` many times, which has poor performance.  Consider joining all columns at once using pd.concat(axis=1) instead. To get a de-fragmented frame, use `newframe = frame.copy()`\n",
      "  df_films[f'{colonne}_{genre}'] = df_films[f'{colonne}'].apply(lambda x: genre in x)\n",
      "/var/folders/2b/18xblx_n4lv24wz932vjckrm0000gp/T/ipykernel_14780/1408838262.py:4: PerformanceWarning: DataFrame is highly fragmented.  This is usually the result of calling `frame.insert` many times, which has poor performance.  Consider joining all columns at once using pd.concat(axis=1) instead. To get a de-fragmented frame, use `newframe = frame.copy()`\n",
      "  df_films[f'{colonne}_{genre}'] = df_films[f'{colonne}'].apply(lambda x: genre in x)\n",
      "/var/folders/2b/18xblx_n4lv24wz932vjckrm0000gp/T/ipykernel_14780/1408838262.py:4: PerformanceWarning: DataFrame is highly fragmented.  This is usually the result of calling `frame.insert` many times, which has poor performance.  Consider joining all columns at once using pd.concat(axis=1) instead. To get a de-fragmented frame, use `newframe = frame.copy()`\n",
      "  df_films[f'{colonne}_{genre}'] = df_films[f'{colonne}'].apply(lambda x: genre in x)\n",
      "/var/folders/2b/18xblx_n4lv24wz932vjckrm0000gp/T/ipykernel_14780/1408838262.py:4: PerformanceWarning: DataFrame is highly fragmented.  This is usually the result of calling `frame.insert` many times, which has poor performance.  Consider joining all columns at once using pd.concat(axis=1) instead. To get a de-fragmented frame, use `newframe = frame.copy()`\n",
      "  df_films[f'{colonne}_{genre}'] = df_films[f'{colonne}'].apply(lambda x: genre in x)\n",
      "/var/folders/2b/18xblx_n4lv24wz932vjckrm0000gp/T/ipykernel_14780/1408838262.py:4: PerformanceWarning: DataFrame is highly fragmented.  This is usually the result of calling `frame.insert` many times, which has poor performance.  Consider joining all columns at once using pd.concat(axis=1) instead. To get a de-fragmented frame, use `newframe = frame.copy()`\n",
      "  df_films[f'{colonne}_{genre}'] = df_films[f'{colonne}'].apply(lambda x: genre in x)\n",
      "/var/folders/2b/18xblx_n4lv24wz932vjckrm0000gp/T/ipykernel_14780/1408838262.py:4: PerformanceWarning: DataFrame is highly fragmented.  This is usually the result of calling `frame.insert` many times, which has poor performance.  Consider joining all columns at once using pd.concat(axis=1) instead. To get a de-fragmented frame, use `newframe = frame.copy()`\n",
      "  df_films[f'{colonne}_{genre}'] = df_films[f'{colonne}'].apply(lambda x: genre in x)\n",
      "/var/folders/2b/18xblx_n4lv24wz932vjckrm0000gp/T/ipykernel_14780/1408838262.py:4: PerformanceWarning: DataFrame is highly fragmented.  This is usually the result of calling `frame.insert` many times, which has poor performance.  Consider joining all columns at once using pd.concat(axis=1) instead. To get a de-fragmented frame, use `newframe = frame.copy()`\n",
      "  df_films[f'{colonne}_{genre}'] = df_films[f'{colonne}'].apply(lambda x: genre in x)\n",
      "/var/folders/2b/18xblx_n4lv24wz932vjckrm0000gp/T/ipykernel_14780/1408838262.py:4: PerformanceWarning: DataFrame is highly fragmented.  This is usually the result of calling `frame.insert` many times, which has poor performance.  Consider joining all columns at once using pd.concat(axis=1) instead. To get a de-fragmented frame, use `newframe = frame.copy()`\n",
      "  df_films[f'{colonne}_{genre}'] = df_films[f'{colonne}'].apply(lambda x: genre in x)\n",
      "/var/folders/2b/18xblx_n4lv24wz932vjckrm0000gp/T/ipykernel_14780/1408838262.py:4: PerformanceWarning: DataFrame is highly fragmented.  This is usually the result of calling `frame.insert` many times, which has poor performance.  Consider joining all columns at once using pd.concat(axis=1) instead. To get a de-fragmented frame, use `newframe = frame.copy()`\n",
      "  df_films[f'{colonne}_{genre}'] = df_films[f'{colonne}'].apply(lambda x: genre in x)\n",
      "/var/folders/2b/18xblx_n4lv24wz932vjckrm0000gp/T/ipykernel_14780/1408838262.py:4: PerformanceWarning: DataFrame is highly fragmented.  This is usually the result of calling `frame.insert` many times, which has poor performance.  Consider joining all columns at once using pd.concat(axis=1) instead. To get a de-fragmented frame, use `newframe = frame.copy()`\n",
      "  df_films[f'{colonne}_{genre}'] = df_films[f'{colonne}'].apply(lambda x: genre in x)\n",
      "/var/folders/2b/18xblx_n4lv24wz932vjckrm0000gp/T/ipykernel_14780/1408838262.py:4: PerformanceWarning: DataFrame is highly fragmented.  This is usually the result of calling `frame.insert` many times, which has poor performance.  Consider joining all columns at once using pd.concat(axis=1) instead. To get a de-fragmented frame, use `newframe = frame.copy()`\n",
      "  df_films[f'{colonne}_{genre}'] = df_films[f'{colonne}'].apply(lambda x: genre in x)\n",
      "/var/folders/2b/18xblx_n4lv24wz932vjckrm0000gp/T/ipykernel_14780/1408838262.py:4: PerformanceWarning: DataFrame is highly fragmented.  This is usually the result of calling `frame.insert` many times, which has poor performance.  Consider joining all columns at once using pd.concat(axis=1) instead. To get a de-fragmented frame, use `newframe = frame.copy()`\n",
      "  df_films[f'{colonne}_{genre}'] = df_films[f'{colonne}'].apply(lambda x: genre in x)\n",
      "/var/folders/2b/18xblx_n4lv24wz932vjckrm0000gp/T/ipykernel_14780/1408838262.py:4: PerformanceWarning: DataFrame is highly fragmented.  This is usually the result of calling `frame.insert` many times, which has poor performance.  Consider joining all columns at once using pd.concat(axis=1) instead. To get a de-fragmented frame, use `newframe = frame.copy()`\n",
      "  df_films[f'{colonne}_{genre}'] = df_films[f'{colonne}'].apply(lambda x: genre in x)\n",
      "/var/folders/2b/18xblx_n4lv24wz932vjckrm0000gp/T/ipykernel_14780/1408838262.py:4: PerformanceWarning: DataFrame is highly fragmented.  This is usually the result of calling `frame.insert` many times, which has poor performance.  Consider joining all columns at once using pd.concat(axis=1) instead. To get a de-fragmented frame, use `newframe = frame.copy()`\n",
      "  df_films[f'{colonne}_{genre}'] = df_films[f'{colonne}'].apply(lambda x: genre in x)\n",
      "/var/folders/2b/18xblx_n4lv24wz932vjckrm0000gp/T/ipykernel_14780/1408838262.py:4: PerformanceWarning: DataFrame is highly fragmented.  This is usually the result of calling `frame.insert` many times, which has poor performance.  Consider joining all columns at once using pd.concat(axis=1) instead. To get a de-fragmented frame, use `newframe = frame.copy()`\n",
      "  df_films[f'{colonne}_{genre}'] = df_films[f'{colonne}'].apply(lambda x: genre in x)\n",
      "/var/folders/2b/18xblx_n4lv24wz932vjckrm0000gp/T/ipykernel_14780/1408838262.py:4: PerformanceWarning: DataFrame is highly fragmented.  This is usually the result of calling `frame.insert` many times, which has poor performance.  Consider joining all columns at once using pd.concat(axis=1) instead. To get a de-fragmented frame, use `newframe = frame.copy()`\n",
      "  df_films[f'{colonne}_{genre}'] = df_films[f'{colonne}'].apply(lambda x: genre in x)\n",
      "/var/folders/2b/18xblx_n4lv24wz932vjckrm0000gp/T/ipykernel_14780/1408838262.py:4: PerformanceWarning: DataFrame is highly fragmented.  This is usually the result of calling `frame.insert` many times, which has poor performance.  Consider joining all columns at once using pd.concat(axis=1) instead. To get a de-fragmented frame, use `newframe = frame.copy()`\n",
      "  df_films[f'{colonne}_{genre}'] = df_films[f'{colonne}'].apply(lambda x: genre in x)\n",
      "/var/folders/2b/18xblx_n4lv24wz932vjckrm0000gp/T/ipykernel_14780/1408838262.py:4: PerformanceWarning: DataFrame is highly fragmented.  This is usually the result of calling `frame.insert` many times, which has poor performance.  Consider joining all columns at once using pd.concat(axis=1) instead. To get a de-fragmented frame, use `newframe = frame.copy()`\n",
      "  df_films[f'{colonne}_{genre}'] = df_films[f'{colonne}'].apply(lambda x: genre in x)\n",
      "/var/folders/2b/18xblx_n4lv24wz932vjckrm0000gp/T/ipykernel_14780/1408838262.py:4: PerformanceWarning: DataFrame is highly fragmented.  This is usually the result of calling `frame.insert` many times, which has poor performance.  Consider joining all columns at once using pd.concat(axis=1) instead. To get a de-fragmented frame, use `newframe = frame.copy()`\n",
      "  df_films[f'{colonne}_{genre}'] = df_films[f'{colonne}'].apply(lambda x: genre in x)\n",
      "/var/folders/2b/18xblx_n4lv24wz932vjckrm0000gp/T/ipykernel_14780/1408838262.py:4: PerformanceWarning: DataFrame is highly fragmented.  This is usually the result of calling `frame.insert` many times, which has poor performance.  Consider joining all columns at once using pd.concat(axis=1) instead. To get a de-fragmented frame, use `newframe = frame.copy()`\n",
      "  df_films[f'{colonne}_{genre}'] = df_films[f'{colonne}'].apply(lambda x: genre in x)\n",
      "/var/folders/2b/18xblx_n4lv24wz932vjckrm0000gp/T/ipykernel_14780/1408838262.py:4: PerformanceWarning: DataFrame is highly fragmented.  This is usually the result of calling `frame.insert` many times, which has poor performance.  Consider joining all columns at once using pd.concat(axis=1) instead. To get a de-fragmented frame, use `newframe = frame.copy()`\n",
      "  df_films[f'{colonne}_{genre}'] = df_films[f'{colonne}'].apply(lambda x: genre in x)\n",
      "/var/folders/2b/18xblx_n4lv24wz932vjckrm0000gp/T/ipykernel_14780/1408838262.py:4: PerformanceWarning: DataFrame is highly fragmented.  This is usually the result of calling `frame.insert` many times, which has poor performance.  Consider joining all columns at once using pd.concat(axis=1) instead. To get a de-fragmented frame, use `newframe = frame.copy()`\n",
      "  df_films[f'{colonne}_{genre}'] = df_films[f'{colonne}'].apply(lambda x: genre in x)\n",
      "/var/folders/2b/18xblx_n4lv24wz932vjckrm0000gp/T/ipykernel_14780/1408838262.py:4: PerformanceWarning: DataFrame is highly fragmented.  This is usually the result of calling `frame.insert` many times, which has poor performance.  Consider joining all columns at once using pd.concat(axis=1) instead. To get a de-fragmented frame, use `newframe = frame.copy()`\n",
      "  df_films[f'{colonne}_{genre}'] = df_films[f'{colonne}'].apply(lambda x: genre in x)\n",
      "/var/folders/2b/18xblx_n4lv24wz932vjckrm0000gp/T/ipykernel_14780/1408838262.py:4: PerformanceWarning: DataFrame is highly fragmented.  This is usually the result of calling `frame.insert` many times, which has poor performance.  Consider joining all columns at once using pd.concat(axis=1) instead. To get a de-fragmented frame, use `newframe = frame.copy()`\n",
      "  df_films[f'{colonne}_{genre}'] = df_films[f'{colonne}'].apply(lambda x: genre in x)\n",
      "/var/folders/2b/18xblx_n4lv24wz932vjckrm0000gp/T/ipykernel_14780/1408838262.py:4: PerformanceWarning: DataFrame is highly fragmented.  This is usually the result of calling `frame.insert` many times, which has poor performance.  Consider joining all columns at once using pd.concat(axis=1) instead. To get a de-fragmented frame, use `newframe = frame.copy()`\n",
      "  df_films[f'{colonne}_{genre}'] = df_films[f'{colonne}'].apply(lambda x: genre in x)\n",
      "/var/folders/2b/18xblx_n4lv24wz932vjckrm0000gp/T/ipykernel_14780/1408838262.py:4: PerformanceWarning: DataFrame is highly fragmented.  This is usually the result of calling `frame.insert` many times, which has poor performance.  Consider joining all columns at once using pd.concat(axis=1) instead. To get a de-fragmented frame, use `newframe = frame.copy()`\n",
      "  df_films[f'{colonne}_{genre}'] = df_films[f'{colonne}'].apply(lambda x: genre in x)\n",
      "/var/folders/2b/18xblx_n4lv24wz932vjckrm0000gp/T/ipykernel_14780/1408838262.py:4: PerformanceWarning: DataFrame is highly fragmented.  This is usually the result of calling `frame.insert` many times, which has poor performance.  Consider joining all columns at once using pd.concat(axis=1) instead. To get a de-fragmented frame, use `newframe = frame.copy()`\n",
      "  df_films[f'{colonne}_{genre}'] = df_films[f'{colonne}'].apply(lambda x: genre in x)\n",
      "/var/folders/2b/18xblx_n4lv24wz932vjckrm0000gp/T/ipykernel_14780/1408838262.py:4: PerformanceWarning: DataFrame is highly fragmented.  This is usually the result of calling `frame.insert` many times, which has poor performance.  Consider joining all columns at once using pd.concat(axis=1) instead. To get a de-fragmented frame, use `newframe = frame.copy()`\n",
      "  df_films[f'{colonne}_{genre}'] = df_films[f'{colonne}'].apply(lambda x: genre in x)\n",
      "/var/folders/2b/18xblx_n4lv24wz932vjckrm0000gp/T/ipykernel_14780/1408838262.py:4: PerformanceWarning: DataFrame is highly fragmented.  This is usually the result of calling `frame.insert` many times, which has poor performance.  Consider joining all columns at once using pd.concat(axis=1) instead. To get a de-fragmented frame, use `newframe = frame.copy()`\n",
      "  df_films[f'{colonne}_{genre}'] = df_films[f'{colonne}'].apply(lambda x: genre in x)\n",
      "/var/folders/2b/18xblx_n4lv24wz932vjckrm0000gp/T/ipykernel_14780/1408838262.py:4: PerformanceWarning: DataFrame is highly fragmented.  This is usually the result of calling `frame.insert` many times, which has poor performance.  Consider joining all columns at once using pd.concat(axis=1) instead. To get a de-fragmented frame, use `newframe = frame.copy()`\n",
      "  df_films[f'{colonne}_{genre}'] = df_films[f'{colonne}'].apply(lambda x: genre in x)\n",
      "/var/folders/2b/18xblx_n4lv24wz932vjckrm0000gp/T/ipykernel_14780/1408838262.py:4: PerformanceWarning: DataFrame is highly fragmented.  This is usually the result of calling `frame.insert` many times, which has poor performance.  Consider joining all columns at once using pd.concat(axis=1) instead. To get a de-fragmented frame, use `newframe = frame.copy()`\n",
      "  df_films[f'{colonne}_{genre}'] = df_films[f'{colonne}'].apply(lambda x: genre in x)\n",
      "/var/folders/2b/18xblx_n4lv24wz932vjckrm0000gp/T/ipykernel_14780/1408838262.py:4: PerformanceWarning: DataFrame is highly fragmented.  This is usually the result of calling `frame.insert` many times, which has poor performance.  Consider joining all columns at once using pd.concat(axis=1) instead. To get a de-fragmented frame, use `newframe = frame.copy()`\n",
      "  df_films[f'{colonne}_{genre}'] = df_films[f'{colonne}'].apply(lambda x: genre in x)\n",
      "/var/folders/2b/18xblx_n4lv24wz932vjckrm0000gp/T/ipykernel_14780/1408838262.py:4: PerformanceWarning: DataFrame is highly fragmented.  This is usually the result of calling `frame.insert` many times, which has poor performance.  Consider joining all columns at once using pd.concat(axis=1) instead. To get a de-fragmented frame, use `newframe = frame.copy()`\n",
      "  df_films[f'{colonne}_{genre}'] = df_films[f'{colonne}'].apply(lambda x: genre in x)\n",
      "/var/folders/2b/18xblx_n4lv24wz932vjckrm0000gp/T/ipykernel_14780/1408838262.py:4: PerformanceWarning: DataFrame is highly fragmented.  This is usually the result of calling `frame.insert` many times, which has poor performance.  Consider joining all columns at once using pd.concat(axis=1) instead. To get a de-fragmented frame, use `newframe = frame.copy()`\n",
      "  df_films[f'{colonne}_{genre}'] = df_films[f'{colonne}'].apply(lambda x: genre in x)\n",
      "/var/folders/2b/18xblx_n4lv24wz932vjckrm0000gp/T/ipykernel_14780/1408838262.py:4: PerformanceWarning: DataFrame is highly fragmented.  This is usually the result of calling `frame.insert` many times, which has poor performance.  Consider joining all columns at once using pd.concat(axis=1) instead. To get a de-fragmented frame, use `newframe = frame.copy()`\n",
      "  df_films[f'{colonne}_{genre}'] = df_films[f'{colonne}'].apply(lambda x: genre in x)\n"
     ]
    }
   ],
   "source": [
    "bool_colonnes(df_films, liste_acteur[0:limite_acteur], 'acteur_out_KNN')"
   ]
  },
  {
   "cell_type": "code",
   "execution_count": 216,
   "metadata": {},
   "outputs": [
    {
     "name": "stderr",
     "output_type": "stream",
     "text": [
      "/var/folders/2b/18xblx_n4lv24wz932vjckrm0000gp/T/ipykernel_14780/1408838262.py:4: PerformanceWarning: DataFrame is highly fragmented.  This is usually the result of calling `frame.insert` many times, which has poor performance.  Consider joining all columns at once using pd.concat(axis=1) instead. To get a de-fragmented frame, use `newframe = frame.copy()`\n",
      "  df_films[f'{colonne}_{genre}'] = df_films[f'{colonne}'].apply(lambda x: genre in x)\n",
      "/var/folders/2b/18xblx_n4lv24wz932vjckrm0000gp/T/ipykernel_14780/1408838262.py:4: PerformanceWarning: DataFrame is highly fragmented.  This is usually the result of calling `frame.insert` many times, which has poor performance.  Consider joining all columns at once using pd.concat(axis=1) instead. To get a de-fragmented frame, use `newframe = frame.copy()`\n",
      "  df_films[f'{colonne}_{genre}'] = df_films[f'{colonne}'].apply(lambda x: genre in x)\n",
      "/var/folders/2b/18xblx_n4lv24wz932vjckrm0000gp/T/ipykernel_14780/1408838262.py:4: PerformanceWarning: DataFrame is highly fragmented.  This is usually the result of calling `frame.insert` many times, which has poor performance.  Consider joining all columns at once using pd.concat(axis=1) instead. To get a de-fragmented frame, use `newframe = frame.copy()`\n",
      "  df_films[f'{colonne}_{genre}'] = df_films[f'{colonne}'].apply(lambda x: genre in x)\n",
      "/var/folders/2b/18xblx_n4lv24wz932vjckrm0000gp/T/ipykernel_14780/1408838262.py:4: PerformanceWarning: DataFrame is highly fragmented.  This is usually the result of calling `frame.insert` many times, which has poor performance.  Consider joining all columns at once using pd.concat(axis=1) instead. To get a de-fragmented frame, use `newframe = frame.copy()`\n",
      "  df_films[f'{colonne}_{genre}'] = df_films[f'{colonne}'].apply(lambda x: genre in x)\n",
      "/var/folders/2b/18xblx_n4lv24wz932vjckrm0000gp/T/ipykernel_14780/1408838262.py:4: PerformanceWarning: DataFrame is highly fragmented.  This is usually the result of calling `frame.insert` many times, which has poor performance.  Consider joining all columns at once using pd.concat(axis=1) instead. To get a de-fragmented frame, use `newframe = frame.copy()`\n",
      "  df_films[f'{colonne}_{genre}'] = df_films[f'{colonne}'].apply(lambda x: genre in x)\n",
      "/var/folders/2b/18xblx_n4lv24wz932vjckrm0000gp/T/ipykernel_14780/1408838262.py:4: PerformanceWarning: DataFrame is highly fragmented.  This is usually the result of calling `frame.insert` many times, which has poor performance.  Consider joining all columns at once using pd.concat(axis=1) instead. To get a de-fragmented frame, use `newframe = frame.copy()`\n",
      "  df_films[f'{colonne}_{genre}'] = df_films[f'{colonne}'].apply(lambda x: genre in x)\n",
      "/var/folders/2b/18xblx_n4lv24wz932vjckrm0000gp/T/ipykernel_14780/1408838262.py:4: PerformanceWarning: DataFrame is highly fragmented.  This is usually the result of calling `frame.insert` many times, which has poor performance.  Consider joining all columns at once using pd.concat(axis=1) instead. To get a de-fragmented frame, use `newframe = frame.copy()`\n",
      "  df_films[f'{colonne}_{genre}'] = df_films[f'{colonne}'].apply(lambda x: genre in x)\n",
      "/var/folders/2b/18xblx_n4lv24wz932vjckrm0000gp/T/ipykernel_14780/1408838262.py:4: PerformanceWarning: DataFrame is highly fragmented.  This is usually the result of calling `frame.insert` many times, which has poor performance.  Consider joining all columns at once using pd.concat(axis=1) instead. To get a de-fragmented frame, use `newframe = frame.copy()`\n",
      "  df_films[f'{colonne}_{genre}'] = df_films[f'{colonne}'].apply(lambda x: genre in x)\n",
      "/var/folders/2b/18xblx_n4lv24wz932vjckrm0000gp/T/ipykernel_14780/1408838262.py:4: PerformanceWarning: DataFrame is highly fragmented.  This is usually the result of calling `frame.insert` many times, which has poor performance.  Consider joining all columns at once using pd.concat(axis=1) instead. To get a de-fragmented frame, use `newframe = frame.copy()`\n",
      "  df_films[f'{colonne}_{genre}'] = df_films[f'{colonne}'].apply(lambda x: genre in x)\n",
      "/var/folders/2b/18xblx_n4lv24wz932vjckrm0000gp/T/ipykernel_14780/1408838262.py:4: PerformanceWarning: DataFrame is highly fragmented.  This is usually the result of calling `frame.insert` many times, which has poor performance.  Consider joining all columns at once using pd.concat(axis=1) instead. To get a de-fragmented frame, use `newframe = frame.copy()`\n",
      "  df_films[f'{colonne}_{genre}'] = df_films[f'{colonne}'].apply(lambda x: genre in x)\n",
      "/var/folders/2b/18xblx_n4lv24wz932vjckrm0000gp/T/ipykernel_14780/1408838262.py:4: PerformanceWarning: DataFrame is highly fragmented.  This is usually the result of calling `frame.insert` many times, which has poor performance.  Consider joining all columns at once using pd.concat(axis=1) instead. To get a de-fragmented frame, use `newframe = frame.copy()`\n",
      "  df_films[f'{colonne}_{genre}'] = df_films[f'{colonne}'].apply(lambda x: genre in x)\n",
      "/var/folders/2b/18xblx_n4lv24wz932vjckrm0000gp/T/ipykernel_14780/1408838262.py:4: PerformanceWarning: DataFrame is highly fragmented.  This is usually the result of calling `frame.insert` many times, which has poor performance.  Consider joining all columns at once using pd.concat(axis=1) instead. To get a de-fragmented frame, use `newframe = frame.copy()`\n",
      "  df_films[f'{colonne}_{genre}'] = df_films[f'{colonne}'].apply(lambda x: genre in x)\n",
      "/var/folders/2b/18xblx_n4lv24wz932vjckrm0000gp/T/ipykernel_14780/1408838262.py:4: PerformanceWarning: DataFrame is highly fragmented.  This is usually the result of calling `frame.insert` many times, which has poor performance.  Consider joining all columns at once using pd.concat(axis=1) instead. To get a de-fragmented frame, use `newframe = frame.copy()`\n",
      "  df_films[f'{colonne}_{genre}'] = df_films[f'{colonne}'].apply(lambda x: genre in x)\n",
      "/var/folders/2b/18xblx_n4lv24wz932vjckrm0000gp/T/ipykernel_14780/1408838262.py:4: PerformanceWarning: DataFrame is highly fragmented.  This is usually the result of calling `frame.insert` many times, which has poor performance.  Consider joining all columns at once using pd.concat(axis=1) instead. To get a de-fragmented frame, use `newframe = frame.copy()`\n",
      "  df_films[f'{colonne}_{genre}'] = df_films[f'{colonne}'].apply(lambda x: genre in x)\n",
      "/var/folders/2b/18xblx_n4lv24wz932vjckrm0000gp/T/ipykernel_14780/1408838262.py:4: PerformanceWarning: DataFrame is highly fragmented.  This is usually the result of calling `frame.insert` many times, which has poor performance.  Consider joining all columns at once using pd.concat(axis=1) instead. To get a de-fragmented frame, use `newframe = frame.copy()`\n",
      "  df_films[f'{colonne}_{genre}'] = df_films[f'{colonne}'].apply(lambda x: genre in x)\n",
      "/var/folders/2b/18xblx_n4lv24wz932vjckrm0000gp/T/ipykernel_14780/1408838262.py:4: PerformanceWarning: DataFrame is highly fragmented.  This is usually the result of calling `frame.insert` many times, which has poor performance.  Consider joining all columns at once using pd.concat(axis=1) instead. To get a de-fragmented frame, use `newframe = frame.copy()`\n",
      "  df_films[f'{colonne}_{genre}'] = df_films[f'{colonne}'].apply(lambda x: genre in x)\n",
      "/var/folders/2b/18xblx_n4lv24wz932vjckrm0000gp/T/ipykernel_14780/1408838262.py:4: PerformanceWarning: DataFrame is highly fragmented.  This is usually the result of calling `frame.insert` many times, which has poor performance.  Consider joining all columns at once using pd.concat(axis=1) instead. To get a de-fragmented frame, use `newframe = frame.copy()`\n",
      "  df_films[f'{colonne}_{genre}'] = df_films[f'{colonne}'].apply(lambda x: genre in x)\n",
      "/var/folders/2b/18xblx_n4lv24wz932vjckrm0000gp/T/ipykernel_14780/1408838262.py:4: PerformanceWarning: DataFrame is highly fragmented.  This is usually the result of calling `frame.insert` many times, which has poor performance.  Consider joining all columns at once using pd.concat(axis=1) instead. To get a de-fragmented frame, use `newframe = frame.copy()`\n",
      "  df_films[f'{colonne}_{genre}'] = df_films[f'{colonne}'].apply(lambda x: genre in x)\n",
      "/var/folders/2b/18xblx_n4lv24wz932vjckrm0000gp/T/ipykernel_14780/1408838262.py:4: PerformanceWarning: DataFrame is highly fragmented.  This is usually the result of calling `frame.insert` many times, which has poor performance.  Consider joining all columns at once using pd.concat(axis=1) instead. To get a de-fragmented frame, use `newframe = frame.copy()`\n",
      "  df_films[f'{colonne}_{genre}'] = df_films[f'{colonne}'].apply(lambda x: genre in x)\n",
      "/var/folders/2b/18xblx_n4lv24wz932vjckrm0000gp/T/ipykernel_14780/1408838262.py:4: PerformanceWarning: DataFrame is highly fragmented.  This is usually the result of calling `frame.insert` many times, which has poor performance.  Consider joining all columns at once using pd.concat(axis=1) instead. To get a de-fragmented frame, use `newframe = frame.copy()`\n",
      "  df_films[f'{colonne}_{genre}'] = df_films[f'{colonne}'].apply(lambda x: genre in x)\n",
      "/var/folders/2b/18xblx_n4lv24wz932vjckrm0000gp/T/ipykernel_14780/1408838262.py:4: PerformanceWarning: DataFrame is highly fragmented.  This is usually the result of calling `frame.insert` many times, which has poor performance.  Consider joining all columns at once using pd.concat(axis=1) instead. To get a de-fragmented frame, use `newframe = frame.copy()`\n",
      "  df_films[f'{colonne}_{genre}'] = df_films[f'{colonne}'].apply(lambda x: genre in x)\n",
      "/var/folders/2b/18xblx_n4lv24wz932vjckrm0000gp/T/ipykernel_14780/1408838262.py:4: PerformanceWarning: DataFrame is highly fragmented.  This is usually the result of calling `frame.insert` many times, which has poor performance.  Consider joining all columns at once using pd.concat(axis=1) instead. To get a de-fragmented frame, use `newframe = frame.copy()`\n",
      "  df_films[f'{colonne}_{genre}'] = df_films[f'{colonne}'].apply(lambda x: genre in x)\n",
      "/var/folders/2b/18xblx_n4lv24wz932vjckrm0000gp/T/ipykernel_14780/1408838262.py:4: PerformanceWarning: DataFrame is highly fragmented.  This is usually the result of calling `frame.insert` many times, which has poor performance.  Consider joining all columns at once using pd.concat(axis=1) instead. To get a de-fragmented frame, use `newframe = frame.copy()`\n",
      "  df_films[f'{colonne}_{genre}'] = df_films[f'{colonne}'].apply(lambda x: genre in x)\n",
      "/var/folders/2b/18xblx_n4lv24wz932vjckrm0000gp/T/ipykernel_14780/1408838262.py:4: PerformanceWarning: DataFrame is highly fragmented.  This is usually the result of calling `frame.insert` many times, which has poor performance.  Consider joining all columns at once using pd.concat(axis=1) instead. To get a de-fragmented frame, use `newframe = frame.copy()`\n",
      "  df_films[f'{colonne}_{genre}'] = df_films[f'{colonne}'].apply(lambda x: genre in x)\n",
      "/var/folders/2b/18xblx_n4lv24wz932vjckrm0000gp/T/ipykernel_14780/1408838262.py:4: PerformanceWarning: DataFrame is highly fragmented.  This is usually the result of calling `frame.insert` many times, which has poor performance.  Consider joining all columns at once using pd.concat(axis=1) instead. To get a de-fragmented frame, use `newframe = frame.copy()`\n",
      "  df_films[f'{colonne}_{genre}'] = df_films[f'{colonne}'].apply(lambda x: genre in x)\n",
      "/var/folders/2b/18xblx_n4lv24wz932vjckrm0000gp/T/ipykernel_14780/1408838262.py:4: PerformanceWarning: DataFrame is highly fragmented.  This is usually the result of calling `frame.insert` many times, which has poor performance.  Consider joining all columns at once using pd.concat(axis=1) instead. To get a de-fragmented frame, use `newframe = frame.copy()`\n",
      "  df_films[f'{colonne}_{genre}'] = df_films[f'{colonne}'].apply(lambda x: genre in x)\n",
      "/var/folders/2b/18xblx_n4lv24wz932vjckrm0000gp/T/ipykernel_14780/1408838262.py:4: PerformanceWarning: DataFrame is highly fragmented.  This is usually the result of calling `frame.insert` many times, which has poor performance.  Consider joining all columns at once using pd.concat(axis=1) instead. To get a de-fragmented frame, use `newframe = frame.copy()`\n",
      "  df_films[f'{colonne}_{genre}'] = df_films[f'{colonne}'].apply(lambda x: genre in x)\n",
      "/var/folders/2b/18xblx_n4lv24wz932vjckrm0000gp/T/ipykernel_14780/1408838262.py:4: PerformanceWarning: DataFrame is highly fragmented.  This is usually the result of calling `frame.insert` many times, which has poor performance.  Consider joining all columns at once using pd.concat(axis=1) instead. To get a de-fragmented frame, use `newframe = frame.copy()`\n",
      "  df_films[f'{colonne}_{genre}'] = df_films[f'{colonne}'].apply(lambda x: genre in x)\n",
      "/var/folders/2b/18xblx_n4lv24wz932vjckrm0000gp/T/ipykernel_14780/1408838262.py:4: PerformanceWarning: DataFrame is highly fragmented.  This is usually the result of calling `frame.insert` many times, which has poor performance.  Consider joining all columns at once using pd.concat(axis=1) instead. To get a de-fragmented frame, use `newframe = frame.copy()`\n",
      "  df_films[f'{colonne}_{genre}'] = df_films[f'{colonne}'].apply(lambda x: genre in x)\n",
      "/var/folders/2b/18xblx_n4lv24wz932vjckrm0000gp/T/ipykernel_14780/1408838262.py:4: PerformanceWarning: DataFrame is highly fragmented.  This is usually the result of calling `frame.insert` many times, which has poor performance.  Consider joining all columns at once using pd.concat(axis=1) instead. To get a de-fragmented frame, use `newframe = frame.copy()`\n",
      "  df_films[f'{colonne}_{genre}'] = df_films[f'{colonne}'].apply(lambda x: genre in x)\n",
      "/var/folders/2b/18xblx_n4lv24wz932vjckrm0000gp/T/ipykernel_14780/1408838262.py:4: PerformanceWarning: DataFrame is highly fragmented.  This is usually the result of calling `frame.insert` many times, which has poor performance.  Consider joining all columns at once using pd.concat(axis=1) instead. To get a de-fragmented frame, use `newframe = frame.copy()`\n",
      "  df_films[f'{colonne}_{genre}'] = df_films[f'{colonne}'].apply(lambda x: genre in x)\n",
      "/var/folders/2b/18xblx_n4lv24wz932vjckrm0000gp/T/ipykernel_14780/1408838262.py:4: PerformanceWarning: DataFrame is highly fragmented.  This is usually the result of calling `frame.insert` many times, which has poor performance.  Consider joining all columns at once using pd.concat(axis=1) instead. To get a de-fragmented frame, use `newframe = frame.copy()`\n",
      "  df_films[f'{colonne}_{genre}'] = df_films[f'{colonne}'].apply(lambda x: genre in x)\n",
      "/var/folders/2b/18xblx_n4lv24wz932vjckrm0000gp/T/ipykernel_14780/1408838262.py:4: PerformanceWarning: DataFrame is highly fragmented.  This is usually the result of calling `frame.insert` many times, which has poor performance.  Consider joining all columns at once using pd.concat(axis=1) instead. To get a de-fragmented frame, use `newframe = frame.copy()`\n",
      "  df_films[f'{colonne}_{genre}'] = df_films[f'{colonne}'].apply(lambda x: genre in x)\n",
      "/var/folders/2b/18xblx_n4lv24wz932vjckrm0000gp/T/ipykernel_14780/1408838262.py:4: PerformanceWarning: DataFrame is highly fragmented.  This is usually the result of calling `frame.insert` many times, which has poor performance.  Consider joining all columns at once using pd.concat(axis=1) instead. To get a de-fragmented frame, use `newframe = frame.copy()`\n",
      "  df_films[f'{colonne}_{genre}'] = df_films[f'{colonne}'].apply(lambda x: genre in x)\n",
      "/var/folders/2b/18xblx_n4lv24wz932vjckrm0000gp/T/ipykernel_14780/1408838262.py:4: PerformanceWarning: DataFrame is highly fragmented.  This is usually the result of calling `frame.insert` many times, which has poor performance.  Consider joining all columns at once using pd.concat(axis=1) instead. To get a de-fragmented frame, use `newframe = frame.copy()`\n",
      "  df_films[f'{colonne}_{genre}'] = df_films[f'{colonne}'].apply(lambda x: genre in x)\n",
      "/var/folders/2b/18xblx_n4lv24wz932vjckrm0000gp/T/ipykernel_14780/1408838262.py:4: PerformanceWarning: DataFrame is highly fragmented.  This is usually the result of calling `frame.insert` many times, which has poor performance.  Consider joining all columns at once using pd.concat(axis=1) instead. To get a de-fragmented frame, use `newframe = frame.copy()`\n",
      "  df_films[f'{colonne}_{genre}'] = df_films[f'{colonne}'].apply(lambda x: genre in x)\n",
      "/var/folders/2b/18xblx_n4lv24wz932vjckrm0000gp/T/ipykernel_14780/1408838262.py:4: PerformanceWarning: DataFrame is highly fragmented.  This is usually the result of calling `frame.insert` many times, which has poor performance.  Consider joining all columns at once using pd.concat(axis=1) instead. To get a de-fragmented frame, use `newframe = frame.copy()`\n",
      "  df_films[f'{colonne}_{genre}'] = df_films[f'{colonne}'].apply(lambda x: genre in x)\n",
      "/var/folders/2b/18xblx_n4lv24wz932vjckrm0000gp/T/ipykernel_14780/1408838262.py:4: PerformanceWarning: DataFrame is highly fragmented.  This is usually the result of calling `frame.insert` many times, which has poor performance.  Consider joining all columns at once using pd.concat(axis=1) instead. To get a de-fragmented frame, use `newframe = frame.copy()`\n",
      "  df_films[f'{colonne}_{genre}'] = df_films[f'{colonne}'].apply(lambda x: genre in x)\n",
      "/var/folders/2b/18xblx_n4lv24wz932vjckrm0000gp/T/ipykernel_14780/1408838262.py:4: PerformanceWarning: DataFrame is highly fragmented.  This is usually the result of calling `frame.insert` many times, which has poor performance.  Consider joining all columns at once using pd.concat(axis=1) instead. To get a de-fragmented frame, use `newframe = frame.copy()`\n",
      "  df_films[f'{colonne}_{genre}'] = df_films[f'{colonne}'].apply(lambda x: genre in x)\n",
      "/var/folders/2b/18xblx_n4lv24wz932vjckrm0000gp/T/ipykernel_14780/1408838262.py:4: PerformanceWarning: DataFrame is highly fragmented.  This is usually the result of calling `frame.insert` many times, which has poor performance.  Consider joining all columns at once using pd.concat(axis=1) instead. To get a de-fragmented frame, use `newframe = frame.copy()`\n",
      "  df_films[f'{colonne}_{genre}'] = df_films[f'{colonne}'].apply(lambda x: genre in x)\n",
      "/var/folders/2b/18xblx_n4lv24wz932vjckrm0000gp/T/ipykernel_14780/1408838262.py:4: PerformanceWarning: DataFrame is highly fragmented.  This is usually the result of calling `frame.insert` many times, which has poor performance.  Consider joining all columns at once using pd.concat(axis=1) instead. To get a de-fragmented frame, use `newframe = frame.copy()`\n",
      "  df_films[f'{colonne}_{genre}'] = df_films[f'{colonne}'].apply(lambda x: genre in x)\n",
      "/var/folders/2b/18xblx_n4lv24wz932vjckrm0000gp/T/ipykernel_14780/1408838262.py:4: PerformanceWarning: DataFrame is highly fragmented.  This is usually the result of calling `frame.insert` many times, which has poor performance.  Consider joining all columns at once using pd.concat(axis=1) instead. To get a de-fragmented frame, use `newframe = frame.copy()`\n",
      "  df_films[f'{colonne}_{genre}'] = df_films[f'{colonne}'].apply(lambda x: genre in x)\n",
      "/var/folders/2b/18xblx_n4lv24wz932vjckrm0000gp/T/ipykernel_14780/1408838262.py:4: PerformanceWarning: DataFrame is highly fragmented.  This is usually the result of calling `frame.insert` many times, which has poor performance.  Consider joining all columns at once using pd.concat(axis=1) instead. To get a de-fragmented frame, use `newframe = frame.copy()`\n",
      "  df_films[f'{colonne}_{genre}'] = df_films[f'{colonne}'].apply(lambda x: genre in x)\n",
      "/var/folders/2b/18xblx_n4lv24wz932vjckrm0000gp/T/ipykernel_14780/1408838262.py:4: PerformanceWarning: DataFrame is highly fragmented.  This is usually the result of calling `frame.insert` many times, which has poor performance.  Consider joining all columns at once using pd.concat(axis=1) instead. To get a de-fragmented frame, use `newframe = frame.copy()`\n",
      "  df_films[f'{colonne}_{genre}'] = df_films[f'{colonne}'].apply(lambda x: genre in x)\n",
      "/var/folders/2b/18xblx_n4lv24wz932vjckrm0000gp/T/ipykernel_14780/1408838262.py:4: PerformanceWarning: DataFrame is highly fragmented.  This is usually the result of calling `frame.insert` many times, which has poor performance.  Consider joining all columns at once using pd.concat(axis=1) instead. To get a de-fragmented frame, use `newframe = frame.copy()`\n",
      "  df_films[f'{colonne}_{genre}'] = df_films[f'{colonne}'].apply(lambda x: genre in x)\n",
      "/var/folders/2b/18xblx_n4lv24wz932vjckrm0000gp/T/ipykernel_14780/1408838262.py:4: PerformanceWarning: DataFrame is highly fragmented.  This is usually the result of calling `frame.insert` many times, which has poor performance.  Consider joining all columns at once using pd.concat(axis=1) instead. To get a de-fragmented frame, use `newframe = frame.copy()`\n",
      "  df_films[f'{colonne}_{genre}'] = df_films[f'{colonne}'].apply(lambda x: genre in x)\n",
      "/var/folders/2b/18xblx_n4lv24wz932vjckrm0000gp/T/ipykernel_14780/1408838262.py:4: PerformanceWarning: DataFrame is highly fragmented.  This is usually the result of calling `frame.insert` many times, which has poor performance.  Consider joining all columns at once using pd.concat(axis=1) instead. To get a de-fragmented frame, use `newframe = frame.copy()`\n",
      "  df_films[f'{colonne}_{genre}'] = df_films[f'{colonne}'].apply(lambda x: genre in x)\n",
      "/var/folders/2b/18xblx_n4lv24wz932vjckrm0000gp/T/ipykernel_14780/1408838262.py:4: PerformanceWarning: DataFrame is highly fragmented.  This is usually the result of calling `frame.insert` many times, which has poor performance.  Consider joining all columns at once using pd.concat(axis=1) instead. To get a de-fragmented frame, use `newframe = frame.copy()`\n",
      "  df_films[f'{colonne}_{genre}'] = df_films[f'{colonne}'].apply(lambda x: genre in x)\n",
      "/var/folders/2b/18xblx_n4lv24wz932vjckrm0000gp/T/ipykernel_14780/1408838262.py:4: PerformanceWarning: DataFrame is highly fragmented.  This is usually the result of calling `frame.insert` many times, which has poor performance.  Consider joining all columns at once using pd.concat(axis=1) instead. To get a de-fragmented frame, use `newframe = frame.copy()`\n",
      "  df_films[f'{colonne}_{genre}'] = df_films[f'{colonne}'].apply(lambda x: genre in x)\n",
      "/var/folders/2b/18xblx_n4lv24wz932vjckrm0000gp/T/ipykernel_14780/1408838262.py:4: PerformanceWarning: DataFrame is highly fragmented.  This is usually the result of calling `frame.insert` many times, which has poor performance.  Consider joining all columns at once using pd.concat(axis=1) instead. To get a de-fragmented frame, use `newframe = frame.copy()`\n",
      "  df_films[f'{colonne}_{genre}'] = df_films[f'{colonne}'].apply(lambda x: genre in x)\n"
     ]
    }
   ],
   "source": [
    "bool_colonnes(df_films, liste_production_companies_name[0:limite_production_companies_name], 'production_companies_name_out_KNN')"
   ]
  },
  {
   "cell_type": "code",
   "execution_count": 161,
   "metadata": {},
   "outputs": [],
   "source": [
    "# bool_colonnes(df_films, 'title_debut')"
   ]
  },
  {
   "cell_type": "markdown",
   "metadata": {},
   "source": [
    "DROP DES COLONNES"
   ]
  },
  {
   "cell_type": "code",
   "execution_count": 220,
   "metadata": {},
   "outputs": [],
   "source": [
    "colonnes = ['realisateurs_nan', 'acteur_nan', 'genre2', 'acteur2', 'realisateurs2', 'production_companies_name2', 'acteur_,', 'original_language', 'spoken_languages', 'language', 'original_language_x_list', 'language_x_list', 'films', 'genres_x_list', 'genres_x', 'genres_y', 'original_title', 'title_y', 'title_x', 'primaryTitle', 'originalTitle', 'isAdult', 'runtime', 'release_date', 'vote_average', 'numVotes', 'vote_count', 'startYear', 'endYear', 'runtimeMinutes', 'averageRating', 'difference_runtime', 'difference_vote', 'isOriginalTitle', 'revenue', 'budget', 'ordering', 'types', 'attributes', 'video', 'id', 'films', 'imdb_id', 'tconst', 'titleId', 'production_companies_country', 'acteur', 'realisateurs', 'realisateurs_a', 'realisateurs_7', 'realisateurs_0', 'realisateurs_4', 'realisateurs_9','realisateurs_5', 'realisateurs_8', 'realisateurs_m','realisateurs_3','realisateurs_1','realisateurs_,', 'realisateurs_n','realisateurs_6','realisateurs_2','acteur_a','acteur_7', 'acteur_0','acteur_9','acteur_5','acteur_8', 'acteur_m','acteur_4','acteur_3', 'acteur_1', 'acteur_', 'acteur_ ', 'acteur_n', 'acteur_6', 'acteur_2']\n",
    "\n",
    "for element in colonnes:\n",
    "    if element in df_films.columns:\n",
    "        df_films = df_films.drop(element, axis = 1)"
   ]
  },
  {
   "cell_type": "markdown",
   "metadata": {},
   "source": [
    "BOOL DES COLONNES"
   ]
  },
  {
   "cell_type": "code",
   "execution_count": 221,
   "metadata": {},
   "outputs": [],
   "source": [
    "df_films = transfo_col_bool(df_films)"
   ]
  },
  {
   "cell_type": "code",
   "execution_count": 223,
   "metadata": {},
   "outputs": [],
   "source": [
    "colonnes = list(df_films.select_dtypes(include = 'number').columns)\n",
    "supprimer = []\n",
    "\n",
    "df_null = pd.DataFrame(df_films[colonnes].sum()).transpose()\n",
    "\n",
    "for element in colonnes:\n",
    "    if df_null[element].iloc[0] == 0:\n",
    "        supprimer.append(element)\n",
    "\n",
    "if len(supprimer) > 0:\n",
    "    df_films = df_films.drop(supprimer, axis = 1)"
   ]
  },
  {
   "cell_type": "markdown",
   "metadata": {},
   "source": [
    "RENAME DES COLONNES"
   ]
  },
  {
   "cell_type": "code",
   "execution_count": 232,
   "metadata": {},
   "outputs": [],
   "source": [
    "list_rename = ['status', 'production_companies_name', 'genre', 'production_countries', 'language_fr', 'title_debut', 'titleType', 'title_len', 'region', 'backdrop_path', 'homepage', 'overview', 'poster_path', 'film_id', 'title', 'final_language', 'tagline', 'title']"
   ]
  },
  {
   "cell_type": "code",
   "execution_count": 233,
   "metadata": {},
   "outputs": [],
   "source": [
    "dico_rename = {}\n",
    "for element in list_rename:\n",
    "    if element in df_films.columns:\n",
    "        dico_rename.update({element: f'{element}_out_KNN'})"
   ]
  },
  {
   "cell_type": "code",
   "execution_count": 234,
   "metadata": {},
   "outputs": [],
   "source": [
    "df_films = df_films.rename(dico_rename, axis = 1)"
   ]
  },
  {
   "cell_type": "markdown",
   "metadata": {},
   "source": [
    "EXPORT"
   ]
  },
  {
   "cell_type": "code",
   "execution_count": 236,
   "metadata": {},
   "outputs": [],
   "source": [
    "df_films.to_csv('P2_G5_films.csv.gz', index=False, compression='gzip')"
   ]
  }
 ],
 "metadata": {
  "kernelspec": {
   "display_name": "base",
   "language": "python",
   "name": "python3"
  },
  "language_info": {
   "codemirror_mode": {
    "name": "ipython",
    "version": 3
   },
   "file_extension": ".py",
   "mimetype": "text/x-python",
   "name": "python",
   "nbconvert_exporter": "python",
   "pygments_lexer": "ipython3",
   "version": "3.12.4"
  }
 },
 "nbformat": 4,
 "nbformat_minor": 2
}
