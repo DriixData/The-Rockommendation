{
 "cells": [
  {
   "cell_type": "code",
   "execution_count": 1,
   "metadata": {},
   "outputs": [],
   "source": [
    "import pandas as pd\n",
    "import numpy as np"
   ]
  },
  {
   "cell_type": "code",
   "execution_count": 2,
   "metadata": {},
   "outputs": [],
   "source": [
    "# Objectif : df avec un film par ligne et le maximum d'infos \n",
    "# Etape 1 : Merge de toutes les tables hors film \n",
    "# Etape 2 : Rassenblement des colonne similaire \n",
    "# Etape 3 : Remplissage des infos manquantes ou suppression des lignes \n",
    "\n"
   ]
  },
  {
   "cell_type": "code",
   "execution_count": 3,
   "metadata": {},
   "outputs": [
    {
     "name": "stderr",
     "output_type": "stream",
     "text": [
      "/var/folders/2b/18xblx_n4lv24wz932vjckrm0000gp/T/ipykernel_4141/527731522.py:4: DtypeWarning: Columns (6) have mixed types. Specify dtype option on import or set low_memory=False.\n",
      "  df_title_akas = pd.read_csv(\"./BD/title.akas.tsv.gz\", compression = 'gzip', na_values=['\\\\N'], sep = '\\t')\n",
      "/var/folders/2b/18xblx_n4lv24wz932vjckrm0000gp/T/ipykernel_4141/527731522.py:9: DtypeWarning: Columns (7) have mixed types. Specify dtype option on import or set low_memory=False.\n",
      "  df_title_basics = pd.read_csv(\"BD/title.basics.tsv.gz\", compression = 'gzip', na_values=['\\\\N'], sep = '\\t')\n",
      "/var/folders/2b/18xblx_n4lv24wz932vjckrm0000gp/T/ipykernel_4141/527731522.py:22: DtypeWarning: Columns (24) have mixed types. Specify dtype option on import or set low_memory=False.\n",
      "  df_tmdb_full = pd.read_csv(\"./BD/tmdb_full.csv\")\n"
     ]
    }
   ],
   "source": [
    "# Etape 1 : Merge de toutes les tables hors film \n",
    "# Pour la table title akas ont supprime directement les film qui ne sont pas en français (un cinema ne peut pas proposer de film non traduit)\n",
    "# Il y a aussi des doublons de lignes \n",
    "df_title_akas = pd.read_csv(\"./BD/title.akas.tsv.gz\", compression = 'gzip', na_values=['\\\\N'], sep = '\\t')\n",
    "df_title_akas = df_title_akas[(df_title_akas['region'] == 'FR') | (df_title_akas['language'] == 'fr')]\n",
    "df_title_akas = df_title_akas.drop_duplicates(subset='titleId', keep='first')\n",
    "\n",
    "# Pour la table title basics on ne récupère que les films (titleType == 'movie')\n",
    "df_title_basics = pd.read_csv(\"BD/title.basics.tsv.gz\", compression = 'gzip', na_values=['\\\\N'], sep = '\\t')\n",
    "df_title_basics = df_title_basics[(df_title_basics['titleType'] == 'movie')]\n",
    "\n",
    "# On ne s'occupe pas de title crew pour le moment car on s'en occupera dans la gestion des acteurs\n",
    "# On ne s'occupe pas de title episode car elle sert pour les series (vu dans le doc) \n",
    "# On ne s'occupe pas de title principals car on s'en occupera dans la gestion des acteurs \n",
    "\n",
    "# Pour la table title rating on récupère tout mais on attend le même nombre que précédement \n",
    "df_title_rating = pd.read_csv(\"BD/title.ratings.tsv.gz\", compression = 'gzip', na_values=['\\\\N'], sep = '\\t')\n",
    "\n",
    "# On ne s'occupe pas de name basics car on s'en occupera dans la gestion des acteurs \n",
    "\n",
    "# Pour la table TMBD FULL on récupère tout \n",
    "df_tmdb_full = pd.read_csv(\"./BD/tmdb_full.csv\")\n",
    "df_tmdb_full['fr?'] = df_tmdb_full['spoken_languages'].apply(lambda x: 'fr' in x)\n",
    "df_tmdb_full = df_tmdb_full[df_tmdb_full['fr?']]"
   ]
  },
  {
   "cell_type": "code",
   "execution_count": 4,
   "metadata": {},
   "outputs": [],
   "source": [
    "# Merge entre df_title_akas et df_title_basics (attendu df_merge1 >= df_title_akas ou df_title_basics)\n",
    "df_merge1 = pd.merge(df_title_akas,\n",
    "                     df_title_basics,\n",
    "                     how = 'right',\n",
    "                     left_on = df_title_akas['titleId'],\n",
    "                     right_on = df_title_basics['tconst'])\n",
    "df_merge1['tconst'] = df_merge1['key_0']\n",
    "df_merge1 = df_merge1.drop(['key_0', 'titleId'], axis = 1)"
   ]
  },
  {
   "cell_type": "code",
   "execution_count": 5,
   "metadata": {},
   "outputs": [],
   "source": [
    "# Merge entre df_merge1 et df_title_rating (attendu df_merge2 = df_merge1 (en ligne))\n",
    "df_merge2 = pd.merge(df_merge1,\n",
    "                     df_title_rating,\n",
    "                     how = 'left',\n",
    "                     on = 'tconst')"
   ]
  },
  {
   "cell_type": "code",
   "execution_count": 6,
   "metadata": {},
   "outputs": [],
   "source": [
    "# Merge entre df_merge2 et df_tmdb_full (attendu df_merge3 >= df_merge1 ou df_tmdb_full (en ligne))\n",
    "df_merge3 = pd.merge(df_merge2,\n",
    "                     df_tmdb_full,\n",
    "                     how = 'outer',\n",
    "                     left_on = df_merge2['tconst'],\n",
    "                     right_on = df_tmdb_full['imdb_id'])"
   ]
  },
  {
   "cell_type": "code",
   "execution_count": 7,
   "metadata": {},
   "outputs": [],
   "source": [
    "# Etape 2 : Rassenblement des colonne similaire (lors d'un choix on priorise arbitrairement la table TMBD)\n",
    "# tconst / imdb_id / id sont à retirer\n",
    "# On le titre title_y / title_x / primaryTitle / originalTitle\n",
    "# Le genre est à gérer genres_x / genres_y\n",
    "# La note averageRating et vote_average\n",
    "# Le nombre de vote vote_count et numVotes"
   ]
  },
  {
   "cell_type": "code",
   "execution_count": 8,
   "metadata": {},
   "outputs": [],
   "source": [
    "# tconst / imdb_id / id sont à retirer\n",
    "df_merge3['tconst'] = df_merge3['key_0']\n",
    "df_merge3 = df_merge3.drop(['key_0', 'imdb_id', 'id'], axis = 1)"
   ]
  },
  {
   "cell_type": "code",
   "execution_count": 9,
   "metadata": {},
   "outputs": [],
   "source": [
    "# On le titre title_y / title_x / primaryTitle / originalTitle\n",
    "# Créer une nouvelle colonne 'titre' en priorisant les colonnes dans l'ordre\n",
    "df_merge3['titre'] = df_merge3['title_y'].fillna(df_merge3['title_x']).fillna(df_merge3['primaryTitle']).fillna(df_merge3['originalTitle'])\n",
    "df_merge3 = df_merge3.drop(['title_y', 'title_x', 'primaryTitle', 'originalTitle'], axis = 1)\n"
   ]
  },
  {
   "cell_type": "code",
   "execution_count": 10,
   "metadata": {},
   "outputs": [],
   "source": [
    "# Le genre est à gérer genres_x / genres_y\n",
    "df_merge3['genres_y'] = df_merge3['genres_y'].apply(lambda x: x if (type(x) == list) else [])\n",
    "df_merge3['genres_x_list'] = df_merge3['genres_x'].fillna('').str.split(', ')\n",
    "df_merge3['genre'] = df_merge3.apply(lambda row: list(set(row['genres_y'] + row['genres_x_list'])),axis=1)\n",
    "df_merge3 = df_merge3.drop(['genres_x_list', 'genres_x', 'genres_y'], axis = 1)\n",
    "df_merge3['genre'] = df_merge3['genre'].apply(lambda x: x if x != [] else np.nan)\n"
   ]
  },
  {
   "cell_type": "code",
   "execution_count": 11,
   "metadata": {},
   "outputs": [
    {
     "name": "stderr",
     "output_type": "stream",
     "text": [
      "/var/folders/2b/18xblx_n4lv24wz932vjckrm0000gp/T/ipykernel_4141/1535123634.py:17: SettingWithCopyWarning: \n",
      "A value is trying to be set on a copy of a slice from a DataFrame.\n",
      "Try using .loc[row_indexer,col_indexer] = value instead\n",
      "\n",
      "See the caveats in the documentation: https://pandas.pydata.org/pandas-docs/stable/user_guide/indexing.html#returning-a-view-versus-a-copy\n",
      "  df_a_travailler_2['difference_vote'] = abs(df_a_travailler_2['averageRating'] - df_a_travailler_2['vote_average'])\n",
      "/var/folders/2b/18xblx_n4lv24wz932vjckrm0000gp/T/ipykernel_4141/1535123634.py:21: SettingWithCopyWarning: \n",
      "A value is trying to be set on a copy of a slice from a DataFrame.\n",
      "Try using .loc[row_indexer,col_indexer] = value instead\n",
      "\n",
      "See the caveats in the documentation: https://pandas.pydata.org/pandas-docs/stable/user_guide/indexing.html#returning-a-view-versus-a-copy\n",
      "  df_a_travailler_3['vote_exact'] = ((df_a_travailler_3['vote_count'] * df_a_travailler_3['vote_average']) + (df_a_travailler_3['numVotes'] * df_a_travailler_3['averageRating'])) / (df_a_travailler_3['numVotes'] + df_a_travailler_3['vote_count'])\n",
      "/var/folders/2b/18xblx_n4lv24wz932vjckrm0000gp/T/ipykernel_4141/1535123634.py:22: SettingWithCopyWarning: \n",
      "A value is trying to be set on a copy of a slice from a DataFrame.\n",
      "Try using .loc[row_indexer,col_indexer] = value instead\n",
      "\n",
      "See the caveats in the documentation: https://pandas.pydata.org/pandas-docs/stable/user_guide/indexing.html#returning-a-view-versus-a-copy\n",
      "  df_a_travailler_3['vote_exact'] = round(df_a_travailler_3['vote_exact'], 1)\n",
      "/var/folders/2b/18xblx_n4lv24wz932vjckrm0000gp/T/ipykernel_4141/1535123634.py:26: SettingWithCopyWarning: \n",
      "A value is trying to be set on a copy of a slice from a DataFrame.\n",
      "Try using .loc[row_indexer,col_indexer] = value instead\n",
      "\n",
      "See the caveats in the documentation: https://pandas.pydata.org/pandas-docs/stable/user_guide/indexing.html#returning-a-view-versus-a-copy\n",
      "  df_a_garder_1['vote_exact'] = df_a_garder_1[['averageRating', 'vote_average']].max(axis=1)\n",
      "/var/folders/2b/18xblx_n4lv24wz932vjckrm0000gp/T/ipykernel_4141/1535123634.py:27: SettingWithCopyWarning: \n",
      "A value is trying to be set on a copy of a slice from a DataFrame.\n",
      "Try using .loc[row_indexer,col_indexer] = value instead\n",
      "\n",
      "See the caveats in the documentation: https://pandas.pydata.org/pandas-docs/stable/user_guide/indexing.html#returning-a-view-versus-a-copy\n",
      "  df_a_garder_2['vote_exact'] = df_a_garder_2[['averageRating', 'vote_average']].max(axis=1)\n",
      "/var/folders/2b/18xblx_n4lv24wz932vjckrm0000gp/T/ipykernel_4141/1535123634.py:28: SettingWithCopyWarning: \n",
      "A value is trying to be set on a copy of a slice from a DataFrame.\n",
      "Try using .loc[row_indexer,col_indexer] = value instead\n",
      "\n",
      "See the caveats in the documentation: https://pandas.pydata.org/pandas-docs/stable/user_guide/indexing.html#returning-a-view-versus-a-copy\n",
      "  df_a_garder_3['vote_exact'] = df_a_garder_3[['averageRating', 'vote_average']].mean(axis=1)\n",
      "/var/folders/2b/18xblx_n4lv24wz932vjckrm0000gp/T/ipykernel_4141/1535123634.py:30: SettingWithCopyWarning: \n",
      "A value is trying to be set on a copy of a slice from a DataFrame.\n",
      "Try using .loc[row_indexer,col_indexer] = value instead\n",
      "\n",
      "See the caveats in the documentation: https://pandas.pydata.org/pandas-docs/stable/user_guide/indexing.html#returning-a-view-versus-a-copy\n",
      "  df_a_garder_1['nombre_de_votes'] = df_a_garder_1['vote_count']\n",
      "/var/folders/2b/18xblx_n4lv24wz932vjckrm0000gp/T/ipykernel_4141/1535123634.py:31: SettingWithCopyWarning: \n",
      "A value is trying to be set on a copy of a slice from a DataFrame.\n",
      "Try using .loc[row_indexer,col_indexer] = value instead\n",
      "\n",
      "See the caveats in the documentation: https://pandas.pydata.org/pandas-docs/stable/user_guide/indexing.html#returning-a-view-versus-a-copy\n",
      "  df_a_garder_2['nombre_de_votes'] = df_a_garder_2['vote_count']\n",
      "/var/folders/2b/18xblx_n4lv24wz932vjckrm0000gp/T/ipykernel_4141/1535123634.py:32: SettingWithCopyWarning: \n",
      "A value is trying to be set on a copy of a slice from a DataFrame.\n",
      "Try using .loc[row_indexer,col_indexer] = value instead\n",
      "\n",
      "See the caveats in the documentation: https://pandas.pydata.org/pandas-docs/stable/user_guide/indexing.html#returning-a-view-versus-a-copy\n",
      "  df_a_garder_3['nombre_de_votes'] = df_a_garder_3['vote_count']\n",
      "/var/folders/2b/18xblx_n4lv24wz932vjckrm0000gp/T/ipykernel_4141/1535123634.py:33: SettingWithCopyWarning: \n",
      "A value is trying to be set on a copy of a slice from a DataFrame.\n",
      "Try using .loc[row_indexer,col_indexer] = value instead\n",
      "\n",
      "See the caveats in the documentation: https://pandas.pydata.org/pandas-docs/stable/user_guide/indexing.html#returning-a-view-versus-a-copy\n",
      "  df_a_garder_4['nombre_de_votes'] = df_a_garder_4['vote_count'] + df_a_garder_4['numVotes']\n"
     ]
    }
   ],
   "source": [
    "# La note averageRating et vote_average et le nombre de vote vote_count et numVotes\n",
    "df_merge4 = df_merge3.copy()\n",
    "df_merge4 = df_merge4[~((df_merge4['vote_average'].isna()) & (df_merge4['averageRating'].isna()))]\n",
    "df_merge4 = df_merge4[~((df_merge4['vote_average'] == 0) & (df_merge4['averageRating'] == 0))]\n",
    "df_merge4 = df_merge4[~((df_merge4['vote_average'] == 0) & (df_merge4['averageRating'].isna()))]\n",
    "df_merge4 = df_merge4[~((df_merge4['vote_average'].isna()) & (df_merge4['averageRating'] == 0))]\n",
    "\n",
    "df_merge4['vote_average'] = round(df_merge4['vote_average'], 2)\n",
    "\n",
    "df_a_garder_1 = df_merge4[df_merge4['averageRating'] == df_merge4['vote_average']]\n",
    "df_a_travailler_1 = df_merge4[~(df_merge4['averageRating'] == df_merge4['vote_average'])]\n",
    "\n",
    "df_a_garder_2 = df_a_travailler_1[(df_a_travailler_1['averageRating'].isna()) | (df_a_travailler_1['vote_average'].isna()) |(df_a_travailler_1['vote_average'] == 0) | (df_a_travailler_1['averageRating'] == 0)]\n",
    "\n",
    "df_a_travailler_2 = df_a_travailler_1[~((df_a_travailler_1['averageRating'].isna()) | (df_a_travailler_1['vote_average'].isna()) |(df_a_travailler_1['vote_average'] == 0) | (df_a_travailler_1['averageRating'] == 0))]\n",
    "\n",
    "df_a_travailler_2['difference_vote'] = abs(df_a_travailler_2['averageRating'] - df_a_travailler_2['vote_average'])\n",
    "df_a_garder_3 = df_a_travailler_2[df_a_travailler_2['difference_vote'] <= 1]\n",
    "df_a_travailler_3 = df_a_travailler_2[df_a_travailler_2['difference_vote'] > 1]\n",
    "\n",
    "df_a_travailler_3['vote_exact'] = ((df_a_travailler_3['vote_count'] * df_a_travailler_3['vote_average']) + (df_a_travailler_3['numVotes'] * df_a_travailler_3['averageRating'])) / (df_a_travailler_3['numVotes'] + df_a_travailler_3['vote_count'])\n",
    "df_a_travailler_3['vote_exact'] = round(df_a_travailler_3['vote_exact'], 1)\n",
    "\n",
    "df_a_garder_4 = df_a_travailler_3\n",
    "\n",
    "df_a_garder_1['vote_exact'] = df_a_garder_1[['averageRating', 'vote_average']].max(axis=1)\n",
    "df_a_garder_2['vote_exact'] = df_a_garder_2[['averageRating', 'vote_average']].max(axis=1)\n",
    "df_a_garder_3['vote_exact'] = df_a_garder_3[['averageRating', 'vote_average']].mean(axis=1)\n",
    "\n",
    "df_a_garder_1['nombre_de_votes'] = df_a_garder_1['vote_count']\n",
    "df_a_garder_2['nombre_de_votes'] = df_a_garder_2['vote_count']\n",
    "df_a_garder_3['nombre_de_votes'] = df_a_garder_3['vote_count']\n",
    "df_a_garder_4['nombre_de_votes'] = df_a_garder_4['vote_count'] + df_a_garder_4['numVotes']\n",
    "\n",
    "df_merge4 = pd.concat([df_a_garder_1, df_a_garder_2, df_a_garder_3, df_a_garder_4])\n",
    "\n",
    "df_merge4['note'] = round(df_merge4['vote_exact'], 2)\n",
    "df_merge4 = df_merge4.drop(['vote_count', 'averageRating', 'vote_average', 'numVotes', 'difference_vote', 'vote_exact'], axis=1)\n",
    "\n"
   ]
  },
  {
   "cell_type": "code",
   "execution_count": 12,
   "metadata": {},
   "outputs": [],
   "source": [
    "# La -18 à fusionner entre isAdult (0 ou 1) et adult (bool) --> adult True c'est film pour adulte\n",
    "df_merge5 = df_merge4.copy()\n",
    "df_merge5['adult'] = (df_merge5['isAdult'] == 1) | df_merge5['adult']\n",
    "df_merge5 = df_merge5.drop(['isAdult'], axis=1)"
   ]
  },
  {
   "cell_type": "code",
   "execution_count": 13,
   "metadata": {},
   "outputs": [
    {
     "name": "stderr",
     "output_type": "stream",
     "text": [
      "/var/folders/2b/18xblx_n4lv24wz932vjckrm0000gp/T/ipykernel_4141/1768297304.py:9: FutureWarning: A value is trying to be set on a copy of a DataFrame or Series through chained assignment using an inplace method.\n",
      "The behavior will change in pandas 3.0. This inplace method will never work because the intermediate object on which we are setting values always behaves as a copy.\n",
      "\n",
      "For example, when doing 'df[col].method(value, inplace=True)', try using 'df.method({col: value}, inplace=True)' or df[col] = df[col].method(value) instead, to perform the operation inplace on the original object.\n",
      "\n",
      "\n",
      "  df_merge5['startYear'].fillna(0, inplace = True)\n",
      "/var/folders/2b/18xblx_n4lv24wz932vjckrm0000gp/T/ipykernel_4141/1768297304.py:10: FutureWarning: A value is trying to be set on a copy of a DataFrame or Series through chained assignment using an inplace method.\n",
      "The behavior will change in pandas 3.0. This inplace method will never work because the intermediate object on which we are setting values always behaves as a copy.\n",
      "\n",
      "For example, when doing 'df[col].method(value, inplace=True)', try using 'df.method({col: value}, inplace=True)' or df[col] = df[col].method(value) instead, to perform the operation inplace on the original object.\n",
      "\n",
      "\n",
      "  df_merge5['release_date'].fillna(0, inplace = True)\n"
     ]
    }
   ],
   "source": [
    "# release_date et startYear à fusionner \n",
    "df_merge5['release_date'] = pd.to_datetime(df_merge5['release_date'], errors='coerce')\n",
    "df_merge5['release_date'] = df_merge5['release_date'].dt.year\n",
    "df_merge5 = df_merge5[~((df_merge5['release_date'].isna()) & (df_merge5['startYear'].isna()))]\n",
    "df_merge5 = df_merge5[~((df_merge5['release_date'] == 0) & (df_merge5['startYear'] == 0))]\n",
    "df_merge5 = df_merge5[~((df_merge5['release_date'] == 0) & (df_merge5['startYear'].isna()))]\n",
    "df_merge5 = df_merge5[~((df_merge5['release_date'].isna()) & (df_merge5['startYear'] == 0))]\n",
    "\n",
    "df_merge5['startYear'].fillna(0, inplace = True)\n",
    "df_merge5['release_date'].fillna(0, inplace = True)\n",
    "df_merge5['startYear'] = df_merge5['startYear'].astype(int)\n",
    "df_merge5['release_date'] = df_merge5['release_date'].astype(int)\n",
    "\n",
    "df_merge5['Date_sortie'] = df_merge5[['startYear', 'release_date']].max(axis = 1)\n",
    "df_merge5 = df_merge5.drop(['startYear','release_date'], axis=1)"
   ]
  },
  {
   "cell_type": "code",
   "execution_count": 14,
   "metadata": {},
   "outputs": [],
   "source": [
    "# runtime et runtimeMinutes à fusionner \n",
    "# Clean du Merge\n",
    "\n",
    "df_merge5['runtimeMinutes'] = pd.to_numeric(df_merge5['runtimeMinutes'])\n",
    "df_merge5 = df_merge5[~((df_merge5['runtimeMinutes'].isna()) & (df_merge5['runtime'].isna()))]\n",
    "df_merge5 = df_merge5[~((df_merge5['runtimeMinutes'] == 0) & (df_merge5['runtime'] == 0))]\n",
    "df_merge5 = df_merge5[~((df_merge5['runtimeMinutes'] == 0) & (df_merge5['runtime'].isna()))]\n",
    "df_merge5 = df_merge5[~((df_merge5['runtimeMinutes'].isna()) & (df_merge5['runtime'] == 0))]\n",
    "\n",
    "df_merge5['difference_runtime'] = abs(df_merge5['runtime'] - df_merge5['runtimeMinutes'])\n",
    "\n",
    "# On met de côté là où les 2 valeurs sont identiques\n",
    "df_a_garder_1 = df_merge5[df_merge5['runtimeMinutes'] == df_merge5['runtime']].copy()\n",
    "df_a_garder_1['runtime_exact'] = df_a_garder_1['runtimeMinutes']\n",
    "\n",
    "# On met de côté là où les 2 valeurs ne sont pas identiques\n",
    "df_a_travailler_1 = df_merge5[df_merge5['runtimeMinutes'] != df_merge5['runtime']].copy()\n",
    "\n",
    "# On conserve la donnée existante\n",
    "df_a_garder_2 = df_a_travailler_1[(df_a_travailler_1['runtimeMinutes'].isna()) | (df_a_travailler_1['runtime'].isna()) | (df_a_travailler_1['runtime'] == 0) | (df_a_travailler_1['runtimeMinutes'] == 0)].copy()\n",
    "\n",
    "# On conserve la valeur max de runtime quand les deux sont là\n",
    "df_a_garder_2['runtime_exact'] = df_a_garder_2[['runtimeMinutes', 'runtime']].max(axis=1)\n",
    "\n",
    "\n",
    "df_merge5 = pd.concat([df_a_garder_1, df_a_garder_2])\n",
    "df_merge5['durée'] = df_merge5['runtime_exact']\n",
    "df_merge5 = df_merge5.drop(['difference_runtime', 'runtime', 'runtimeMinutes', 'runtime_exact'], axis=1)\n"
   ]
  },
  {
   "cell_type": "code",
   "execution_count": 15,
   "metadata": {},
   "outputs": [],
   "source": [
    "# tagline et overview à fusionner ???"
   ]
  },
  {
   "cell_type": "code",
   "execution_count": 16,
   "metadata": {},
   "outputs": [],
   "source": [
    "# Les films dont le status est cancelled à retirer "
   ]
  },
  {
   "cell_type": "code",
   "execution_count": 17,
   "metadata": {},
   "outputs": [],
   "source": [
    "df_merge6 = df_merge5.copy()"
   ]
  },
  {
   "cell_type": "code",
   "execution_count": 18,
   "metadata": {},
   "outputs": [],
   "source": [
    "df_title_akas, df_title_basics, df_title_rating, df_tmdb_full, df_merge1, df_merge2, df_merge3, df_merge4, df_merge5, df_a_garder_1, df_a_garder_2, df_a_garder_3, df_a_garder_4, df_a_travailler_1, df_a_travailler_2, df_a_travailler_3 = 0, 0, 0, 0, 0, 0, 0, 0, 0, 0, 0, 0, 0, 0, 0, 0"
   ]
  },
  {
   "cell_type": "code",
   "execution_count": 19,
   "metadata": {},
   "outputs": [],
   "source": [
    "df_merge6 = df_merge6.drop(['ordering', 'language', 'types', 'attributes', 'titleType', 'endYear', 'original_title', 'spoken_languages', 'video', 'fr?', 'titleType', 'status'], axis = 1)"
   ]
  },
  {
   "cell_type": "code",
   "execution_count": 20,
   "metadata": {},
   "outputs": [],
   "source": [
    "# Etape 3 : Remplissage des infos manquantes ou suppression des lignes trop peu utilisable"
   ]
  },
  {
   "cell_type": "code",
   "execution_count": 21,
   "metadata": {},
   "outputs": [],
   "source": [
    "# Etape 4 : Préparation du fichier pour rajouter les acteur et autres\n",
    "df_title_principals = pd.read_csv(\"BD/title.principals.tsv.gz\", compression = 'gzip', na_values=['\\\\N'], sep = '\\t')\n",
    "df_name_basics = pd.read_csv(\"BD/name.basics.tsv.gz\", compression = 'gzip', na_values=['\\\\N'], sep = '\\t')"
   ]
  },
  {
   "cell_type": "code",
   "execution_count": 22,
   "metadata": {},
   "outputs": [],
   "source": [
    "df_acteur = pd.merge(df_title_principals,\n",
    "                     df_name_basics,\n",
    "                     how = 'left',\n",
    "                     on = 'nconst')\n",
    "df_acteur = df_acteur.dropna(subset=['primaryName'])\n",
    "\n",
    "# Crash car trop de ligne. Solution drop les colonne et les lignes pas intéressante de df_title_principals et df_name_basics"
   ]
  },
  {
   "cell_type": "code",
   "execution_count": 23,
   "metadata": {},
   "outputs": [],
   "source": [
    "df_title_principals, df_name_basics = 0, 0"
   ]
  },
  {
   "cell_type": "code",
   "execution_count": 24,
   "metadata": {},
   "outputs": [],
   "source": [
    "df_acteur = df_acteur.drop(['ordering', 'job', 'characters', 'primaryProfession', 'knownForTitles'], axis=1)"
   ]
  },
  {
   "cell_type": "code",
   "execution_count": 25,
   "metadata": {},
   "outputs": [],
   "source": [
    "# Etape 4 : Merge entre la table des films et des acteur \n",
    "\n",
    "df = pd.merge(df_acteur,\n",
    "              df_merge6,\n",
    "              how = 'left',\n",
    "              on = 'tconst')"
   ]
  },
  {
   "cell_type": "code",
   "execution_count": 27,
   "metadata": {},
   "outputs": [],
   "source": [
    "df_acteur, df_merge6 = 0, 0"
   ]
  },
  {
   "cell_type": "code",
   "execution_count": 29,
   "metadata": {},
   "outputs": [],
   "source": [
    "df.to_csv('data.csv.gz', index=False, compression='gzip')"
   ]
  }
 ],
 "metadata": {
  "kernelspec": {
   "display_name": "base",
   "language": "python",
   "name": "python3"
  },
  "language_info": {
   "codemirror_mode": {
    "name": "ipython",
    "version": 3
   },
   "file_extension": ".py",
   "mimetype": "text/x-python",
   "name": "python",
   "nbconvert_exporter": "python",
   "pygments_lexer": "ipython3",
   "version": "3.12.4"
  }
 },
 "nbformat": 4,
 "nbformat_minor": 2
}
