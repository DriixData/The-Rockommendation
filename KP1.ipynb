{
 "cells": [
  {
   "cell_type": "code",
   "execution_count": 141,
   "metadata": {},
   "outputs": [],
   "source": [
    "# IMPORTS\n",
    "\n",
    "import pandas as pd\n",
    "import numpy as np"
   ]
  },
  {
   "cell_type": "markdown",
   "metadata": {},
   "source": [
    "L’identification des acteurs les plus présents et les périodes associées \n",
    "Dans la table title.principals.tsv.gz on récupère toutes les lignes category == 'actor' \n",
    "On récupère de l'autre côté la table title.basics.tsv.gz avec que les films"
   ]
  },
  {
   "cell_type": "markdown",
   "metadata": {},
   "source": [
    "BASES A CHARGER"
   ]
  },
  {
   "cell_type": "code",
   "execution_count": 109,
   "metadata": {},
   "outputs": [],
   "source": [
    "# On charge la bd title.principals et on remplace les \\N par NaN\n",
    "df_acteur = pd.read_csv('BD/title.principals.tsv.gz', compression = 'gzip', sep = '\\t')\n",
    "df_acteur = df_acteur[(df_acteur['category'] == 'actor') | (df_acteur['category'] == 'actress') | (df_acteur['category'] == 'self')]\n",
    "# df_acteur.replace('\\\\N', np.nan , inplace = True)"
   ]
  },
  {
   "cell_type": "code",
   "execution_count": 150,
   "metadata": {},
   "outputs": [
    {
     "data": {
      "text/plain": [
       "50137648"
      ]
     },
     "execution_count": 150,
     "metadata": {},
     "output_type": "execute_result"
    }
   ],
   "source": [
    "len(df_acteur)"
   ]
  },
  {
   "cell_type": "code",
   "execution_count": 110,
   "metadata": {},
   "outputs": [
    {
     "name": "stderr",
     "output_type": "stream",
     "text": [
      "/var/folders/2b/18xblx_n4lv24wz932vjckrm0000gp/T/ipykernel_7985/2584169011.py:3: DtypeWarning: Columns (4) have mixed types. Specify dtype option on import or set low_memory=False.\n",
      "  df_film = pd.read_csv('BD/title.basics.tsv.gz', compression = 'gzip', sep = '\\t')\n"
     ]
    }
   ],
   "source": [
    "# On charge la bd title.basics et on remplace les \\N par NaN\n",
    "\n",
    "df_film = pd.read_csv('BD/title.basics.tsv.gz', compression = 'gzip', sep = '\\t')\n",
    "df_film = df_film[df_film['titleType'] == 'movie']\n",
    "# df_film['startYear'].replace('\\\\N', np.nan, inplace = True)"
   ]
  },
  {
   "cell_type": "code",
   "execution_count": 111,
   "metadata": {},
   "outputs": [],
   "source": [
    "# On charge la bd name.basics et on remplace les \\N par NaN\n",
    " \n",
    "df_nom = pd.read_csv('BD/name.basics.tsv.gz', compression = 'gzip', sep = '\\t')\n",
    "# df_nom.replace('\\\\N', np.nan, inplace = True)"
   ]
  },
  {
   "cell_type": "code",
   "execution_count": 112,
   "metadata": {},
   "outputs": [
    {
     "data": {
      "text/plain": [
       "'\\ndf_intermediaire -> table des acteurs présents dans un film\\ndf_film -> table des films\\ndf_nom -> table des noms des acteurs\\n'"
      ]
     },
     "execution_count": 112,
     "metadata": {},
     "output_type": "execute_result"
    }
   ],
   "source": [
    "'''\n",
    "df_intermediaire -> table des acteurs présents dans un film\n",
    "df_film -> table des films\n",
    "df_nom -> table des noms des acteurs\n",
    "'''"
   ]
  },
  {
   "cell_type": "code",
   "execution_count": 113,
   "metadata": {},
   "outputs": [
    {
     "name": "stdout",
     "output_type": "stream",
     "text": [
      "50137648\n",
      "697513\n",
      "13956187\n"
     ]
    }
   ],
   "source": [
    "print(len(df_acteur))\n",
    "print(len(df_film))\n",
    "print(len(df_nom))"
   ]
  },
  {
   "cell_type": "markdown",
   "metadata": {},
   "source": [
    "MERGES"
   ]
  },
  {
   "cell_type": "code",
   "execution_count": 154,
   "metadata": {},
   "outputs": [],
   "source": [
    "# MERGE Acteurs et Films INNER\n",
    "\n",
    "df_acteur_film_inner = pd.merge(df_acteur,\n",
    "                                df_film,\n",
    "                                how = 'inner',\n",
    "                                on = 'tconst') "
   ]
  },
  {
   "cell_type": "code",
   "execution_count": 155,
   "metadata": {},
   "outputs": [],
   "source": [
    "# MERGE Acteurs et Films OUTER\n",
    "\n",
    "df_acteur_film_outer = pd.merge(df_acteur,\n",
    "                                df_film,\n",
    "                                how = 'outer',\n",
    "                                on = 'tconst') "
   ]
  },
  {
   "cell_type": "code",
   "execution_count": 156,
   "metadata": {},
   "outputs": [],
   "source": [
    "# MERGE Acteurs et Films RIGHT\n",
    "\n",
    "df_acteur_film_right = pd.merge(df_acteur,\n",
    "                                df_film,\n",
    "                                how = 'right',\n",
    "                                on = 'tconst') "
   ]
  },
  {
   "cell_type": "code",
   "execution_count": 158,
   "metadata": {},
   "outputs": [],
   "source": [
    "# MERGE Acteurs et Films LEFT\n",
    "\n",
    "df_acteur_film_left = pd.merge(df_acteur,\n",
    "                                df_film,\n",
    "                                how = 'left',\n",
    "                                on = 'tconst') "
   ]
  },
  {
   "cell_type": "code",
   "execution_count": 159,
   "metadata": {},
   "outputs": [
    {
     "name": "stdout",
     "output_type": "stream",
     "text": [
      "4162172\n",
      "50284421\n",
      "50137648\n",
      "4308945\n"
     ]
    }
   ],
   "source": [
    "print(len(df_acteur_film_inner))\n",
    "print(len(df_acteur_film_outer))\n",
    "print(len(df_acteur_film_left))\n",
    "print(len(df_acteur_film_right))"
   ]
  },
  {
   "cell_type": "markdown",
   "metadata": {},
   "source": [
    "Nombre d'apparitions"
   ]
  },
  {
   "cell_type": "code",
   "execution_count": 116,
   "metadata": {},
   "outputs": [],
   "source": [
    "# On compte le nombre d'occurence de chaque acteur dans ce nouveau df\n",
    "\n",
    "df_vc = df_acteur_film_inner['nconst'].value_counts()"
   ]
  },
  {
   "cell_type": "code",
   "execution_count": 148,
   "metadata": {},
   "outputs": [
    {
     "data": {
      "text/plain": [
       "1445430"
      ]
     },
     "execution_count": 148,
     "metadata": {},
     "output_type": "execute_result"
    }
   ],
   "source": [
    "len(df_vc)"
   ]
  },
  {
   "cell_type": "code",
   "execution_count": 117,
   "metadata": {},
   "outputs": [],
   "source": [
    "# On charge le df dans lequel le nom des acteurs est contenu et on le le merge avec notre df du nombre d'occurrence pour obtenir un acteur et son nb d'occurence\n",
    "\n",
    "df_apparition = pd.merge(df_vc,\n",
    "                          df_nom,\n",
    "                          how = 'left',\n",
    "                          on = 'nconst') "
   ]
  },
  {
   "cell_type": "code",
   "execution_count": 147,
   "metadata": {},
   "outputs": [
    {
     "data": {
      "text/plain": [
       "1445430"
      ]
     },
     "execution_count": 147,
     "metadata": {},
     "output_type": "execute_result"
    }
   ],
   "source": [
    "len(df_apparition)"
   ]
  },
  {
   "cell_type": "markdown",
   "metadata": {},
   "source": [
    "MIN et MAX de STARTYEAR"
   ]
  },
  {
   "cell_type": "code",
   "execution_count": 128,
   "metadata": {},
   "outputs": [],
   "source": [
    "# On supprime les lignes où StartYear est vide ou est égal à \\N\n",
    "\n",
    "df_acteur_film_outer = df_acteur_film_outer[~(df_acteur_film_outer['startYear'] == '\\\\N')]\n",
    "df_acteur_film_outer = df_acteur_film_outer[~(df_acteur_film_outer['startYear'].isna())]"
   ]
  },
  {
   "cell_type": "code",
   "execution_count": 129,
   "metadata": {},
   "outputs": [],
   "source": [
    "# On supprime les lignes où NCONST est vide\n",
    "\n",
    "df_acteur_film_outer = df_acteur_film_outer[~(df_acteur_film_outer['nconst'].isna())]"
   ]
  },
  {
   "cell_type": "code",
   "execution_count": 130,
   "metadata": {},
   "outputs": [],
   "source": [
    "# On crée deux colonne une dans laquel on stock l'année minimum et l'autre max\n",
    "\n",
    "df_min = df_acteur_film_outer.groupby('nconst')['startYear'].min()\n",
    "df_max = df_acteur_film_outer.groupby('nconst')['startYear'].max()"
   ]
  },
  {
   "cell_type": "code",
   "execution_count": 131,
   "metadata": {},
   "outputs": [],
   "source": [
    "# On merge les dates MIN et MAX de StartYear\n",
    "\n",
    "df_dates = pd.merge(df_max,\n",
    "                    df_min,\n",
    "                    how = 'outer',\n",
    "                    on = 'nconst') "
   ]
  },
  {
   "cell_type": "code",
   "execution_count": 132,
   "metadata": {},
   "outputs": [],
   "source": [
    "# On merge df_acteur_film avec le Min de StartYear et le Max de StartYear\n",
    "\n",
    "df_kpi1 = pd.merge(df_apparition,\n",
    "                   df_dates,\n",
    "                   how = 'left',\n",
    "                   on = 'nconst') "
   ]
  },
  {
   "cell_type": "code",
   "execution_count": 133,
   "metadata": {},
   "outputs": [],
   "source": [
    "# Rename des colonnes pour y voir clair\n",
    "\n",
    "df_kpi1 = df_kpi1.rename(columns = {'startYear_y' : 'minStartYear','startYear_x' : 'maxStartYear'})"
   ]
  },
  {
   "cell_type": "code",
   "execution_count": 134,
   "metadata": {},
   "outputs": [],
   "source": [
    "df_kpi1 = df_kpi1[['primaryName', 'count', 'minStartYear', 'maxStartYear']]\n",
    "df_kpi1 = df_kpi1.rename(columns = {'primaryName' : 'Acteur/Actrice','count' : 'Nombre de films',\n",
    "                                          'minStartYear' : 'Premier film', 'maxStartYear' : 'Dernier film'})"
   ]
  },
  {
   "cell_type": "code",
   "execution_count": 135,
   "metadata": {},
   "outputs": [
    {
     "data": {
      "text/html": [
       "<div>\n",
       "<style scoped>\n",
       "    .dataframe tbody tr th:only-of-type {\n",
       "        vertical-align: middle;\n",
       "    }\n",
       "\n",
       "    .dataframe tbody tr th {\n",
       "        vertical-align: top;\n",
       "    }\n",
       "\n",
       "    .dataframe thead th {\n",
       "        text-align: right;\n",
       "    }\n",
       "</style>\n",
       "<table border=\"1\" class=\"dataframe\">\n",
       "  <thead>\n",
       "    <tr style=\"text-align: right;\">\n",
       "      <th></th>\n",
       "      <th>Acteur/Actrice</th>\n",
       "      <th>Nombre de films</th>\n",
       "      <th>Premier film</th>\n",
       "      <th>Dernier film</th>\n",
       "    </tr>\n",
       "  </thead>\n",
       "  <tbody>\n",
       "    <tr>\n",
       "      <th>0</th>\n",
       "      <td>Brahmanandam</td>\n",
       "      <td>1131</td>\n",
       "      <td>1987</td>\n",
       "      <td>2025</td>\n",
       "    </tr>\n",
       "    <tr>\n",
       "      <th>1</th>\n",
       "      <td>Jagathy Sreekumar</td>\n",
       "      <td>661</td>\n",
       "      <td>1957</td>\n",
       "      <td>2023</td>\n",
       "    </tr>\n",
       "    <tr>\n",
       "      <th>2</th>\n",
       "      <td>Adoor Bhasi</td>\n",
       "      <td>626</td>\n",
       "      <td>1953</td>\n",
       "      <td>1991</td>\n",
       "    </tr>\n",
       "    <tr>\n",
       "      <th>3</th>\n",
       "      <td>Paquito Diaz</td>\n",
       "      <td>622</td>\n",
       "      <td>1958</td>\n",
       "      <td>2005</td>\n",
       "    </tr>\n",
       "    <tr>\n",
       "      <th>4</th>\n",
       "      <td>Eddie Garcia</td>\n",
       "      <td>616</td>\n",
       "      <td>1949</td>\n",
       "      <td>2019</td>\n",
       "    </tr>\n",
       "    <tr>\n",
       "      <th>...</th>\n",
       "      <td>...</td>\n",
       "      <td>...</td>\n",
       "      <td>...</td>\n",
       "      <td>...</td>\n",
       "    </tr>\n",
       "    <tr>\n",
       "      <th>1445425</th>\n",
       "      <td>Kayleigh Lawrence</td>\n",
       "      <td>1</td>\n",
       "      <td>2009</td>\n",
       "      <td>2009</td>\n",
       "    </tr>\n",
       "    <tr>\n",
       "      <th>1445426</th>\n",
       "      <td>Chelsea Dixon</td>\n",
       "      <td>1</td>\n",
       "      <td>2009</td>\n",
       "      <td>2009</td>\n",
       "    </tr>\n",
       "    <tr>\n",
       "      <th>1445427</th>\n",
       "      <td>Luke Emsley</td>\n",
       "      <td>1</td>\n",
       "      <td>2009</td>\n",
       "      <td>2009</td>\n",
       "    </tr>\n",
       "    <tr>\n",
       "      <th>1445428</th>\n",
       "      <td>Teijun Ogawa</td>\n",
       "      <td>1</td>\n",
       "      <td>2008</td>\n",
       "      <td>2008</td>\n",
       "    </tr>\n",
       "    <tr>\n",
       "      <th>1445429</th>\n",
       "      <td>Bob Wolfenson</td>\n",
       "      <td>1</td>\n",
       "      <td>2013</td>\n",
       "      <td>2013</td>\n",
       "    </tr>\n",
       "  </tbody>\n",
       "</table>\n",
       "<p>1445430 rows × 4 columns</p>\n",
       "</div>"
      ],
      "text/plain": [
       "            Acteur/Actrice  Nombre de films Premier film Dernier film\n",
       "0             Brahmanandam             1131         1987         2025\n",
       "1        Jagathy Sreekumar              661         1957         2023\n",
       "2              Adoor Bhasi              626         1953         1991\n",
       "3             Paquito Diaz              622         1958         2005\n",
       "4             Eddie Garcia              616         1949         2019\n",
       "...                    ...              ...          ...          ...\n",
       "1445425  Kayleigh Lawrence                1         2009         2009\n",
       "1445426      Chelsea Dixon                1         2009         2009\n",
       "1445427        Luke Emsley                1         2009         2009\n",
       "1445428       Teijun Ogawa                1         2008         2008\n",
       "1445429      Bob Wolfenson                1         2013         2013\n",
       "\n",
       "[1445430 rows x 4 columns]"
      ]
     },
     "execution_count": 135,
     "metadata": {},
     "output_type": "execute_result"
    }
   ],
   "source": [
    "df_kpi1"
   ]
  }
 ],
 "metadata": {
  "kernelspec": {
   "display_name": "base",
   "language": "python",
   "name": "python3"
  },
  "language_info": {
   "codemirror_mode": {
    "name": "ipython",
    "version": 3
   },
   "file_extension": ".py",
   "mimetype": "text/x-python",
   "name": "python",
   "nbconvert_exporter": "python",
   "pygments_lexer": "ipython3",
   "version": "3.12.4"
  }
 },
 "nbformat": 4,
 "nbformat_minor": 2
}
