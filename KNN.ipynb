{
 "cells": [
  {
   "cell_type": "code",
   "execution_count": 1,
   "metadata": {},
   "outputs": [],
   "source": [
    "import pandas as pd\n",
    "import numpy as np\n",
    "import ast\n",
    "import warnings\n",
    "warnings.filterwarnings(\"ignore\", category=UserWarning)\n",
    "warnings.filterwarnings(\"ignore\", category=FutureWarning)\n",
    "\n",
    "import pandas as pd\n",
    "import numpy as np\n",
    "# modèle\n",
    "from sklearn.neighbors import NearestNeighbors\n",
    "\n",
    "import seaborn as sns\n",
    "import matplotlib.pyplot as plt"
   ]
  },
  {
   "cell_type": "code",
   "execution_count": 2,
   "metadata": {},
   "outputs": [
    {
     "name": "stderr",
     "output_type": "stream",
     "text": [
      "/var/folders/2b/18xblx_n4lv24wz932vjckrm0000gp/T/ipykernel_8331/2534545640.py:1: DtypeWarning: Columns (12) have mixed types. Specify dtype option on import or set low_memory=False.\n",
      "  df = pd.read_csv('BD/P2_G5_films.csv.gz', compression = 'gzip', na_values = ['\\\\N'])\n"
     ]
    }
   ],
   "source": [
    "df = pd.read_csv('BD/P2_G5_films.csv.gz', compression = 'gzip', na_values = ['\\\\N'])"
   ]
  },
  {
   "cell_type": "code",
   "execution_count": null,
   "metadata": {},
   "outputs": [],
   "source": [
    "df_LN = df[df['vote_count_mean'] != 0].drop(['isOriginalTitle', 'ordering', 'film_id', 'id', 'revenue', 'budget', 'backdrop_path', 'homepage', 'overview', 'poster_path', 'status', 'tagline', 'video', 'titleType', 'types', 'attributes'], axis = 1)\n",
    "df_LN_drop_NA = df_LN.dropna()\n",
    "X = df_LN_drop_NA.drop('vote_count_mean', axis = 1)\n",
    "y = pd.DataFrame(df_LN_drop_NA['vote_count_mean'])"
   ]
  },
  {
   "cell_type": "code",
   "execution_count": 14,
   "metadata": {},
   "outputs": [],
   "source": [
    "def encodage_X(X, type='standard'):\n",
    "  X_num = X.select_dtypes('number')\n",
    "  X_cat = X.select_dtypes(['object', 'category', 'string'])\n",
    "  # Comme ça les dates, on n'y touche pas\n",
    "\n",
    "  if type == 'standard':\n",
    "    from sklearn.preprocessing import StandardScaler\n",
    "    SN = StandardScaler()\n",
    "    X_num_SN = pd.DataFrame(SN.fit_transform(X_num), columns=X_num.columns)\n",
    "\n",
    "  else:\n",
    "    from sklearn.preprocessing import MinMaxScaler\n",
    "    SN = MinMaxScaler()\n",
    "    X_num_SN = pd.DataFrame(SN.fit_transform(X_num), columns=X_num.columns)\n",
    "\n",
    "  X_cat_dummies = pd.get_dummies(X_cat)\n",
    "  X_encoded = pd.concat([X_num_SN.reset_index(), X_cat_dummies.reset_index()], axis=1)\n",
    "\n",
    "  return X_encoded, SN\n",
    "\n",
    "X_encoded, SN = encodage_X(X)\n",
    "\n",
    "from sklearn.model_selection import train_test_split\n",
    "\n",
    "X_train, X_test, y_train, y_test = train_test_split(X_encoded, y, train_size=0.8)\n",
    "\n",
    "from sklearn.linear_model import LinearRegression\n",
    "\n",
    "modele = LinearRegression()\n",
    "\n",
    "modele.fit(X_train, y_train)\n",
    "\n",
    "print(f\"Score d'entrainement {modele.score(X_train, y_train)}\")\n",
    "print(f\"Score de test {modele.score(X_test, y_test)}\")\n",
    "\n",
    "df_a_predire = df_test[df_test['vote_count_mean'] == 0].drop(['isOriginalTitle', 'ordering', 'film_id', 'id', 'revenue', 'budget', 'backdrop_path', 'homepage', 'overview', 'poster_path', 'status', 'tagline', 'video', 'titleType', 'types', 'attributes'], axis = 1)\n",
    "df_a_predire = df_a_predire.drap('vote_count_mean', axis = 1)\n",
    "df_quelonveutpredire = df_a_predire.dropna()\n",
    "\n",
    "def encodage_predict(df_a_predire):\n",
    "  X_num = df_a_predire.select_dtypes('number')\n",
    "  X_cat = df_a_predire.select_dtypes(['object', 'category', 'string'])\n",
    "\n",
    "  X_num_SN = pd.DataFrame(SN.transform(X_num), columns=X_num.columns).reset_index(drop=True)\n",
    "\n",
    "  X_cat_dummies = pd.get_dummies(X_cat).reset_index(drop=True)\n",
    "  X_encoded_predire = pd.concat([X_num_SN.reset_index(), X_cat_dummies.reset_index()], axis=1)\n",
    "\n",
    "  df_predict = X_encoded_predire\n",
    "\n",
    "  # DataFrame vide qui a les mêmes colonnes que X_encoded\n",
    "  df_final = pd.DataFrame(columns=X_encoded.columns)\n",
    "\n",
    "  # On veut que le DataFrame ait le même nombre de lignes que df_predict\n",
    "  df_final = df_final.reindex(index=df_predict.index)\n",
    "  # On met tous les NaN à False\n",
    "  df_final = df_final.fillna(False)\n",
    "\n",
    "  # On parcourt chaque colonne de df_predict\n",
    "  # Si la colonne est présente dans X_encoded alors on la garde\n",
    "  # Sinon, on la met à False\n",
    "  for column in df_predict.columns:\n",
    "    if column in X_encoded.columns:\n",
    "      df_final[column] = df_predict[column]\n",
    "\n",
    "  return df_final\n",
    "\n",
    "df_pour_prediction = encodage_predict(df_quelonveutpredire)\n",
    "\n",
    "df_quelonveutpredire['prediction'] = modele.predict(df_pour_prediction)\n",
    "df_quelonveutpredire"
   ]
  },
  {
   "cell_type": "markdown",
   "metadata": {},
   "source": [
    "FONCTION JONATHAN"
   ]
  },
  {
   "cell_type": "markdown",
   "metadata": {},
   "source": [
    "FONCTIONS"
   ]
  },
  {
   "cell_type": "code",
   "execution_count": 99,
   "metadata": {},
   "outputs": [],
   "source": [
    "# FONCTION 1\n",
    "\n",
    "def encodage_X(X, type='standard'):\n",
    "  index = X.index\n",
    "  X_num = X.select_dtypes('number')\n",
    "  X_cat = X.select_dtypes(['object', 'category', 'string'])\n",
    "  # Comme ça les dates, on n'y touche pas\n",
    "\n",
    "  if type == 'standard':\n",
    "    from sklearn.preprocessing import StandardScaler\n",
    "    SN = StandardScaler()\n",
    "    X_num_SN = pd.DataFrame(SN.fit_transform(X_num), columns=X_num.columns, index=index)\n",
    "\n",
    "  else:\n",
    "    from sklearn.preprocessing import MinMaxScaler\n",
    "    SN = MinMaxScaler()\n",
    "    X_num_SN = pd.DataFrame(SN.fit_transform(X_num), columns=X_num.columns, index=index)\n",
    "\n",
    "  X_cat_dummies = pd.get_dummies(X_cat)\n",
    "  X_encoded = pd.concat([X_num_SN, X_cat_dummies], axis=1)\n",
    "\n",
    "  return X_encoded, SN \n",
    "\n",
    "# FONCTION 2\n",
    "\n",
    "def evaluate_k(X_encoded, k_range):\n",
    "    \"\"\"\n",
    "    Évalue différentes valeurs de k en utilisant la somme des distances aux voisins\n",
    "    et le score de silhouette comme métriques.\n",
    "\n",
    "    Args:\n",
    "        X_encoded (DataFrame): Données normalisées\n",
    "        k_range (range): Plage de valeurs de k à tester\n",
    "\n",
    "    Returns:\n",
    "        tuple: (distances moyennes, scores de silhouette)\n",
    "    \"\"\"\n",
    "    from sklearn.metrics import silhouette_score\n",
    "    from sklearn.cluster import KMeans\n",
    "\n",
    "    avg_distances = []\n",
    "    silhouette_scores = []\n",
    "\n",
    "    for k in k_range:\n",
    "        # Calcul des distances moyennes pour chaque k\n",
    "        model = NearestNeighbors(n_neighbors=k)\n",
    "        model.fit(X_encoded)\n",
    "        distances, _ = model.kneighbors(X_encoded)\n",
    "        avg_distances.append(np.mean(distances))\n",
    "\n",
    "        # Calcul du score de silhouette\n",
    "        # Nous utilisons KMeans pour créer des clusters et évaluer la qualité\n",
    "        kmeans = KMeans(n_clusters=k, random_state=42)\n",
    "        clusters = kmeans.fit_predict(X_encoded)\n",
    "        if k > 1:  # Le score de silhouette nécessite au moins 2 clusters\n",
    "            silhouette_scores.append(silhouette_score(X_encoded, clusters))\n",
    "        else:\n",
    "            silhouette_scores.append(0)\n",
    "\n",
    "    return avg_distances, silhouette_scores\n",
    "\n",
    "\n",
    "# FONCTION 3\n",
    "\n",
    "def encodage_predict(df_a_predire):\n",
    "  X_num = df_a_predire.select_dtypes('number')\n",
    "  X_cat = df_a_predire.select_dtypes(['object', 'category', 'string'])\n",
    "\n",
    "  X_num_SN = pd.DataFrame(SN.transform(X_num), columns=X_num.columns).reset_index(drop=True)\n",
    "\n",
    "  X_cat_dummies = pd.get_dummies(X_cat).reset_index(drop=True)\n",
    "  X_encoded_predire = pd.concat([X_num_SN, X_cat_dummies], axis=1)\n",
    "\n",
    "  df_predict = X_encoded_predire\n",
    "\n",
    "  # DataFrame vide qui a les mêmes colonnes que X_encoded\n",
    "  df_final = pd.DataFrame(columns=X_encoded.columns)\n",
    "\n",
    "  # On veut que le DataFrame ait le même nombre de lignes que df_predict\n",
    "  df_final = df_final.reindex(index=df_predict.index)\n",
    "  # On met tous les NaN à False\n",
    "  df_final = df_final.fillna(False)\n",
    "\n",
    "  # On parcourt chaque colonne de df_predict\n",
    "  # Si la colonne est présente dans X_encoded alors on la garde\n",
    "  # Sinon, on la met à False\n",
    "  for column in df_predict.columns:\n",
    "    if column in X_encoded.columns:\n",
    "      df_final[column] = df_predict[column]\n",
    "\n",
    "  return df_final\n"
   ]
  },
  {
   "cell_type": "code",
   "execution_count": 107,
   "metadata": {},
   "outputs": [
    {
     "data": {
      "text/plain": [
       "'tt0120915'"
      ]
     },
     "execution_count": 107,
     "metadata": {},
     "output_type": "execute_result"
    }
   ],
   "source": [
    "recherche = 'Star Wars'\n",
    "df[df['title_out_KNN'].str.contains(recherche) == True]\n",
    "\n",
    "ID = df['film_id_out_KNN'][df['title_out_KNN'].str.contains(recherche) == True].iloc[0]\n",
    "ID"
   ]
  },
  {
   "cell_type": "code",
   "execution_count": 109,
   "metadata": {},
   "outputs": [],
   "source": [
    "import warnings\n",
    "warnings.filterwarnings(\"ignore\", category=UserWarning)\n",
    "warnings.filterwarnings(\"ignore\", category=FutureWarning)\n",
    "\n",
    "import pandas as pd\n",
    "import numpy as np\n",
    "# modèle\n",
    "from sklearn.neighbors import NearestNeighbors\n",
    "\n",
    "import seaborn as sns\n",
    "import matplotlib.pyplot as plt\n",
    "\n",
    "df = df\n",
    "\n",
    "caracteristiques = df.columns\n",
    "\n",
    "recherche = 'tt0120915'\n",
    "df_recherche = df[~(df['title_out_KNN'] == recherche)]\n",
    "\n",
    "# FONCTION 1                       \n",
    "\n",
    "X = df_recherche\n",
    "\n",
    "X_encoded, SN = encodage_X(X, type='normalisation')\n"
   ]
  },
  {
   "cell_type": "code",
   "execution_count": 112,
   "metadata": {},
   "outputs": [
    {
     "ename": "",
     "evalue": "",
     "output_type": "error",
     "traceback": [
      "\u001b[1;31mThe Kernel crashed while executing code in the current cell or a previous cell. \n",
      "\u001b[1;31mPlease review the code in the cell(s) to identify a possible cause of the failure. \n",
      "\u001b[1;31mClick <a href='https://aka.ms/vscodeJupyterKernelCrash'>here</a> for more info. \n",
      "\u001b[1;31mView Jupyter <a href='command:jupyter.viewOutput'>log</a> for further details."
     ]
    }
   ],
   "source": [
    "\n",
    "# FONCTION 2\n",
    "\n",
    "# Définition de la plage de k à tester\n",
    "k_range = range(1, 21)  # Test des valeurs de k de 1 à 20\n",
    "\n",
    "# Évaluation des différentes valeurs de k\n",
    "avg_distances, silhouette_scores = evaluate_k(X_encoded, k_range)\n",
    "\n",
    "# Création d'une visualisation pour aider à choisir k\n",
    "plt.figure(figsize=(12, 5))\n",
    "\n",
    "# Premier graphique : Distance moyenne aux voisins\n",
    "plt.subplot(1, 2, 1)\n",
    "plt.plot(k_range, avg_distances, 'bo-')\n",
    "plt.xlabel('Nombre de voisins (k)')\n",
    "plt.ylabel('Distance moyenne aux voisins')\n",
    "plt.title('Distance moyenne en fonction de k')\n",
    "plt.grid(True)\n",
    "\n",
    "# Second graphique : Score de silhouette\n",
    "plt.subplot(1, 2, 2)\n",
    "plt.plot(k_range[1:], silhouette_scores[1:], 'ro-')  # On commence à k=2\n",
    "plt.xlabel('Nombre de voisins (k)')\n",
    "plt.ylabel('Score de silhouette')\n",
    "plt.title('Score de silhouette en fonction de k')\n",
    "plt.grid(True)\n",
    "\n",
    "plt.tight_layout()\n",
    "plt.show()"
   ]
  },
  {
   "cell_type": "code",
   "execution_count": null,
   "metadata": {},
   "outputs": [],
   "source": [
    "# On choisit k\n",
    "k=6\n",
    "\n",
    "model = NearestNeighbors(n_neighbors=k, metric='euclidean')\n",
    "model.fit(X_encoded)"
   ]
  },
  {
   "cell_type": "code",
   "execution_count": null,
   "metadata": {},
   "outputs": [],
   "source": [
    "# FONCTION 3\n",
    "\n",
    "nom_pokemon = 'Mewtwo'\n",
    "caract_pokemon = df[df['Name'] == 'Mewtwo']\n",
    "caract_pokemon = caract_pokemon[caracteristiques]\n",
    "caract_pokemon_encoded = encodage_predict(caract_pokemon)\n",
    "model.kneighbors(caract_pokemon_encoded)\n",
    "distances, indices = model.kneighbors(caract_pokemon_encoded)\n",
    "df_test.iloc[indices[0]]"
   ]
  }
 ],
 "metadata": {
  "kernelspec": {
   "display_name": "base",
   "language": "python",
   "name": "python3"
  },
  "language_info": {
   "codemirror_mode": {
    "name": "ipython",
    "version": 3
   },
   "file_extension": ".py",
   "mimetype": "text/x-python",
   "name": "python",
   "nbconvert_exporter": "python",
   "pygments_lexer": "ipython3",
   "version": "3.12.4"
  }
 },
 "nbformat": 4,
 "nbformat_minor": 2
}
