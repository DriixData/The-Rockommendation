{
 "cells": [
  {
   "cell_type": "code",
   "execution_count": 35,
   "metadata": {},
   "outputs": [],
   "source": [
    "import pandas as pd\n",
    "import numpy as np\n",
    "import ast\n",
    "import warnings\n",
    "warnings.filterwarnings(\"ignore\", category=UserWarning)\n",
    "warnings.filterwarnings(\"ignore\", category=FutureWarning)\n",
    "\n",
    "import pandas as pd\n",
    "import numpy as np\n",
    "# modèle\n",
    "from sklearn.neighbors import NearestNeighbors\n",
    "from sklearn.preprocessing import StandardScaler\n",
    "from sklearn.neighbors import KNeighborsClassifier\n",
    "\n",
    "import seaborn as sns\n",
    "import matplotlib.pyplot as plt"
   ]
  },
  {
   "cell_type": "code",
   "execution_count": 36,
   "metadata": {},
   "outputs": [
    {
     "name": "stderr",
     "output_type": "stream",
     "text": [
      "/var/folders/2b/18xblx_n4lv24wz932vjckrm0000gp/T/ipykernel_1546/2534545640.py:1: DtypeWarning: Columns (2) have mixed types. Specify dtype option on import or set low_memory=False.\n",
      "  df = pd.read_csv('BD/P2_G5_films.csv.gz', compression = 'gzip', na_values = ['\\\\N'])\n"
     ]
    }
   ],
   "source": [
    "df = pd.read_csv('BD/P2_G5_films.csv.gz', compression = 'gzip', na_values = ['\\\\N'])"
   ]
  },
  {
   "cell_type": "code",
   "execution_count": 37,
   "metadata": {},
   "outputs": [],
   "source": [
    "df_films = df\n",
    "\n",
    "df_films['production_companies_name2'] = df_films['production_companies_name'].apply(lambda x: x.replace(\"[\", '').replace(\"]\", '').replace(\"'\", '').replace(\" \", ''))"
   ]
  },
  {
   "cell_type": "code",
   "execution_count": 38,
   "metadata": {},
   "outputs": [],
   "source": [
    "df_films['production_companies_name3'] = df_films['production_companies_name2'].apply(lambda x : x.split(','))"
   ]
  },
  {
   "cell_type": "code",
   "execution_count": 39,
   "metadata": {},
   "outputs": [],
   "source": [
    "tous_les_genres = set()\n",
    "tous_les_genres2 = set()\n",
    "\n",
    "for element in df_films['production_companies_name3']:\n",
    "  tous_les_genres.update(element)"
   ]
  },
  {
   "cell_type": "code",
   "execution_count": 40,
   "metadata": {},
   "outputs": [],
   "source": [
    "tous_les_genres_list = list(tous_les_genres)"
   ]
  },
  {
   "cell_type": "code",
   "execution_count": 41,
   "metadata": {},
   "outputs": [],
   "source": [
    "tous_les_genres_list.remove(\"\")"
   ]
  },
  {
   "cell_type": "code",
   "execution_count": 42,
   "metadata": {},
   "outputs": [],
   "source": [
    "# df_films = df\n",
    "\n",
    "# df_films['production_companies_name2'] = df_films['production_companies_name'].apply(lambda x: x.replace(\"[\", '').replace(\"]\", '').replace(\"'\", ''))\n",
    "\n",
    "# df_films['production_companies_name3'] = df_films['production_companies_name2'].apply(lambda x : x.split(','))\n",
    "\n",
    "# tous_les_genres = set()\n",
    "# tous_les_genres2 = set()\n",
    "\n",
    "# for element in df_films['production_companies_name3']:\n",
    "#   tous_les_genres.update(element)\n",
    "\n",
    "# tous_les_genres_list = list(tous_les_genres)\n",
    "\n",
    "# tous_les_genres_list.remove(\"\")\n",
    "\n",
    "# for n in range(len(tous_les_genres_list)):\n",
    "#   tous_les_genres_list[n] = tous_les_genres_list[n].replace(\" \",\"\")\n",
    "\n",
    "# tous_les_genres2_list = list(tous_les_genres2)\n",
    "# tous_les_genres2_list.remove(\"\")\n",
    "\n",
    "# df_films['production_companies_name4'] = df_films['production_companies_name'].apply(lambda x: x.replace(\" \", ''))\n",
    "\n",
    "new_dict = {}\n",
    "\n",
    "for element in tous_les_genres_list:\n",
    "    if len(df_films[df_films['production_companies_name2'].str.contains(element) == True]) >= 500:\n",
    "      new_dict.update({element : len(df_films[df_films['production_companies_name2'].str.contains(element) == True])})"
   ]
  },
  {
   "cell_type": "code",
   "execution_count": null,
   "metadata": {},
   "outputs": [],
   "source": [
    "new_dict_sorted = dict(sorted(new_dict.items(), key=lambda x:x[1]))"
   ]
  },
  {
   "cell_type": "code",
   "execution_count": null,
   "metadata": {},
   "outputs": [],
   "source": [
    "len(new_dict_sorted)"
   ]
  },
  {
   "cell_type": "code",
   "execution_count": 290,
   "metadata": {},
   "outputs": [],
   "source": [
    "for genre in new_dict_sorted.keys():\n",
    "  df_films[f'production_companies_name_{genre}'] = df_films['production_companies_name4'].apply(lambda x: genre in x)"
   ]
  },
  {
   "cell_type": "code",
   "execution_count": 121,
   "metadata": {},
   "outputs": [],
   "source": [
    "df = df_films"
   ]
  },
  {
   "cell_type": "code",
   "execution_count": 122,
   "metadata": {},
   "outputs": [],
   "source": [
    "# CHOIX DES CARACTERISTIQUES\n",
    "\n",
    "colonnes = df.columns\n",
    "caracteristiques = []\n",
    "\n",
    "for element in colonnes:\n",
    "    if 'out_KNN' not in element:\n",
    "        caracteristiques.append(element)"
   ]
  },
  {
   "cell_type": "code",
   "execution_count": 123,
   "metadata": {},
   "outputs": [],
   "source": [
    "# df_LN = df[df['vote_count_mean'] != 0].drop(['adult', 'production_countries', 'status', 'tagline', 'production_companies_name', 'production_companies_country', 'titleType', 'region', 'Decennie', 'genre', 'final_language', 'popularity', 'year_exact', 'runtime_exact', 'vote_exact', 'arrondi_vote_exact', 'vote_count_mean'], axis = 1)\n",
    "# df_LN_drop_NA = df_LN.dropna()\n",
    "# X = df_LN_drop_NA\n",
    "# y = pd.DataFrame(df_LN_drop_NA)\n",
    "\n",
    "# def encodage_X(X, type='standard'):\n",
    "#   X_num = X.select_dtypes('number')\n",
    "#   X_cat = X.select_dtypes(['object', 'category', 'string'])\n",
    "#   # Comme ça les dates, on n'y touche pas\n",
    "\n",
    "#   if type == 'standard':\n",
    "#     from sklearn.preprocessing import StandardScaler\n",
    "#     SN = StandardScaler()\n",
    "#     X_num_SN = pd.DataFrame(SN.fit_transform(X_num), columns=X_num.columns)\n",
    "\n",
    "#   else:\n",
    "#     from sklearn.preprocessing import MinMaxScaler\n",
    "#     SN = MinMaxScaler()\n",
    "#     X_num_SN = pd.DataFrame(SN.fit_transform(X_num), columns=X_num.columns)\n",
    "\n",
    "#   X_cat_dummies = pd.get_dummies(X_cat)\n",
    "#   X_encoded = pd.concat([X_num_SN.reset_index(), X_cat_dummies.reset_index()], axis=1)\n",
    "\n",
    "#   return X_encoded, SN\n",
    "\n",
    "# X_encoded, SN = encodage_X(X)\n",
    "\n",
    "# from sklearn.model_selection import train_test_split\n",
    "\n",
    "# X_train, X_test, y_train, y_test = train_test_split(X_encoded, y, train_size=0.8)\n",
    "\n",
    "# from sklearn.linear_model import LinearRegression\n",
    "\n",
    "# modele = LinearRegression()\n",
    "\n",
    "# modele.fit(X_train, y_train)\n",
    "\n",
    "# print(f\"Score d'entrainement {modele.score(X_train, y_train)}\")\n",
    "# print(f\"Score de test {modele.score(X_test, y_test)}\")\n",
    "\n",
    "# df_a_predire = df_test[df_test['vote_count_mean'] == 0].drop(['isOriginalTitle', 'ordering', 'film_id', 'id', 'revenue', 'budget', 'backdrop_path', 'homepage', 'overview', 'poster_path', 'status', 'tagline', 'video', 'titleType', 'types', 'attributes'], axis = 1)\n",
    "# df_a_predire = df_a_predire.drap('vote_count_mean', axis = 1)\n",
    "# df_quelonveutpredire = df_a_predire.dropna()\n",
    "\n",
    "# def encodage_predict(df_a_predire):\n",
    "#   X_num = df_a_predire.select_dtypes('number')\n",
    "#   X_cat = df_a_predire.select_dtypes(['object', 'category', 'string'])\n",
    "\n",
    "#   X_num_SN = pd.DataFrame(SN.transform(X_num), columns=X_num.columns).reset_index(drop=True)\n",
    "\n",
    "#   X_cat_dummies = pd.get_dummies(X_cat).reset_index(drop=True)\n",
    "#   X_encoded_predire = pd.concat([X_num_SN.reset_index(), X_cat_dummies.reset_index()], axis=1)\n",
    "\n",
    "#   df_predict = X_encoded_predire\n",
    "\n",
    "#   # DataFrame vide qui a les mêmes colonnes que X_encoded\n",
    "#   df_final = pd.DataFrame(columns=X_encoded.columns)\n",
    "\n",
    "#   # On veut que le DataFrame ait le même nombre de lignes que df_predict\n",
    "#   df_final = df_final.reindex(index=df_predict.index)\n",
    "#   # On met tous les NaN à False\n",
    "#   df_final = df_final.fillna(False)\n",
    "\n",
    "#   # On parcourt chaque colonne de df_predict\n",
    "#   # Si la colonne est présente dans X_encoded alors on la garde\n",
    "#   # Sinon, on la met à False\n",
    "#   for column in df_predict.columns:\n",
    "#     if column in X_encoded.columns:\n",
    "#       df_final[column] = df_predict[column]\n",
    "\n",
    "#   return df_final\n",
    "\n",
    "# df_pour_prediction = encodage_predict(df_quelonveutpredire)\n",
    "\n",
    "# df_quelonveutpredire['prediction'] = modele.predict(df_pour_prediction)\n",
    "# df_quelonveutpredire\n"
   ]
  },
  {
   "cell_type": "markdown",
   "metadata": {},
   "source": [
    "FONCTION JONATHAN"
   ]
  },
  {
   "cell_type": "markdown",
   "metadata": {},
   "source": [
    "FONCTIONS"
   ]
  },
  {
   "cell_type": "code",
   "execution_count": 126,
   "metadata": {},
   "outputs": [],
   "source": [
    "# METTRE UNIQUEMENT POUR LES COLONNES NUMERIQUES\n",
    "\n",
    "poids_list = pd.DataFrame(columns = df.select_dtypes(include = 'number').columns, index = ['poids'])\n",
    "\n",
    "poids = {\n",
    " 'language_fr' : 10,\n",
    " 'popularity' : 10,\n",
    " 'year_exact' : 10,\n",
    " 'Decennie' : 10,\n",
    " 'runtime_exact' : 10,\n",
    " 'vote_exact' : 10,\n",
    " 'arrondi_vote_exact' : 10,\n",
    " 'vote_count_mean' : 10,\n",
    " 'prod_US' : 10,\n",
    " 'prod_FR' : 10\n",
    "}\n",
    "\n",
    "for element in poids_list.columns:\n",
    "    if element in poids.keys():\n",
    "        poids_list[element].iloc[0] = poids[element]\n",
    "    else:\n",
    "        poids_list[element].iloc[0] = 1"
   ]
  },
  {
   "cell_type": "code",
   "execution_count": 127,
   "metadata": {},
   "outputs": [],
   "source": [
    "# FONCTION 1\n",
    "\n",
    "def encodage_X(X, type='standard'):\n",
    "  from sklearn.preprocessing import StandardScaler\n",
    "  index = X.index\n",
    "  X_num = X.select_dtypes('number')\n",
    "  X_cat = X.select_dtypes(['object', 'category', 'string'])\n",
    "\n",
    "  if type == 'standard':\n",
    "    from sklearn.preprocessing import StandardScaler\n",
    "    SN = StandardScaler()\n",
    "    X_num_SN = pd.DataFrame(SN.fit_transform(X_num), columns=X_num.columns)\n",
    "\n",
    "  else:\n",
    "    from sklearn.preprocessing import MinMaxScaler\n",
    "    SN = MinMaxScaler()\n",
    "    X_num_SN = pd.DataFrame(SN.fit_transform(X_num), columns=X_num.columns)\n",
    "\n",
    "  X_num_SN = X_num_SN.mul(poids, axis = 1)\n",
    "  X_cat_dummies = pd.get_dummies(X_cat)\n",
    "  X_encoded = pd.concat([X_num_SN.reset_index(), X_cat_dummies.reset_index()], axis=1)\n",
    "\n",
    "  return X_encoded, SN, X_num_SN, X_cat_dummies\n",
    "\n",
    "# FONCTION 2\n",
    "\n",
    "def evaluate_k(X_encoded, k_range):\n",
    "    \"\"\"\n",
    "    Évalue différentes valeurs de k en utilisant la somme des distances aux voisins\n",
    "    et le score de silhouette comme métriques.\n",
    "\n",
    "    Args:\n",
    "        X_encoded (DataFrame): Données normalisées\n",
    "        k_range (range): Plage de valeurs de k à tester\n",
    "\n",
    "    Returns:\n",
    "        tuple: (distances moyennes, scores de silhouette)\n",
    "    \"\"\"\n",
    "    from sklearn.metrics import silhouette_score\n",
    "    from sklearn.cluster import KMeans\n",
    "\n",
    "    avg_distances = []\n",
    "    silhouette_scores = []\n",
    "\n",
    "    for k in k_range:\n",
    "        # Calcul des distances moyennes pour chaque k\n",
    "        from sklearn.neighbors import NearestNeighbors\n",
    "        model = NearestNeighbors(n_neighbors=k)\n",
    "        model.fit(X_encoded)\n",
    "        distances, _ = model.kneighbors(X_encoded)\n",
    "        avg_distances.append(np.mean(distances))\n",
    "\n",
    "        # Calcul du score de silhouette\n",
    "        # Nous utilisons KMeans pour créer des clusters et évaluer la qualité\n",
    "        kmeans = KMeans(n_clusters=k, random_state=42)\n",
    "        clusters = kmeans.fit_predict(X_encoded)\n",
    "        if k > 1:  # Le score de silhouette nécessite au moins 2 clusters\n",
    "            silhouette_scores.append(silhouette_score(X_encoded, clusters))\n",
    "        else:\n",
    "            silhouette_scores.append(0)\n",
    "\n",
    "    return avg_distances, silhouette_scores\n",
    "\n",
    "# FONCTION 3\n",
    "\n",
    "def encodage_predict(df_a_predire):\n",
    "  X_num = df_a_predire.select_dtypes('number')\n",
    "  X_cat = df_a_predire.select_dtypes(['object', 'category', 'string'])\n",
    "\n",
    "  X_num_SN = pd.DataFrame(SN.transform(X_num), columns=X_num.columns).reset_index(drop=True)\n",
    "\n",
    "  X_cat_dummies = pd.get_dummies(X_cat).reset_index(drop=True)\n",
    "  X_encoded_predire = pd.concat([X_num_SN, X_cat_dummies], axis=1)\n",
    "\n",
    "  df_predict = X_encoded_predire\n",
    "\n",
    "  # DataFrame vide qui a les mêmes colonnes que X_encoded\n",
    "  df_final = pd.DataFrame(columns=X_encoded.columns)\n",
    "\n",
    "  # On veut que le DataFrame ait le même nombre de lignes que df_predict\n",
    "  df_final = df_final.reindex(index=df_predict.index)\n",
    "  # On met tous les NaN à False\n",
    "  df_final = df_final.fillna(False)\n",
    "\n",
    "  # On parcourt chaque colonne de df_predict\n",
    "  # Si la colonne est présente dans X_encoded alors on la garde\n",
    "  # Sinon, on la met à False\n",
    "  for column in df_predict.columns:\n",
    "    if column in X_encoded.columns:\n",
    "      df_final[column] = df_predict[column]\n",
    "\n",
    "  return df_final\n",
    "\n",
    "# FONCTION 4\n",
    "\n",
    "def pokemons_similaires(film_id):\n",
    "\n",
    "  # Vérifier si le Pokémon existe dans le dataset\n",
    "  if film_id not in df['film_id_out_KNN'].values:\n",
    "      return f\"Le Pokémon {film_id} n'est pas dans le dataset.\"\n",
    "\n",
    "  # Récupérer les caractéristiques du Pokémon\n",
    "  pokemon = df[df['film_id_out_KNN'] == film_id]\n",
    "\n",
    "  # Je recopie ce qu'on a fait avant:\n",
    "  caract_pokemon = df[df['film_id_out_KNN'] == film_id][caracteristiques]\n",
    "\n",
    "  caract_pokemon_encoded = encodage_predict(caract_pokemon)\n",
    "\n",
    "  distances, indices = model.kneighbors(caract_pokemon_encoded)\n",
    "\n",
    "  return df.iloc[indices[0]].reset_index(drop=True)"
   ]
  },
  {
   "cell_type": "code",
   "execution_count": 130,
   "metadata": {},
   "outputs": [
    {
     "data": {
      "text/html": [
       "<div>\n",
       "<style scoped>\n",
       "    .dataframe tbody tr th:only-of-type {\n",
       "        vertical-align: middle;\n",
       "    }\n",
       "\n",
       "    .dataframe tbody tr th {\n",
       "        vertical-align: top;\n",
       "    }\n",
       "\n",
       "    .dataframe thead th {\n",
       "        text-align: right;\n",
       "    }\n",
       "</style>\n",
       "<table border=\"1\" class=\"dataframe\">\n",
       "  <thead>\n",
       "    <tr style=\"text-align: right;\">\n",
       "      <th></th>\n",
       "      <th>adult</th>\n",
       "      <th>backdrop_path_out_KNN</th>\n",
       "      <th>homepage_out_KNN</th>\n",
       "      <th>overview_out_KNN</th>\n",
       "      <th>poster_path_out_KNN</th>\n",
       "      <th>status</th>\n",
       "      <th>tagline_out_KNN</th>\n",
       "      <th>production_companies_name</th>\n",
       "      <th>titleType</th>\n",
       "      <th>region</th>\n",
       "      <th>...</th>\n",
       "      <th>production_companies_country_dk</th>\n",
       "      <th>production_companies_country_no</th>\n",
       "      <th>production_companies_country_fr</th>\n",
       "      <th>production_companies_country_my</th>\n",
       "      <th>production_companies_country_gr</th>\n",
       "      <th>production_companies_country_lt</th>\n",
       "      <th>production_companies_country_it</th>\n",
       "      <th>production_companies_country_do</th>\n",
       "      <th>prod_FR</th>\n",
       "      <th>prod_US</th>\n",
       "    </tr>\n",
       "  </thead>\n",
       "  <tbody>\n",
       "  </tbody>\n",
       "</table>\n",
       "<p>0 rows × 393 columns</p>\n",
       "</div>"
      ],
      "text/plain": [
       "Empty DataFrame\n",
       "Columns: [adult, backdrop_path_out_KNN, homepage_out_KNN, overview_out_KNN, poster_path_out_KNN, status, tagline_out_KNN, production_companies_name, titleType, region, title_out_KNN, film_id_out_KNN, final_language_out_KNN, language_fr, popularity, year_exact, Decennie, runtime_exact, vote_exact, arrondi_vote_exact, vote_count_mean, genre_News, genre_War, genre_Romance, genre_History, genre_Science Fiction, genre_Talk-Show, genre_Adventure, genre_Documentary, genre_Biography, genre_Fantasy, genre_Animation, genre_Horror, genre_Sport, genre_TV Movie, genre_Action, genre_Reality-TV, genre_Adult, genre_Music, genre_Comedy, genre_Family, genre_Film-Noir, genre_Western, genre_Musical, genre_Crime, genre_Sci-Fi, genre_Drama, genre_Mystery, genre_Thriller, production_countries_GR, production_countries_ML, production_countries_SO, production_countries_UG, production_countries_TZ, production_countries_WS, production_countries_AF, production_countries_CI, production_countries_YU, production_countries_HN, production_countries_MZ, production_countries_BW, production_countries_TW, production_countries_RU, production_countries_CV, production_countries_SG, production_countries_NZ, production_countries_PT, production_countries_AO, production_countries_AQ, production_countries_BB, production_countries_CO, production_countries_KG, production_countries_MX, production_countries_GB, production_countries_PW, production_countries_SK, production_countries_MU, production_countries_LA, production_countries_MK, production_countries_UY, production_countries_AU, production_countries_TD, production_countries_HU, production_countries_MD, production_countries_BG, production_countries_GE, production_countries_ES, production_countries_JP, production_countries_DJ, production_countries_US, production_countries_SY, production_countries_PM, production_countries_NI, production_countries_TO, production_countries_IQ, production_countries_BR, production_countries_KH, production_countries_JM, production_countries_DK, production_countries_XG, ...]\n",
       "Index: []\n",
       "\n",
       "[0 rows x 393 columns]"
      ]
     },
     "execution_count": 130,
     "metadata": {},
     "output_type": "execute_result"
    }
   ],
   "source": [
    "df[df['title_out_KNN'].str.contains(recherche) == True]"
   ]
  },
  {
   "cell_type": "code",
   "execution_count": 129,
   "metadata": {},
   "outputs": [
    {
     "ename": "IndexError",
     "evalue": "single positional indexer is out-of-bounds",
     "output_type": "error",
     "traceback": [
      "\u001b[0;31m---------------------------------------------------------------------------\u001b[0m",
      "\u001b[0;31mIndexError\u001b[0m                                Traceback (most recent call last)",
      "Cell \u001b[0;32mIn[129], line 7\u001b[0m\n\u001b[1;32m      4\u001b[0m recherche \u001b[38;5;241m=\u001b[39m \u001b[38;5;124m'\u001b[39m\u001b[38;5;124mStar Wars\u001b[39m\u001b[38;5;124m'\u001b[39m\n\u001b[1;32m      5\u001b[0m df[df[\u001b[38;5;124m'\u001b[39m\u001b[38;5;124mtitle_out_KNN\u001b[39m\u001b[38;5;124m'\u001b[39m]\u001b[38;5;241m.\u001b[39mstr\u001b[38;5;241m.\u001b[39mcontains(recherche) \u001b[38;5;241m==\u001b[39m \u001b[38;5;28;01mTrue\u001b[39;00m]\n\u001b[0;32m----> 7\u001b[0m film_id \u001b[38;5;241m=\u001b[39m df[\u001b[38;5;124m'\u001b[39m\u001b[38;5;124mfilm_id_out_KNN\u001b[39m\u001b[38;5;124m'\u001b[39m][df[\u001b[38;5;124m'\u001b[39m\u001b[38;5;124mtitle_out_KNN\u001b[39m\u001b[38;5;124m'\u001b[39m]\u001b[38;5;241m.\u001b[39mstr\u001b[38;5;241m.\u001b[39mcontains(recherche) \u001b[38;5;241m==\u001b[39m \u001b[38;5;28;01mTrue\u001b[39;00m]\u001b[38;5;241m.\u001b[39miloc[\u001b[38;5;241m0\u001b[39m]\n\u001b[1;32m      8\u001b[0m df_a_predire \u001b[38;5;241m=\u001b[39m df[df[\u001b[38;5;124m'\u001b[39m\u001b[38;5;124mfilm_id_out_KNN\u001b[39m\u001b[38;5;124m'\u001b[39m] \u001b[38;5;241m==\u001b[39m film_id]\n\u001b[1;32m     11\u001b[0m \u001b[38;5;66;03m# FONCTION 1\u001b[39;00m\n",
      "File \u001b[0;32m/opt/anaconda3/lib/python3.12/site-packages/pandas/core/indexing.py:1191\u001b[0m, in \u001b[0;36m_LocationIndexer.__getitem__\u001b[0;34m(self, key)\u001b[0m\n\u001b[1;32m   1189\u001b[0m maybe_callable \u001b[38;5;241m=\u001b[39m com\u001b[38;5;241m.\u001b[39mapply_if_callable(key, \u001b[38;5;28mself\u001b[39m\u001b[38;5;241m.\u001b[39mobj)\n\u001b[1;32m   1190\u001b[0m maybe_callable \u001b[38;5;241m=\u001b[39m \u001b[38;5;28mself\u001b[39m\u001b[38;5;241m.\u001b[39m_check_deprecated_callable_usage(key, maybe_callable)\n\u001b[0;32m-> 1191\u001b[0m \u001b[38;5;28;01mreturn\u001b[39;00m \u001b[38;5;28mself\u001b[39m\u001b[38;5;241m.\u001b[39m_getitem_axis(maybe_callable, axis\u001b[38;5;241m=\u001b[39maxis)\n",
      "File \u001b[0;32m/opt/anaconda3/lib/python3.12/site-packages/pandas/core/indexing.py:1752\u001b[0m, in \u001b[0;36m_iLocIndexer._getitem_axis\u001b[0;34m(self, key, axis)\u001b[0m\n\u001b[1;32m   1749\u001b[0m     \u001b[38;5;28;01mraise\u001b[39;00m \u001b[38;5;167;01mTypeError\u001b[39;00m(\u001b[38;5;124m\"\u001b[39m\u001b[38;5;124mCannot index by location index with a non-integer key\u001b[39m\u001b[38;5;124m\"\u001b[39m)\n\u001b[1;32m   1751\u001b[0m \u001b[38;5;66;03m# validate the location\u001b[39;00m\n\u001b[0;32m-> 1752\u001b[0m \u001b[38;5;28mself\u001b[39m\u001b[38;5;241m.\u001b[39m_validate_integer(key, axis)\n\u001b[1;32m   1754\u001b[0m \u001b[38;5;28;01mreturn\u001b[39;00m \u001b[38;5;28mself\u001b[39m\u001b[38;5;241m.\u001b[39mobj\u001b[38;5;241m.\u001b[39m_ixs(key, axis\u001b[38;5;241m=\u001b[39maxis)\n",
      "File \u001b[0;32m/opt/anaconda3/lib/python3.12/site-packages/pandas/core/indexing.py:1685\u001b[0m, in \u001b[0;36m_iLocIndexer._validate_integer\u001b[0;34m(self, key, axis)\u001b[0m\n\u001b[1;32m   1683\u001b[0m len_axis \u001b[38;5;241m=\u001b[39m \u001b[38;5;28mlen\u001b[39m(\u001b[38;5;28mself\u001b[39m\u001b[38;5;241m.\u001b[39mobj\u001b[38;5;241m.\u001b[39m_get_axis(axis))\n\u001b[1;32m   1684\u001b[0m \u001b[38;5;28;01mif\u001b[39;00m key \u001b[38;5;241m>\u001b[39m\u001b[38;5;241m=\u001b[39m len_axis \u001b[38;5;129;01mor\u001b[39;00m key \u001b[38;5;241m<\u001b[39m \u001b[38;5;241m-\u001b[39mlen_axis:\n\u001b[0;32m-> 1685\u001b[0m     \u001b[38;5;28;01mraise\u001b[39;00m \u001b[38;5;167;01mIndexError\u001b[39;00m(\u001b[38;5;124m\"\u001b[39m\u001b[38;5;124msingle positional indexer is out-of-bounds\u001b[39m\u001b[38;5;124m\"\u001b[39m)\n",
      "\u001b[0;31mIndexError\u001b[0m: single positional indexer is out-of-bounds"
     ]
    }
   ],
   "source": [
    "# BASES\n",
    "\n",
    "X = df[caracteristiques]\n",
    "recherche = 'Star Wars'\n",
    "df[df['title_out_KNN'].str.contains(recherche) == True]\n",
    "\n",
    "film_id = df['film_id_out_KNN'][df['title_out_KNN'].str.contains(recherche) == True].iloc[0]\n",
    "df_a_predire = df[df['film_id_out_KNN'] == film_id]\n",
    "\n",
    "\n",
    "# FONCTION 1\n",
    "\n",
    "X_encoded, SN, X_num_SN, X_cat_dummies = encodage_X(X)\n",
    "\n",
    "# FONCTION 2\n",
    "\n",
    "k_range = range(1, 5) \n",
    "avg_distances, silhouette_scores = evaluate_k(X_encoded, k_range)\n",
    "\n",
    "# FONCTION 3\n",
    "\n",
    "df_final = encodage_predict(df_a_predire)\n",
    "\n",
    "# FONCTION 4\n",
    "# On choisit k\n",
    "k=3\n",
    "\n",
    "model = NearestNeighbors(n_neighbors=k, metric='euclidean')\n",
    "model.fit(X_encoded)\n",
    "pokemons_similaires(film_id)"
   ]
  },
  {
   "cell_type": "code",
   "execution_count": 114,
   "metadata": {},
   "outputs": [
    {
     "data": {
      "text/plain": [
       "0                                            With/In\n",
       "1    Diary of the Dead: Chroniques des morts-vivants\n",
       "2                                             Reggie\n",
       "Name: title_out_KNN, dtype: object"
      ]
     },
     "execution_count": 114,
     "metadata": {},
     "output_type": "execute_result"
    }
   ],
   "source": [
    "pokemons_similaires(film_id)['title_out_KNN']"
   ]
  },
  {
   "cell_type": "code",
   "execution_count": 115,
   "metadata": {},
   "outputs": [
    {
     "data": {
      "image/png": "[encoded data removed]",
      "text/plain": [
       "<Figure size 1200x500 with 2 Axes>"
      ]
     },
     "metadata": {},
     "output_type": "display_data"
    }
   ],
   "source": [
    "# Définition de la plage de k à tester\n",
    "\n",
    "\n",
    "# Évaluation des différentes valeurs de k\n",
    "avg_distances, silhouette_scores = evaluate_k(X_encoded, k_range)\n",
    "\n",
    "# Création d'une visualisation pour aider à choisir k\n",
    "plt.figure(figsize=(12, 5))\n",
    "\n",
    "# Premier graphique : Distance moyenne aux voisins\n",
    "plt.subplot(1, 2, 1)\n",
    "plt.plot(k_range, avg_distances, 'bo-')\n",
    "plt.xlabel('Nombre de voisins (k)')\n",
    "plt.ylabel('Distance moyenne aux voisins')\n",
    "plt.title('Distance moyenne en fonction de k')\n",
    "plt.grid(True)\n",
    "\n",
    "# Second graphique : Score de silhouette\n",
    "plt.subplot(1, 2, 2)\n",
    "plt.plot(k_range[1:], silhouette_scores[1:], 'ro-')  # On commence à k=2\n",
    "plt.xlabel('Nombre de voisins (k)')\n",
    "plt.ylabel('Score de silhouette')\n",
    "plt.title('Score de silhouette en fonction de k')\n",
    "plt.grid(True)\n",
    "\n",
    "plt.tight_layout()\n",
    "plt.show()"
   ]
  }
 ],
 "metadata": {
  "kernelspec": {
   "display_name": "base",
   "language": "python",
   "name": "python3"
  },
  "language_info": {
   "codemirror_mode": {
    "name": "ipython",
    "version": 3
   },
   "file_extension": ".py",
   "mimetype": "text/x-python",
   "name": "python",
   "nbconvert_exporter": "python",
   "pygments_lexer": "ipython3",
   "version": "3.12.4"
  }
 },
 "nbformat": 4,
 "nbformat_minor": 2
}
