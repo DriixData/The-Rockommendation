{
 "cells": [
  {
   "cell_type": "code",
   "execution_count": 1,
   "metadata": {},
   "outputs": [],
   "source": [
    "import pandas as pd\n",
    "import datetime as dt\n",
    "import numpy as np\n",
    "import ast"
   ]
  },
  {
   "cell_type": "code",
   "execution_count": 2,
   "metadata": {},
   "outputs": [],
   "source": [
    "# LIEN ACTEURS\n",
    "\n",
    "df_name_basics = pd.read_csv('BD/name.basics.tsv.gz', compression = 'gzip', sep = '\\t')"
   ]
  },
  {
   "cell_type": "code",
   "execution_count": 3,
   "metadata": {},
   "outputs": [],
   "source": [
    "df_name_basics['knownForTitles'] = df_name_basics['knownForTitles'].apply(lambda x : x.split(','))\n",
    "df_name_basics_exp = df_name_basics.explode('knownForTitles')"
   ]
  },
  {
   "cell_type": "code",
   "execution_count": 4,
   "metadata": {},
   "outputs": [],
   "source": [
    "df_name_basics = 0"
   ]
  },
  {
   "cell_type": "code",
   "execution_count": 5,
   "metadata": {},
   "outputs": [],
   "source": [
    "df_title_principals = pd.read_csv('BD/title.principals.tsv.gz', compression = 'gzip', sep = '\\t')"
   ]
  },
  {
   "cell_type": "code",
   "execution_count": 6,
   "metadata": {},
   "outputs": [],
   "source": [
    "df_title_principals = df_title_principals[(df_title_principals['category'] == 'actor') | (df_title_principals['category'] == 'actress') | (df_title_principals['category'] == 'self') | (df_title_principals['category'] == 'director') | (df_title_principals['category'] == 'writer')]"
   ]
  },
  {
   "cell_type": "code",
   "execution_count": 7,
   "metadata": {},
   "outputs": [],
   "source": [
    "df_title_crew = pd.read_csv('BD/title.crew.tsv.gz', compression = 'gzip', sep = '\\t')"
   ]
  },
  {
   "cell_type": "code",
   "execution_count": 8,
   "metadata": {},
   "outputs": [],
   "source": [
    "df_title_crew['directors'] = df_title_crew['directors'].apply(lambda x : x.split(','))\n",
    "df_title_crew['writers'] = df_title_crew['writers'].apply(lambda x : x.split(','))\n",
    "df_title_crew_exp = df_title_crew.explode('directors')\n",
    "df_title_crew_exp = df_title_crew.explode('writers')\n",
    "df_title_crew_exp['directors'] = df_title_crew_exp['directors'].apply(lambda x : ''.join(x))\n",
    "df_title_crew_exp['writers'] = df_title_crew_exp['writers'].apply(lambda x : ''.join(x))"
   ]
  },
  {
   "cell_type": "code",
   "execution_count": 9,
   "metadata": {},
   "outputs": [],
   "source": [
    "df_title_crew = 0"
   ]
  },
  {
   "cell_type": "code",
   "execution_count": 10,
   "metadata": {},
   "outputs": [],
   "source": [
    "df_title_principals_name = pd.merge(df_title_principals,\n",
    "                                    df_name_basics_exp,\n",
    "                                    on = 'nconst',\n",
    "                                    how = 'left')\n",
    "\n",
    "df_title_principals = 0"
   ]
  },
  {
   "cell_type": "code",
   "execution_count": 19,
   "metadata": {},
   "outputs": [],
   "source": [
    "df_title_crew_name = pd.merge(df_title_crew_exp,\n",
    "                                    df_name_basics_exp,\n",
    "                                    right_on = 'nconst',\n",
    "                                    left_on = 'directors',\n",
    "                                    how = 'left')\n",
    "\n",
    "df_title_crew_exp = 0"
   ]
  },
  {
   "cell_type": "code",
   "execution_count": 21,
   "metadata": {},
   "outputs": [],
   "source": [
    "df_title_crew_name = df_title_crew_name.rename(columns = {'primaryName' : 'director_primaryName'})"
   ]
  },
  {
   "cell_type": "code",
   "execution_count": 24,
   "metadata": {},
   "outputs": [],
   "source": [
    "df_title_crew_name2 = pd.merge(df_title_crew_name,\n",
    "                                    df_name_basics_exp,\n",
    "                                    right_on = 'nconst',\n",
    "                                    left_on = 'writers',\n",
    "                                    how = 'left')"
   ]
  },
  {
   "cell_type": "code",
   "execution_count": 25,
   "metadata": {},
   "outputs": [],
   "source": [
    "df_title_crew_name = 0"
   ]
  },
  {
   "cell_type": "code",
   "execution_count": 29,
   "metadata": {},
   "outputs": [],
   "source": [
    "df_title_crew_name2 = df_title_crew_name2.rename(columns = {'primaryName' : 'writers_primaryName'})"
   ]
  }
 ],
 "metadata": {
  "kernelspec": {
   "display_name": "base",
   "language": "python",
   "name": "python3"
  },
  "language_info": {
   "codemirror_mode": {
    "name": "ipython",
    "version": 3
   },
   "file_extension": ".py",
   "mimetype": "text/x-python",
   "name": "python",
   "nbconvert_exporter": "python",
   "pygments_lexer": "ipython3",
   "version": "3.12.4"
  }
 },
 "nbformat": 4,
 "nbformat_minor": 2
}
