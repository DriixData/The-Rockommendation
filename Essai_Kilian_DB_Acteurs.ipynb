{
 "cells": [
  {
   "cell_type": "code",
   "execution_count": 1,
   "metadata": {},
   "outputs": [],
   "source": [
    "import pandas as pd\n",
    "import datetime as dt\n",
    "import numpy as np\n",
    "import ast"
   ]
  },
  {
   "cell_type": "code",
   "execution_count": 25,
   "metadata": {},
   "outputs": [],
   "source": [
    "def acteur_realisateur_name(liste_films, df_name_basics, df_acteurs, df_realisateurs):\n",
    "    \n",
    "    df_name_basics = df_name_basics.drop(['birthYear', 'deathYear', 'primaryProfession'], axis = 1)\n",
    "    df_name_basics = df_name_basics.rename({'knownForTitles' : 'tconst'}, axis = 1)\n",
    "    df_name_basics['tconst'] = df_name_basics['tconst'].apply(lambda x : x.split(','))\n",
    "    df_name_basics['nconst'] = df_name_basics['nconst'].astype(str)\n",
    "    df_name_basics['nconst'] = df_name_basics['nconst'].apply(lambda x : x.replace(' ', ''))\n",
    "    \n",
    "    for element in [df_acteurs, df_realisateurs]:\n",
    "\n",
    "        element = element.drop(['ordering', 'category', 'job', 'characters'], axis = 1)\n",
    "        element['nconst'] = element['nconst'] + ', '\n",
    "        element = element.groupby('tconst').sum()\n",
    "        element = element.reset_index()\n",
    "\n",
    "        element = pd.merge(liste_films,\n",
    "                           element,\n",
    "                           left_on = 'film_id_out_KNN',\n",
    "                           right_on = 'tconst',\n",
    "                           how = 'left')\n",
    "\n",
    "        element = element.drop('film_id_out_KNN', axis = 1)\n",
    "        element['nconst'] = element['nconst'].astype(str)\n",
    "        element['nconst'] = element['nconst'].apply(lambda x : x.split(','))\n",
    "        element = element.explode('nconst')\n",
    "        element['tconst'] = element['tconst'] + ','\n",
    "        element = element.groupby('nconst').sum()\n",
    "        element = element.reset_index()\n",
    "        element = element[~(element['nconst']== ' ')]\n",
    "        element['nconst'] = element['nconst'].astype(str)\n",
    "        element['tconst'] = element['tconst'].astype(str)\n",
    "        element['nconst'] = element['nconst'].apply(lambda x : x.replace(' ', ''))\n",
    "        element['tconst'] = element['tconst'].apply(lambda x : x.replace(' ', ''))\n",
    "\n",
    "    df_acteurs_name = pd.merge(df_acteurs,\n",
    "                               df_name_basics,\n",
    "                               on = 'nconst',\n",
    "                               how = 'left')\n",
    "    \n",
    "    df_realisateurs_name = pd.merge(df_realisateurs,\n",
    "                                    df_name_basics,\n",
    "                                    on = 'nconst',\n",
    "                                    how = 'left')\n",
    "    \n",
    "    for element2 in [df_acteurs_name, df_realisateurs_name]:\n",
    "        element2['tconst_y'] = element2['tconst_y'].astype(str)\n",
    "        element2['tconst'] = element2['tconst_x'] + element2['tconst_y']\n",
    "        element2 = element2[['nconst', 'primaryName', 'tconst']]\n",
    "        element2['tconst'] = element2['tconst'].apply(lambda x : x.replace(' ', '').replace('[', '').replace(']', '').replace(\"'\", ''))\n",
    "        element2['tconst'] = element2['tconst'].apply(lambda x : x.split(','))\n",
    "        element2 = element2.rename({'tconst': 'knownForTitles'}, axis = 1)\n",
    "\n",
    "    df_realisateurs_name = df_realisateurs_name.rename({'nconst': 'realisateurs'}, axis = 1)\n",
    "    df_acteurs_name = df_acteurs_name.rename({'nconst': 'acteur'}, axis = 1)\n",
    "\n",
    "    return df_name_basics, df_acteurs_name, df_realisateurs_name"
   ]
  },
  {
   "cell_type": "markdown",
   "metadata": {},
   "source": [
    "IMPORT DES BASES"
   ]
  },
  {
   "cell_type": "code",
   "execution_count": 3,
   "metadata": {},
   "outputs": [],
   "source": [
    "df_films = pd.read_csv('BD/P2_G5_films.csv.gz', compression = 'gzip')"
   ]
  },
  {
   "cell_type": "code",
   "execution_count": 4,
   "metadata": {},
   "outputs": [],
   "source": [
    "liste_films = pd.DataFrame(df_films['film_id_out_KNN'])"
   ]
  },
  {
   "cell_type": "code",
   "execution_count": 6,
   "metadata": {},
   "outputs": [],
   "source": [
    "liste_films = liste_films.drop_duplicates()"
   ]
  },
  {
   "cell_type": "code",
   "execution_count": 7,
   "metadata": {},
   "outputs": [],
   "source": [
    "df_title_principals = pd.read_csv('BD/title.principals.tsv.gz', compression = 'gzip', sep = '\\t')"
   ]
  },
  {
   "cell_type": "markdown",
   "metadata": {},
   "source": [
    "TABLE ACTEURS"
   ]
  },
  {
   "cell_type": "code",
   "execution_count": 8,
   "metadata": {},
   "outputs": [],
   "source": [
    "df_acteurs = df_title_principals[(df_title_principals['category'] == 'actor') | (df_title_principals['category'] == 'actress') | (df_title_principals['category'] == 'self')]"
   ]
  },
  {
   "cell_type": "markdown",
   "metadata": {},
   "source": [
    "TABLE REALISATEURS"
   ]
  },
  {
   "cell_type": "code",
   "execution_count": 9,
   "metadata": {},
   "outputs": [],
   "source": [
    "df_realisateurs = df_title_principals[df_title_principals['category'] == 'director']"
   ]
  },
  {
   "cell_type": "code",
   "execution_count": 10,
   "metadata": {},
   "outputs": [],
   "source": [
    "df_title_principals = 0"
   ]
  },
  {
   "cell_type": "markdown",
   "metadata": {},
   "source": [
    "TITLE CREW"
   ]
  },
  {
   "cell_type": "code",
   "execution_count": 11,
   "metadata": {},
   "outputs": [],
   "source": [
    "df_title_crew = pd.read_csv('BD/title.crew.tsv.gz', compression = 'gzip', sep = '\\t')"
   ]
  },
  {
   "cell_type": "code",
   "execution_count": 12,
   "metadata": {},
   "outputs": [],
   "source": [
    "df_title_crew = df_title_crew.drop('writers', axis = 1)"
   ]
  },
  {
   "cell_type": "markdown",
   "metadata": {},
   "source": [
    "TITLE CREW"
   ]
  },
  {
   "cell_type": "code",
   "execution_count": 13,
   "metadata": {},
   "outputs": [],
   "source": [
    "df_title_crew = pd.merge(liste_films,\n",
    "                      df_title_crew,\n",
    "                      left_on = 'film_id_out_KNN',\n",
    "                      right_on = 'tconst',\n",
    "                      how = 'left')"
   ]
  },
  {
   "cell_type": "code",
   "execution_count": 14,
   "metadata": {},
   "outputs": [],
   "source": [
    "df_title_crew = df_title_crew.drop('film_id_out_KNN', axis = 1)"
   ]
  },
  {
   "cell_type": "code",
   "execution_count": 15,
   "metadata": {},
   "outputs": [],
   "source": [
    "df_title_crew = df_title_crew.rename({'directors': 'nconst'}, axis = 1)"
   ]
  },
  {
   "cell_type": "code",
   "execution_count": 16,
   "metadata": {},
   "outputs": [],
   "source": [
    "df_title_crew['nconst'] = df_title_crew['nconst'].astype(str)"
   ]
  },
  {
   "cell_type": "code",
   "execution_count": 17,
   "metadata": {},
   "outputs": [],
   "source": [
    "df_title_crew['nconst'] = df_title_crew['nconst'].apply(lambda x : x.split(\",\"))"
   ]
  },
  {
   "cell_type": "code",
   "execution_count": 18,
   "metadata": {},
   "outputs": [],
   "source": [
    "df_title_crew = df_title_crew.explode('nconst')"
   ]
  },
  {
   "cell_type": "code",
   "execution_count": 19,
   "metadata": {},
   "outputs": [],
   "source": [
    "df_title_crew = df_title_crew[~(df_title_crew['nconst'] == \" \")]"
   ]
  },
  {
   "cell_type": "code",
   "execution_count": 20,
   "metadata": {},
   "outputs": [],
   "source": [
    "df_title_crew['tconst'] = df_title_crew['tconst'] + ', '"
   ]
  },
  {
   "cell_type": "code",
   "execution_count": 21,
   "metadata": {},
   "outputs": [],
   "source": [
    "df_title_crew = df_title_crew.groupby('nconst').sum()"
   ]
  },
  {
   "cell_type": "code",
   "execution_count": 22,
   "metadata": {},
   "outputs": [],
   "source": [
    "df_title_crew = df_title_crew.reset_index()"
   ]
  },
  {
   "cell_type": "code",
   "execution_count": null,
   "metadata": {},
   "outputs": [],
   "source": [
    "df_title_crew"
   ]
  },
  {
   "cell_type": "markdown",
   "metadata": {},
   "source": [
    "TITLE CREW OK"
   ]
  },
  {
   "cell_type": "markdown",
   "metadata": {},
   "source": [
    "AJOUT DES NAMES"
   ]
  },
  {
   "cell_type": "code",
   "execution_count": 23,
   "metadata": {},
   "outputs": [],
   "source": [
    "df_name_basics = pd.read_csv('BD/name.basics.tsv.gz', compression = 'gzip', sep = '\\t')"
   ]
  },
  {
   "cell_type": "code",
   "execution_count": null,
   "metadata": {},
   "outputs": [],
   "source": [
    "df_name_basics, df_acteurs_name, df_realisateurs_name = acteur_realisateur_name(liste_films, df_name_basics, df_acteurs, df_realisateurs)"
   ]
  },
  {
   "cell_type": "code",
   "execution_count": 266,
   "metadata": {},
   "outputs": [
    {
     "data": {
      "text/html": [
       "<div>\n",
       "<style scoped>\n",
       "    .dataframe tbody tr th:only-of-type {\n",
       "        vertical-align: middle;\n",
       "    }\n",
       "\n",
       "    .dataframe tbody tr th {\n",
       "        vertical-align: top;\n",
       "    }\n",
       "\n",
       "    .dataframe thead th {\n",
       "        text-align: right;\n",
       "    }\n",
       "</style>\n",
       "<table border=\"1\" class=\"dataframe\">\n",
       "  <thead>\n",
       "    <tr style=\"text-align: right;\">\n",
       "      <th></th>\n",
       "      <th>acteur</th>\n",
       "      <th>primaryName</th>\n",
       "      <th>knownForTitles</th>\n",
       "    </tr>\n",
       "  </thead>\n",
       "  <tbody>\n",
       "    <tr>\n",
       "      <th>0</th>\n",
       "      <td>nm0000001</td>\n",
       "      <td>Fred Astaire</td>\n",
       "      <td>[tt0024025, tt0023926, tt0026942, tt0082449, t...</td>\n",
       "    </tr>\n",
       "    <tr>\n",
       "      <th>1</th>\n",
       "      <td>nm0000002</td>\n",
       "      <td>Lauren Bacall</td>\n",
       "      <td>[tt0337876, tt1626811, tt0095665, tt0042285, t...</td>\n",
       "    </tr>\n",
       "    <tr>\n",
       "      <th>2</th>\n",
       "      <td>nm0000003</td>\n",
       "      <td>Brigitte Bardot</td>\n",
       "      <td>[tt1583255, tt0046200, tt0066857, tt0261050, t...</td>\n",
       "    </tr>\n",
       "    <tr>\n",
       "      <th>3</th>\n",
       "      <td>nm0000004</td>\n",
       "      <td>John Belushi</td>\n",
       "      <td>[tt0077621, tt0072562, tt0077975, tt0080455, t...</td>\n",
       "    </tr>\n",
       "    <tr>\n",
       "      <th>4</th>\n",
       "      <td>nm0000005</td>\n",
       "      <td>Ingmar Bergman</td>\n",
       "      <td>[tt0069467, tt0069467, tt0050986, tt0069467, t...</td>\n",
       "    </tr>\n",
       "    <tr>\n",
       "      <th>...</th>\n",
       "      <td>...</td>\n",
       "      <td>...</td>\n",
       "      <td>...</td>\n",
       "    </tr>\n",
       "    <tr>\n",
       "      <th>179601</th>\n",
       "      <td>nm9980690</td>\n",
       "      <td>Jean Houtin</td>\n",
       "      <td>[tt8714608, tt8714608]</td>\n",
       "    </tr>\n",
       "    <tr>\n",
       "      <th>179602</th>\n",
       "      <td>nm9985724</td>\n",
       "      <td>Andra Guti</td>\n",
       "      <td>[tt8726008, tt8726008, tt0487152]</td>\n",
       "    </tr>\n",
       "    <tr>\n",
       "      <th>179603</th>\n",
       "      <td>nm9987547</td>\n",
       "      <td>Anna Baranova</td>\n",
       "      <td>[tt6436254, tt6436254]</td>\n",
       "    </tr>\n",
       "    <tr>\n",
       "      <th>179604</th>\n",
       "      <td>nm9992659</td>\n",
       "      <td>Daniyar Alshinov</td>\n",
       "      <td>[tt13236334, tt10867768, tt14902026, tt1086776...</td>\n",
       "    </tr>\n",
       "    <tr>\n",
       "      <th>179605</th>\n",
       "      <td>nm9992720</td>\n",
       "      <td>McMagic Cardenas</td>\n",
       "      <td>[tt7233828, tt7233828, tt5922358]</td>\n",
       "    </tr>\n",
       "  </tbody>\n",
       "</table>\n",
       "<p>179606 rows × 3 columns</p>\n",
       "</div>"
      ],
      "text/plain": [
       "           acteur       primaryName  \\\n",
       "0       nm0000001      Fred Astaire   \n",
       "1       nm0000002     Lauren Bacall   \n",
       "2       nm0000003   Brigitte Bardot   \n",
       "3       nm0000004      John Belushi   \n",
       "4       nm0000005    Ingmar Bergman   \n",
       "...           ...               ...   \n",
       "179601  nm9980690       Jean Houtin   \n",
       "179602  nm9985724        Andra Guti   \n",
       "179603  nm9987547     Anna Baranova   \n",
       "179604  nm9992659  Daniyar Alshinov   \n",
       "179605  nm9992720  McMagic Cardenas   \n",
       "\n",
       "                                           knownForTitles  \n",
       "0       [tt0024025, tt0023926, tt0026942, tt0082449, t...  \n",
       "1       [tt0337876, tt1626811, tt0095665, tt0042285, t...  \n",
       "2       [tt1583255, tt0046200, tt0066857, tt0261050, t...  \n",
       "3       [tt0077621, tt0072562, tt0077975, tt0080455, t...  \n",
       "4       [tt0069467, tt0069467, tt0050986, tt0069467, t...  \n",
       "...                                                   ...  \n",
       "179601                             [tt8714608, tt8714608]  \n",
       "179602                  [tt8726008, tt8726008, tt0487152]  \n",
       "179603                             [tt6436254, tt6436254]  \n",
       "179604  [tt13236334, tt10867768, tt14902026, tt1086776...  \n",
       "179605                  [tt7233828, tt7233828, tt5922358]  \n",
       "\n",
       "[179606 rows x 3 columns]"
      ]
     },
     "execution_count": 266,
     "metadata": {},
     "output_type": "execute_result"
    }
   ],
   "source": [
    "df_realisateurs_name"
   ]
  },
  {
   "cell_type": "code",
   "execution_count": null,
   "metadata": {},
   "outputs": [],
   "source": [
    "df_acteurs_name.to_csv('P2_G5_acteurs.csv.gz', index=False, compression='gzip')"
   ]
  },
  {
   "cell_type": "code",
   "execution_count": null,
   "metadata": {},
   "outputs": [],
   "source": [
    "df_realisateurs_name.to_csv('P2_G5_realisateurs.csv.gz', index=False, compression='gzip')"
   ]
  },
  {
   "cell_type": "code",
   "execution_count": 196,
   "metadata": {},
   "outputs": [],
   "source": [
    "df_acteurs = pd.read_csv('BD/P2_G5_acteurs.csv.gz', compression = 'gzip')"
   ]
  },
  {
   "cell_type": "code",
   "execution_count": 197,
   "metadata": {},
   "outputs": [
    {
     "data": {
      "text/html": [
       "<div>\n",
       "<style scoped>\n",
       "    .dataframe tbody tr th:only-of-type {\n",
       "        vertical-align: middle;\n",
       "    }\n",
       "\n",
       "    .dataframe tbody tr th {\n",
       "        vertical-align: top;\n",
       "    }\n",
       "\n",
       "    .dataframe thead th {\n",
       "        text-align: right;\n",
       "    }\n",
       "</style>\n",
       "<table border=\"1\" class=\"dataframe\">\n",
       "  <thead>\n",
       "    <tr style=\"text-align: right;\">\n",
       "      <th></th>\n",
       "      <th>film_id_out_KNN</th>\n",
       "      <th>acteur</th>\n",
       "      <th>nconst</th>\n",
       "      <th>primaryName</th>\n",
       "      <th>knownForTitles</th>\n",
       "    </tr>\n",
       "  </thead>\n",
       "  <tbody>\n",
       "    <tr>\n",
       "      <th>0</th>\n",
       "      <td>tt0040068</td>\n",
       "      <td>nm0007941</td>\n",
       "      <td>nm0007941</td>\n",
       "      <td>Bud Abbott</td>\n",
       "      <td>['tt0033723', 'tt0040068', 'tt0035259', 'tt003...</td>\n",
       "    </tr>\n",
       "    <tr>\n",
       "      <th>1</th>\n",
       "      <td>tt0040068</td>\n",
       "      <td>nm0182579</td>\n",
       "      <td>nm0182579</td>\n",
       "      <td>Lou Costello</td>\n",
       "      <td>['tt0033723', 'tt0041085', 'tt0040652', 'tt003...</td>\n",
       "    </tr>\n",
       "    <tr>\n",
       "      <th>2</th>\n",
       "      <td>tt0040068</td>\n",
       "      <td>nm0001033</td>\n",
       "      <td>nm0001033</td>\n",
       "      <td>Lon Chaney Jr.</td>\n",
       "      <td>['tt0034398', 'tt0044706', 'tt0035899', 'tt004...</td>\n",
       "    </tr>\n",
       "    <tr>\n",
       "      <th>3</th>\n",
       "      <td>tt0040068</td>\n",
       "      <td>nm0000509</td>\n",
       "      <td>nm0000509</td>\n",
       "      <td>Bela Lugosi</td>\n",
       "      <td>['tt0021814', 'tt0024894', 'tt0031951', 'tt002...</td>\n",
       "    </tr>\n",
       "    <tr>\n",
       "      <th>4</th>\n",
       "      <td>tt0040068</td>\n",
       "      <td>nm0833363</td>\n",
       "      <td>nm0833363</td>\n",
       "      <td>Glenn Strange</td>\n",
       "      <td>['tt0047736', 'tt0040068', 'tt3959568', 'tt003...</td>\n",
       "    </tr>\n",
       "    <tr>\n",
       "      <th>...</th>\n",
       "      <td>...</td>\n",
       "      <td>...</td>\n",
       "      <td>...</td>\n",
       "      <td>...</td>\n",
       "      <td>...</td>\n",
       "    </tr>\n",
       "    <tr>\n",
       "      <th>477247</th>\n",
       "      <td>tt9428746</td>\n",
       "      <td>nm1204760</td>\n",
       "      <td>nm1204760</td>\n",
       "      <td>Kevin Alejandro</td>\n",
       "      <td>['tt2193021', 'tt1299368', 'tt0844441', 'tt724...</td>\n",
       "    </tr>\n",
       "    <tr>\n",
       "      <th>477248</th>\n",
       "      <td>tt9428746</td>\n",
       "      <td>nm3322393</td>\n",
       "      <td>nm3322393</td>\n",
       "      <td>Jose Diaz</td>\n",
       "      <td>['tt3401882', 'tt11024272', 'tt21466116', 'tt4...</td>\n",
       "    </tr>\n",
       "    <tr>\n",
       "      <th>477249</th>\n",
       "      <td>tt9428746</td>\n",
       "      <td>nm2790265</td>\n",
       "      <td>nm2790265</td>\n",
       "      <td>Maynor Alvarado</td>\n",
       "      <td>['tt7491982', 'tt0413573', 'tt4655480', 'tt137...</td>\n",
       "    </tr>\n",
       "    <tr>\n",
       "      <th>477250</th>\n",
       "      <td>tt9428746</td>\n",
       "      <td>nm0287168</td>\n",
       "      <td>nm0287168</td>\n",
       "      <td>Marlene Forte</td>\n",
       "      <td>['tt0796366', 'tt2243537', 'tt8946378', 'tt374...</td>\n",
       "    </tr>\n",
       "    <tr>\n",
       "      <th>477251</th>\n",
       "      <td>tt9428746</td>\n",
       "      <td>nm4905066</td>\n",
       "      <td>nm4905066</td>\n",
       "      <td>Isabella Gomez</td>\n",
       "      <td>['tt5339440', 'tt12708514', 'tt7397098', 'tt94...</td>\n",
       "    </tr>\n",
       "  </tbody>\n",
       "</table>\n",
       "<p>477252 rows × 5 columns</p>\n",
       "</div>"
      ],
      "text/plain": [
       "       film_id_out_KNN     acteur     nconst      primaryName  \\\n",
       "0            tt0040068  nm0007941  nm0007941       Bud Abbott   \n",
       "1            tt0040068  nm0182579  nm0182579     Lou Costello   \n",
       "2            tt0040068  nm0001033  nm0001033   Lon Chaney Jr.   \n",
       "3            tt0040068  nm0000509  nm0000509      Bela Lugosi   \n",
       "4            tt0040068  nm0833363  nm0833363    Glenn Strange   \n",
       "...                ...        ...        ...              ...   \n",
       "477247       tt9428746  nm1204760  nm1204760  Kevin Alejandro   \n",
       "477248       tt9428746  nm3322393  nm3322393        Jose Diaz   \n",
       "477249       tt9428746  nm2790265  nm2790265  Maynor Alvarado   \n",
       "477250       tt9428746  nm0287168  nm0287168    Marlene Forte   \n",
       "477251       tt9428746  nm4905066  nm4905066   Isabella Gomez   \n",
       "\n",
       "                                           knownForTitles  \n",
       "0       ['tt0033723', 'tt0040068', 'tt0035259', 'tt003...  \n",
       "1       ['tt0033723', 'tt0041085', 'tt0040652', 'tt003...  \n",
       "2       ['tt0034398', 'tt0044706', 'tt0035899', 'tt004...  \n",
       "3       ['tt0021814', 'tt0024894', 'tt0031951', 'tt002...  \n",
       "4       ['tt0047736', 'tt0040068', 'tt3959568', 'tt003...  \n",
       "...                                                   ...  \n",
       "477247  ['tt2193021', 'tt1299368', 'tt0844441', 'tt724...  \n",
       "477248  ['tt3401882', 'tt11024272', 'tt21466116', 'tt4...  \n",
       "477249  ['tt7491982', 'tt0413573', 'tt4655480', 'tt137...  \n",
       "477250  ['tt0796366', 'tt2243537', 'tt8946378', 'tt374...  \n",
       "477251  ['tt5339440', 'tt12708514', 'tt7397098', 'tt94...  \n",
       "\n",
       "[477252 rows x 5 columns]"
      ]
     },
     "execution_count": 197,
     "metadata": {},
     "output_type": "execute_result"
    }
   ],
   "source": [
    "df_acteurs"
   ]
  },
  {
   "cell_type": "code",
   "execution_count": 83,
   "metadata": {},
   "outputs": [],
   "source": [
    "# df_name_basics['nconst'] = df_name_basics['nconst'] + ', '\n",
    "# df_name_basics = df_name_basics.explode('tconst')\n",
    "# films = df_films['film_id_out_KNN'].to_list()\n",
    "# df_name_basics['films'] = df_name_basics['tconst'].apply(lambda x : x in films)\n",
    "# df_name_basics = df_name_basics[df_name_basics['films'] == True]\n",
    "# df_name_basics = df_name_basics.drop('films', axis = 1)"
   ]
  },
  {
   "cell_type": "markdown",
   "metadata": {},
   "source": [
    "EXPORT"
   ]
  },
  {
   "cell_type": "code",
   "execution_count": null,
   "metadata": {},
   "outputs": [],
   "source": [
    "df_acteurs.to_csv('P2_G5_acteurs.csv.gz', index=False, compression='gzip')"
   ]
  },
  {
   "cell_type": "code",
   "execution_count": null,
   "metadata": {},
   "outputs": [],
   "source": [
    "df_realisateurs.to_csv('P2_G5_realisateurs.csv.gz', index=False, compression='gzip')"
   ]
  }
 ],
 "metadata": {
  "kernelspec": {
   "display_name": "base",
   "language": "python",
   "name": "python3"
  },
  "language_info": {
   "codemirror_mode": {
    "name": "ipython",
    "version": 3
   },
   "file_extension": ".py",
   "mimetype": "text/x-python",
   "name": "python",
   "nbconvert_exporter": "python",
   "pygments_lexer": "ipython3",
   "version": "3.12.4"
  }
 },
 "nbformat": 4,
 "nbformat_minor": 2
}
