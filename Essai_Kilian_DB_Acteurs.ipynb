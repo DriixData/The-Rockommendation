{
 "cells": [
  {
   "cell_type": "code",
   "execution_count": 1,
   "metadata": {},
   "outputs": [],
   "source": [
    "import pandas as pd\n",
    "import datetime as dt\n",
    "import numpy as np\n",
    "import ast"
   ]
  },
  {
   "cell_type": "code",
   "execution_count": 25,
   "metadata": {},
   "outputs": [],
   "source": [
    "def acteur_realisateur_name(liste_films, df_name_basics, df_acteurs, df_realisateurs):\n",
    "    \n",
    "    df_name_basics = df_name_basics.drop(['birthYear', 'deathYear', 'primaryProfession'], axis = 1)\n",
    "    df_name_basics = df_name_basics.rename({'knownForTitles' : 'tconst'}, axis = 1)\n",
    "    df_name_basics['tconst'] = df_name_basics['tconst'].apply(lambda x : x.split(','))\n",
    "    df_name_basics['nconst'] = df_name_basics['nconst'].astype(str)\n",
    "    df_name_basics['nconst'] = df_name_basics['nconst'].apply(lambda x : x.replace(' ', ''))\n",
    "    \n",
    "    for element in [df_acteurs, df_realisateurs]:\n",
    "\n",
    "        element = element.drop(['ordering', 'category', 'job', 'characters'], axis = 1)\n",
    "        element['nconst'] = element['nconst'] + ', '\n",
    "        element = element.groupby('tconst').sum()\n",
    "        element = element.reset_index()\n",
    "\n",
    "        element = pd.merge(liste_films,\n",
    "                           element,\n",
    "                           left_on = 'film_id_out_KNN',\n",
    "                           right_on = 'tconst',\n",
    "                           how = 'left')\n",
    "\n",
    "        element = element.drop('film_id_out_KNN', axis = 1)\n",
    "        element['nconst'] = element['nconst'].astype(str)\n",
    "        element['nconst'] = element['nconst'].apply(lambda x : x.split(','))\n",
    "        element = element.explode('nconst')\n",
    "        element['tconst'] = element['tconst'] + ','\n",
    "        element = element.groupby('nconst').sum()\n",
    "        element = element.reset_index()\n",
    "        element = element[~(element['nconst']== ' ')]\n",
    "        element['nconst'] = element['nconst'].astype(str)\n",
    "        element['tconst'] = element['tconst'].astype(str)\n",
    "        element['nconst'] = element['nconst'].apply(lambda x : x.replace(' ', ''))\n",
    "        element['tconst'] = element['tconst'].apply(lambda x : x.replace(' ', ''))\n",
    "\n",
    "    df_acteurs_name = pd.merge(df_acteurs,\n",
    "                               df_name_basics,\n",
    "                               on = 'nconst',\n",
    "                               how = 'left')\n",
    "    \n",
    "    df_realisateurs_name = pd.merge(df_realisateurs,\n",
    "                                    df_name_basics,\n",
    "                                    on = 'nconst',\n",
    "                                    how = 'left')\n",
    "    \n",
    "    for element2 in [df_acteurs_name, df_realisateurs_name]:\n",
    "        element2['tconst_y'] = element2['tconst_y'].astype(str)\n",
    "        element2['tconst'] = element2['tconst_x'] + element2['tconst_y']\n",
    "        element2 = element2[['nconst', 'primaryName', 'tconst']]\n",
    "        element2['tconst'] = element2['tconst'].apply(lambda x : x.replace(' ', '').replace('[', '').replace(']', '').replace(\"'\", ''))\n",
    "        element2['tconst'] = element2['tconst'].apply(lambda x : x.split(','))\n",
    "        element2 = element2.rename({'tconst': 'knownForTitles'}, axis = 1)\n",
    "\n",
    "    df_realisateurs_name = df_realisateurs_name.rename({'nconst': 'realisateurs'}, axis = 1)\n",
    "    df_acteurs_name = df_acteurs_name.rename({'nconst': 'acteur'}, axis = 1)\n",
    "\n",
    "    return df_name_basics, df_acteurs_name, df_realisateurs_name"
   ]
  },
  {
   "cell_type": "markdown",
   "metadata": {},
   "source": [
    "IMPORT DES BASES"
   ]
  },
  {
   "cell_type": "code",
   "execution_count": 3,
   "metadata": {},
   "outputs": [],
   "source": [
    "df_films = pd.read_csv('BD/P2_G5_films.csv.gz', compression = 'gzip')"
   ]
  },
  {
   "cell_type": "code",
   "execution_count": 4,
   "metadata": {},
   "outputs": [],
   "source": [
    "liste_films = pd.DataFrame(df_films['film_id_out_KNN'])"
   ]
  },
  {
   "cell_type": "code",
   "execution_count": 6,
   "metadata": {},
   "outputs": [],
   "source": [
    "liste_films = liste_films.drop_duplicates()"
   ]
  },
  {
   "cell_type": "code",
   "execution_count": 7,
   "metadata": {},
   "outputs": [],
   "source": [
    "df_title_principals = pd.read_csv('BD/title.principals.tsv.gz', compression = 'gzip', sep = '\\t')"
   ]
  },
  {
   "cell_type": "markdown",
   "metadata": {},
   "source": [
    "TABLE ACTEURS"
   ]
  },
  {
   "cell_type": "code",
   "execution_count": 8,
   "metadata": {},
   "outputs": [],
   "source": [
    "df_acteurs = df_title_principals[(df_title_principals['category'] == 'actor') | (df_title_principals['category'] == 'actress') | (df_title_principals['category'] == 'self')]"
   ]
  },
  {
   "cell_type": "markdown",
   "metadata": {},
   "source": [
    "TABLE REALISATEURS"
   ]
  },
  {
   "cell_type": "code",
   "execution_count": 9,
   "metadata": {},
   "outputs": [],
   "source": [
    "df_realisateurs = df_title_principals[df_title_principals['category'] == 'director']"
   ]
  },
  {
   "cell_type": "code",
   "execution_count": 10,
   "metadata": {},
   "outputs": [],
   "source": [
    "df_title_principals = 0"
   ]
  },
  {
   "cell_type": "markdown",
   "metadata": {},
   "source": [
    "TITLE CREW"
   ]
  },
  {
   "cell_type": "code",
   "execution_count": 11,
   "metadata": {},
   "outputs": [],
   "source": [
    "df_title_crew = pd.read_csv('BD/title.crew.tsv.gz', compression = 'gzip', sep = '\\t')"
   ]
  },
  {
   "cell_type": "code",
   "execution_count": 12,
   "metadata": {},
   "outputs": [],
   "source": [
    "df_title_crew = df_title_crew.drop('writers', axis = 1)"
   ]
  },
  {
   "cell_type": "markdown",
   "metadata": {},
   "source": [
    "TITLE CREW"
   ]
  },
  {
   "cell_type": "code",
   "execution_count": 13,
   "metadata": {},
   "outputs": [],
   "source": [
    "df_title_crew = pd.merge(liste_films,\n",
    "                      df_title_crew,\n",
    "                      left_on = 'film_id_out_KNN',\n",
    "                      right_on = 'tconst',\n",
    "                      how = 'left')"
   ]
  },
  {
   "cell_type": "code",
   "execution_count": 14,
   "metadata": {},
   "outputs": [],
   "source": [
    "df_title_crew = df_title_crew.drop('film_id_out_KNN', axis = 1)"
   ]
  },
  {
   "cell_type": "code",
   "execution_count": 15,
   "metadata": {},
   "outputs": [],
   "source": [
    "df_title_crew = df_title_crew.rename({'directors': 'nconst'}, axis = 1)"
   ]
  },
  {
   "cell_type": "code",
   "execution_count": 16,
   "metadata": {},
   "outputs": [],
   "source": [
    "df_title_crew['nconst'] = df_title_crew['nconst'].astype(str)"
   ]
  },
  {
   "cell_type": "code",
   "execution_count": 17,
   "metadata": {},
   "outputs": [],
   "source": [
    "df_title_crew['nconst'] = df_title_crew['nconst'].apply(lambda x : x.split(\",\"))"
   ]
  },
  {
   "cell_type": "code",
   "execution_count": 18,
   "metadata": {},
   "outputs": [],
   "source": [
    "df_title_crew = df_title_crew.explode('nconst')"
   ]
  },
  {
   "cell_type": "code",
   "execution_count": 19,
   "metadata": {},
   "outputs": [],
   "source": [
    "df_title_crew = df_title_crew[~(df_title_crew['nconst'] == \" \")]"
   ]
  },
  {
   "cell_type": "code",
   "execution_count": 20,
   "metadata": {},
   "outputs": [],
   "source": [
    "df_title_crew['tconst'] = df_title_crew['tconst'] + ', '"
   ]
  },
  {
   "cell_type": "code",
   "execution_count": 21,
   "metadata": {},
   "outputs": [],
   "source": [
    "df_title_crew = df_title_crew.groupby('nconst').sum()"
   ]
  },
  {
   "cell_type": "code",
   "execution_count": 22,
   "metadata": {},
   "outputs": [],
   "source": [
    "df_title_crew = df_title_crew.reset_index()"
   ]
  },
  {
   "cell_type": "code",
   "execution_count": null,
   "metadata": {},
   "outputs": [],
   "source": [
    "df_title_crew"
   ]
  },
  {
   "cell_type": "markdown",
   "metadata": {},
   "source": [
    "TITLE CREW OK"
   ]
  },
  {
   "cell_type": "markdown",
   "metadata": {},
   "source": [
    "AJOUT DES NAMES"
   ]
  },
  {
   "cell_type": "code",
   "execution_count": 23,
   "metadata": {},
   "outputs": [],
   "source": [
    "df_name_basics = pd.read_csv('BD/name.basics.tsv.gz', compression = 'gzip', sep = '\\t')"
   ]
  },
  {
   "cell_type": "code",
   "execution_count": null,
   "metadata": {},
   "outputs": [],
   "source": [
    "df_name_basics, df_acteurs_name, df_realisateurs_name = acteur_realisateur_name(liste_films, df_name_basics, df_acteurs, df_realisateurs)"
   ]
  },
  {
   "cell_type": "code",
   "execution_count": null,
   "metadata": {},
   "outputs": [],
   "source": [
    "df_acteurs_name"
   ]
  },
  {
   "cell_type": "code",
   "execution_count": 196,
   "metadata": {},
   "outputs": [],
   "source": [
    "df_acteurs_old = pd.read_csv('BD/P2_G5_acteurs.csv.gz', compression = 'gzip')"
   ]
  },
  {
   "cell_type": "code",
   "execution_count": null,
   "metadata": {},
   "outputs": [],
   "source": [
    "df_acteurs_old"
   ]
  },
  {
   "cell_type": "code",
   "execution_count": 83,
   "metadata": {},
   "outputs": [],
   "source": [
    "# df_name_basics['nconst'] = df_name_basics['nconst'] + ', '\n",
    "# df_name_basics = df_name_basics.explode('tconst')\n",
    "# films = df_films['film_id_out_KNN'].to_list()\n",
    "# df_name_basics['films'] = df_name_basics['tconst'].apply(lambda x : x in films)\n",
    "# df_name_basics = df_name_basics[df_name_basics['films'] == True]\n",
    "# df_name_basics = df_name_basics.drop('films', axis = 1)"
   ]
  },
  {
   "cell_type": "markdown",
   "metadata": {},
   "source": [
    "EXPORT"
   ]
  },
  {
   "cell_type": "code",
   "execution_count": null,
   "metadata": {},
   "outputs": [],
   "source": [
    "df_acteurs_name.to_csv('P2_G5_acteurs.csv.gz', index=False, compression='gzip')\n",
    "df_realisateurs_name.to_csv('P2_G5_realisateurs.csv.gz', index=False, compression='gzip')"
   ]
  }
 ],
 "metadata": {
  "kernelspec": {
   "display_name": "base",
   "language": "python",
   "name": "python3"
  },
  "language_info": {
   "codemirror_mode": {
    "name": "ipython",
    "version": 3
   },
   "file_extension": ".py",
   "mimetype": "text/x-python",
   "name": "python",
   "nbconvert_exporter": "python",
   "pygments_lexer": "ipython3",
   "version": "3.12.4"
  }
 },
 "nbformat": 4,
 "nbformat_minor": 2
}
